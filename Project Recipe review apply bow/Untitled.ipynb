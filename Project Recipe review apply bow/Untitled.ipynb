{
 "cells": [
  {
   "cell_type": "code",
   "execution_count": 1,
   "id": "f792937b-dfc0-4dba-bc66-1ac0223fc838",
   "metadata": {},
   "outputs": [],
   "source": [
    "import pandas as  pd\n",
    "import numpy as np\n",
    "store=pd.read_csv('Recipe Reviews and User Feedback Dataset.csv')\n"
   ]
  },
  {
   "cell_type": "code",
   "execution_count": 3,
   "id": "f9695133-ec5e-482e-a95a-29c1c77552ab",
   "metadata": {},
   "outputs": [
    {
     "data": {
      "text/html": [
       "<div>\n",
       "<style scoped>\n",
       "    .dataframe tbody tr th:only-of-type {\n",
       "        vertical-align: middle;\n",
       "    }\n",
       "\n",
       "    .dataframe tbody tr th {\n",
       "        vertical-align: top;\n",
       "    }\n",
       "\n",
       "    .dataframe thead th {\n",
       "        text-align: right;\n",
       "    }\n",
       "</style>\n",
       "<table border=\"1\" class=\"dataframe\">\n",
       "  <thead>\n",
       "    <tr style=\"text-align: right;\">\n",
       "      <th></th>\n",
       "      <th>Unnamed: 0</th>\n",
       "      <th>recipe_number</th>\n",
       "      <th>recipe_code</th>\n",
       "      <th>recipe_name</th>\n",
       "      <th>comment_id</th>\n",
       "      <th>user_id</th>\n",
       "      <th>user_name</th>\n",
       "      <th>user_reputation</th>\n",
       "      <th>created_at</th>\n",
       "      <th>reply_count</th>\n",
       "      <th>thumbs_up</th>\n",
       "      <th>thumbs_down</th>\n",
       "      <th>stars</th>\n",
       "      <th>best_score</th>\n",
       "      <th>text</th>\n",
       "    </tr>\n",
       "  </thead>\n",
       "  <tbody>\n",
       "    <tr>\n",
       "      <th>0</th>\n",
       "      <td>0</td>\n",
       "      <td>1</td>\n",
       "      <td>14299</td>\n",
       "      <td>Creamy White Chili</td>\n",
       "      <td>sp_aUSaElGf_14299_c_2G3aneMRgRMZwXqIHmSdXSG1hEM</td>\n",
       "      <td>u_9iFLIhMa8QaG</td>\n",
       "      <td>Jeri326</td>\n",
       "      <td>1</td>\n",
       "      <td>1665619889</td>\n",
       "      <td>0</td>\n",
       "      <td>0</td>\n",
       "      <td>0</td>\n",
       "      <td>5</td>\n",
       "      <td>527</td>\n",
       "      <td>I tweaked it a little, removed onions because ...</td>\n",
       "    </tr>\n",
       "    <tr>\n",
       "      <th>1</th>\n",
       "      <td>1</td>\n",
       "      <td>1</td>\n",
       "      <td>14299</td>\n",
       "      <td>Creamy White Chili</td>\n",
       "      <td>sp_aUSaElGf_14299_c_2FsPC83HtzCsQAtOxlbL6RcaPbY</td>\n",
       "      <td>u_Lu6p25tmE77j</td>\n",
       "      <td>Mark467</td>\n",
       "      <td>50</td>\n",
       "      <td>1665277687</td>\n",
       "      <td>0</td>\n",
       "      <td>7</td>\n",
       "      <td>0</td>\n",
       "      <td>5</td>\n",
       "      <td>724</td>\n",
       "      <td>Bush used to have a white chili bean and it ma...</td>\n",
       "    </tr>\n",
       "    <tr>\n",
       "      <th>2</th>\n",
       "      <td>2</td>\n",
       "      <td>1</td>\n",
       "      <td>14299</td>\n",
       "      <td>Creamy White Chili</td>\n",
       "      <td>sp_aUSaElGf_14299_c_2FPrSGyTv7PQkZq37j92r9mYGkP</td>\n",
       "      <td>u_s0LwgpZ8Jsqq</td>\n",
       "      <td>Barbara566</td>\n",
       "      <td>10</td>\n",
       "      <td>1664404557</td>\n",
       "      <td>0</td>\n",
       "      <td>3</td>\n",
       "      <td>0</td>\n",
       "      <td>5</td>\n",
       "      <td>710</td>\n",
       "      <td>I have a very complicated white chicken chili ...</td>\n",
       "    </tr>\n",
       "    <tr>\n",
       "      <th>3</th>\n",
       "      <td>3</td>\n",
       "      <td>1</td>\n",
       "      <td>14299</td>\n",
       "      <td>Creamy White Chili</td>\n",
       "      <td>sp_aUSaElGf_14299_c_2DzdSIgV9qNiuBaLoZ7JQaartoC</td>\n",
       "      <td>u_fqrybAdYjgjG</td>\n",
       "      <td>jeansch123</td>\n",
       "      <td>1</td>\n",
       "      <td>1661787808</td>\n",
       "      <td>2</td>\n",
       "      <td>2</td>\n",
       "      <td>0</td>\n",
       "      <td>0</td>\n",
       "      <td>581</td>\n",
       "      <td>In your introduction, you mentioned cream chee...</td>\n",
       "    </tr>\n",
       "    <tr>\n",
       "      <th>4</th>\n",
       "      <td>4</td>\n",
       "      <td>1</td>\n",
       "      <td>14299</td>\n",
       "      <td>Creamy White Chili</td>\n",
       "      <td>sp_aUSaElGf_14299_c_2DtZJuRQYeTFwXBoZRfRhBPEXjI</td>\n",
       "      <td>u_XXWKwVhKZD69</td>\n",
       "      <td>camper77</td>\n",
       "      <td>10</td>\n",
       "      <td>1664913823</td>\n",
       "      <td>1</td>\n",
       "      <td>7</td>\n",
       "      <td>0</td>\n",
       "      <td>0</td>\n",
       "      <td>820</td>\n",
       "      <td>Wonderful! I made this for a &amp;#34;Chili/Stew&amp;#...</td>\n",
       "    </tr>\n",
       "    <tr>\n",
       "      <th>...</th>\n",
       "      <td>...</td>\n",
       "      <td>...</td>\n",
       "      <td>...</td>\n",
       "      <td>...</td>\n",
       "      <td>...</td>\n",
       "      <td>...</td>\n",
       "      <td>...</td>\n",
       "      <td>...</td>\n",
       "      <td>...</td>\n",
       "      <td>...</td>\n",
       "      <td>...</td>\n",
       "      <td>...</td>\n",
       "      <td>...</td>\n",
       "      <td>...</td>\n",
       "      <td>...</td>\n",
       "    </tr>\n",
       "    <tr>\n",
       "      <th>18177</th>\n",
       "      <td>114</td>\n",
       "      <td>100</td>\n",
       "      <td>82745</td>\n",
       "      <td>Mamaw Emily’s Strawberry Cake</td>\n",
       "      <td>sp_aUSaElGf_82745_c_331352</td>\n",
       "      <td>u_1oKblS4ULpTAACUTILo0QlO5mrN</td>\n",
       "      <td>WhittierCA</td>\n",
       "      <td>1</td>\n",
       "      <td>1622717977</td>\n",
       "      <td>0</td>\n",
       "      <td>0</td>\n",
       "      <td>0</td>\n",
       "      <td>5</td>\n",
       "      <td>100</td>\n",
       "      <td>This Strawberry Cake has been a family favorit...</td>\n",
       "    </tr>\n",
       "    <tr>\n",
       "      <th>18178</th>\n",
       "      <td>115</td>\n",
       "      <td>100</td>\n",
       "      <td>82745</td>\n",
       "      <td>Mamaw Emily’s Strawberry Cake</td>\n",
       "      <td>sp_aUSaElGf_82745_c_204836</td>\n",
       "      <td>u_1oKY7CKLaFQpI3cBCVaxHXAEGbt</td>\n",
       "      <td>susieswan</td>\n",
       "      <td>1</td>\n",
       "      <td>1613036720</td>\n",
       "      <td>0</td>\n",
       "      <td>0</td>\n",
       "      <td>0</td>\n",
       "      <td>5</td>\n",
       "      <td>100</td>\n",
       "      <td>&lt;p&gt;I received endless compliments on this cake...</td>\n",
       "    </tr>\n",
       "    <tr>\n",
       "      <th>18179</th>\n",
       "      <td>116</td>\n",
       "      <td>100</td>\n",
       "      <td>82745</td>\n",
       "      <td>Mamaw Emily’s Strawberry Cake</td>\n",
       "      <td>sp_aUSaElGf_82745_c_301178</td>\n",
       "      <td>u_1oKXBAuHbMDi9nnriVAbJoPqpeQ</td>\n",
       "      <td>blajr</td>\n",
       "      <td>1</td>\n",
       "      <td>1622717844</td>\n",
       "      <td>0</td>\n",
       "      <td>0</td>\n",
       "      <td>0</td>\n",
       "      <td>5</td>\n",
       "      <td>100</td>\n",
       "      <td>This cake was delicious and so moist! I didn&amp;#...</td>\n",
       "    </tr>\n",
       "    <tr>\n",
       "      <th>18180</th>\n",
       "      <td>117</td>\n",
       "      <td>100</td>\n",
       "      <td>82745</td>\n",
       "      <td>Mamaw Emily’s Strawberry Cake</td>\n",
       "      <td>sp_aUSaElGf_82745_c_180512</td>\n",
       "      <td>u_1oKVbnueXfnlmYWuYH8xJ0mFxNQ</td>\n",
       "      <td>cafritz</td>\n",
       "      <td>1</td>\n",
       "      <td>1622717233</td>\n",
       "      <td>0</td>\n",
       "      <td>0</td>\n",
       "      <td>0</td>\n",
       "      <td>5</td>\n",
       "      <td>100</td>\n",
       "      <td>I just made this too.  It is wonderful.  As fo...</td>\n",
       "    </tr>\n",
       "    <tr>\n",
       "      <th>18181</th>\n",
       "      <td>118</td>\n",
       "      <td>100</td>\n",
       "      <td>82745</td>\n",
       "      <td>Mamaw Emily’s Strawberry Cake</td>\n",
       "      <td>sp_aUSaElGf_82745_c_262637</td>\n",
       "      <td>u_1oKW6W12cOLxiMzjA7j8nTqwFWG</td>\n",
       "      <td>nopalito</td>\n",
       "      <td>1</td>\n",
       "      <td>1622717625</td>\n",
       "      <td>0</td>\n",
       "      <td>1</td>\n",
       "      <td>0</td>\n",
       "      <td>5</td>\n",
       "      <td>193</td>\n",
       "      <td>OMG, you must make this cake. I made it for my...</td>\n",
       "    </tr>\n",
       "  </tbody>\n",
       "</table>\n",
       "<p>18182 rows × 15 columns</p>\n",
       "</div>"
      ],
      "text/plain": [
       "       Unnamed: 0  recipe_number  recipe_code                    recipe_name  \\\n",
       "0               0              1        14299             Creamy White Chili   \n",
       "1               1              1        14299             Creamy White Chili   \n",
       "2               2              1        14299             Creamy White Chili   \n",
       "3               3              1        14299             Creamy White Chili   \n",
       "4               4              1        14299             Creamy White Chili   \n",
       "...           ...            ...          ...                            ...   \n",
       "18177         114            100        82745  Mamaw Emily’s Strawberry Cake   \n",
       "18178         115            100        82745  Mamaw Emily’s Strawberry Cake   \n",
       "18179         116            100        82745  Mamaw Emily’s Strawberry Cake   \n",
       "18180         117            100        82745  Mamaw Emily’s Strawberry Cake   \n",
       "18181         118            100        82745  Mamaw Emily’s Strawberry Cake   \n",
       "\n",
       "                                            comment_id  \\\n",
       "0      sp_aUSaElGf_14299_c_2G3aneMRgRMZwXqIHmSdXSG1hEM   \n",
       "1      sp_aUSaElGf_14299_c_2FsPC83HtzCsQAtOxlbL6RcaPbY   \n",
       "2      sp_aUSaElGf_14299_c_2FPrSGyTv7PQkZq37j92r9mYGkP   \n",
       "3      sp_aUSaElGf_14299_c_2DzdSIgV9qNiuBaLoZ7JQaartoC   \n",
       "4      sp_aUSaElGf_14299_c_2DtZJuRQYeTFwXBoZRfRhBPEXjI   \n",
       "...                                                ...   \n",
       "18177                       sp_aUSaElGf_82745_c_331352   \n",
       "18178                       sp_aUSaElGf_82745_c_204836   \n",
       "18179                       sp_aUSaElGf_82745_c_301178   \n",
       "18180                       sp_aUSaElGf_82745_c_180512   \n",
       "18181                       sp_aUSaElGf_82745_c_262637   \n",
       "\n",
       "                             user_id   user_name  user_reputation  created_at  \\\n",
       "0                     u_9iFLIhMa8QaG     Jeri326                1  1665619889   \n",
       "1                     u_Lu6p25tmE77j     Mark467               50  1665277687   \n",
       "2                     u_s0LwgpZ8Jsqq  Barbara566               10  1664404557   \n",
       "3                     u_fqrybAdYjgjG  jeansch123                1  1661787808   \n",
       "4                     u_XXWKwVhKZD69    camper77               10  1664913823   \n",
       "...                              ...         ...              ...         ...   \n",
       "18177  u_1oKblS4ULpTAACUTILo0QlO5mrN  WhittierCA                1  1622717977   \n",
       "18178  u_1oKY7CKLaFQpI3cBCVaxHXAEGbt   susieswan                1  1613036720   \n",
       "18179  u_1oKXBAuHbMDi9nnriVAbJoPqpeQ       blajr                1  1622717844   \n",
       "18180  u_1oKVbnueXfnlmYWuYH8xJ0mFxNQ     cafritz                1  1622717233   \n",
       "18181  u_1oKW6W12cOLxiMzjA7j8nTqwFWG    nopalito                1  1622717625   \n",
       "\n",
       "       reply_count  thumbs_up  thumbs_down  stars  best_score  \\\n",
       "0                0          0            0      5         527   \n",
       "1                0          7            0      5         724   \n",
       "2                0          3            0      5         710   \n",
       "3                2          2            0      0         581   \n",
       "4                1          7            0      0         820   \n",
       "...            ...        ...          ...    ...         ...   \n",
       "18177            0          0            0      5         100   \n",
       "18178            0          0            0      5         100   \n",
       "18179            0          0            0      5         100   \n",
       "18180            0          0            0      5         100   \n",
       "18181            0          1            0      5         193   \n",
       "\n",
       "                                                    text  \n",
       "0      I tweaked it a little, removed onions because ...  \n",
       "1      Bush used to have a white chili bean and it ma...  \n",
       "2      I have a very complicated white chicken chili ...  \n",
       "3      In your introduction, you mentioned cream chee...  \n",
       "4      Wonderful! I made this for a &#34;Chili/Stew&#...  \n",
       "...                                                  ...  \n",
       "18177  This Strawberry Cake has been a family favorit...  \n",
       "18178  <p>I received endless compliments on this cake...  \n",
       "18179  This cake was delicious and so moist! I didn&#...  \n",
       "18180  I just made this too.  It is wonderful.  As fo...  \n",
       "18181  OMG, you must make this cake. I made it for my...  \n",
       "\n",
       "[18182 rows x 15 columns]"
      ]
     },
     "execution_count": 3,
     "metadata": {},
     "output_type": "execute_result"
    }
   ],
   "source": [
    "store"
   ]
  },
  {
   "cell_type": "code",
   "execution_count": null,
   "id": "9c347a1d-0212-423f-ae6a-fbbdac81544e",
   "metadata": {},
   "outputs": [],
   "source": [
    "\n",
    "# on realisticlly solving\n"
   ]
  },
  {
   "cell_type": "code",
   "execution_count": 11,
   "id": "830d8b47-682b-45d9-aaea-68d303f6ae0b",
   "metadata": {},
   "outputs": [
    {
     "data": {
      "text/plain": [
       "0        I tweaked it a little, removed onions because ...\n",
       "1        Bush used to have a white chili bean and it ma...\n",
       "2        I have a very complicated white chicken chili ...\n",
       "3        In your introduction, you mentioned cream chee...\n",
       "4        Wonderful! I made this for a &#34;Chili/Stew&#...\n",
       "                               ...                        \n",
       "18177    This Strawberry Cake has been a family favorit...\n",
       "18178    <p>I received endless compliments on this cake...\n",
       "18179    This cake was delicious and so moist! I didn&#...\n",
       "18180    I just made this too.  It is wonderful.  As fo...\n",
       "18181    OMG, you must make this cake. I made it for my...\n",
       "Name: text, Length: 18182, dtype: object"
      ]
     },
     "execution_count": 11,
     "metadata": {},
     "output_type": "execute_result"
    }
   ],
   "source": [
    "x=store['text']\n",
    "x"
   ]
  },
  {
   "cell_type": "code",
   "execution_count": 13,
   "id": "3f80c089-b773-4968-8456-b2227dec3faf",
   "metadata": {},
   "outputs": [],
   "source": [
    "# get first 100 sentences\n",
    "sen_100=[]\n",
    "for val in range(2):\n",
    "    sen_100.append(x[val])"
   ]
  },
  {
   "cell_type": "code",
   "execution_count": 17,
   "id": "c79e5d19-9c71-4924-b790-5cec9081071f",
   "metadata": {},
   "outputs": [
    {
     "data": {
      "text/plain": [
       "['I tweaked it a little, removed onions because of onion haters in my house, used Italian seasoning instead of just oregano, and use a paprika/ cayenne mix and a little more than the recipe called for.. we like everything a bit more hot. The chili was amazing! It was easy to make and everyone absolutely loved it. It will now be a staple meal in our house.',\n",
       " 'Bush used to have a white chili bean and it made this recipe super simple. I’ve written to them and asked them to please!, bring them back']"
      ]
     },
     "execution_count": 17,
     "metadata": {},
     "output_type": "execute_result"
    }
   ],
   "source": [
    "sen_100"
   ]
  },
  {
   "cell_type": "code",
   "execution_count": 33,
   "id": "6662e19a-8ee8-4504-855c-889769e6f320",
   "metadata": {},
   "outputs": [],
   "source": [
    "# remove the re and apply the stemming\n",
    "import nltk\n",
    "from nltk.corpus import stopwords\n",
    "from nltk.stem import PorterStemmer\n",
    "# import nltk.corpus import stopwords\n",
    "stemmer=PorterStemmer()"
   ]
  },
  {
   "cell_type": "code",
   "execution_count": null,
   "id": "83310a5a-282a-4065-9430-676b753d1e51",
   "metadata": {},
   "outputs": [],
   "source": [
    "words=[]\n",
    "for val in sen_100:\n",
    "    words=nltk.word_tokenize(val)\n",
    "    for word in words:\n",
    "        if (word not in stopwords.words('english')):\n",
    "            \n",
    "            words.append(stemmer.stem(word))"
   ]
  },
  {
   "cell_type": "code",
   "execution_count": null,
   "id": "9b7df9d4-0a0c-423d-82cf-ea38a232a7f3",
   "metadata": {},
   "outputs": [],
   "source": [
    "words"
   ]
  },
  {
   "cell_type": "code",
   "execution_count": null,
   "id": "222f6ab9-2df7-45be-be3f-3b6313e99e2a",
   "metadata": {},
   "outputs": [],
   "source": [
    "# my own logic"
   ]
  },
  {
   "cell_type": "code",
   "execution_count": 5,
   "id": "a91f4fc2-8006-4986-ae48-ef7455e93496",
   "metadata": {},
   "outputs": [
    {
     "data": {
      "text/plain": [
       "pandas.core.series.Series"
      ]
     },
     "execution_count": 5,
     "metadata": {},
     "output_type": "execute_result"
    }
   ],
   "source": [
    "#make a corpus by removing the stopwords\n",
    "store.shape\n",
    "x=store['text']\n",
    "type(x)"
   ]
  },
  {
   "cell_type": "code",
   "execution_count": 7,
   "id": "c0f0a92c-9e7a-4de2-86dd-01b20fc34e4f",
   "metadata": {},
   "outputs": [
    {
     "name": "stdout",
     "output_type": "stream",
     "text": [
      "18182\n"
     ]
    },
    {
     "data": {
      "text/plain": [
       "'I tweaked it a little, removed onions because of onion haters in my house, used Italian seasoning instead of just oregano, and use a paprika/ cayenne mix and a little more than the recipe called for.. we like everything a bit more hot. The chili was amazing! It was easy to make and everyone absolutely loved it. It will now be a staple meal in our house.  '"
      ]
     },
     "execution_count": 7,
     "metadata": {},
     "output_type": "execute_result"
    }
   ],
   "source": [
    "paragph=''\n",
    "for wow in range(100):\n",
    "    paragph+=str(x[wow])+'.'\n",
    "\n",
    "    \n",
    "    # paragph+=x[wow]+'.'\n",
    "    \n",
    "type(x[0])\n",
    "print(len(x))\n",
    "x[0]+\"  \"\n"
   ]
  },
  {
   "cell_type": "code",
   "execution_count": null,
   "id": "24c25718-9c45-4d25-a8fc-0a842e6dbe19",
   "metadata": {},
   "outputs": [],
   "source": [
    "\n",
    "# now i have a sentense i have to now remove stopwords, apply the lemitization on it and then will go to the bow and tf-idf\n"
   ]
  },
  {
   "cell_type": "code",
   "execution_count": null,
   "id": "2de85568-2c99-452b-b52e-0ad63d0382de",
   "metadata": {},
   "outputs": [],
   "source": [
    "\n",
    "#----------------------------       STOPWORDS REMOVE  -----------------------------\n",
    "    "
   ]
  },
  {
   "cell_type": "code",
   "execution_count": 142,
   "id": "9a30b133-7391-4de0-a293-709ce5970614",
   "metadata": {},
   "outputs": [
    {
     "data": {
      "text/plain": [
       "'I tweaked it a little, removed onions because of onion haters in my house, used Italian seasoning instead of just oregano, and use a paprika/ cayenne mix and a little more than the recipe called for.. we like everything a bit more hot. The chili was amazing! It was easy to make and everyone absolutely loved it. It will now be a staple meal in our house..Bush used to have a white chili bean and it made this recipe super simple. I’ve written to them and asked them to please!, bring them back.I have a very complicated white chicken chili recipe that I have made for years. Everyone raves over it. I saw this recipe and thought I’d try it as an easy alternative for weeknights. My husband likes this recipe better! Super easy and delicious! I did cut back slightly on the crushed oregano and cayenne pepper, otherwise I made it exactly as written..In your introduction, you mentioned cream cheese but there is none listed in the ingredients!.Wonderful! I made this for a &#34;Chili/Stew&#34; night dinner at our church and everyone wanted the recipe.  We make it quite often at home and it&#39;s always a hit. I also use a freshly made rotisserie chicken which adds to the flavor..amazing! my boyfriend loved it so much! going to make it again this week!.Wow!!!  This recipe is excellent as written!!  The only change I made was that I used a 40 oz. jar of great northern beans.  It tastes so good, with just the right amount of heat!!!.This is delicious and I make it often. One such time was when our daughter, her husband and their two sons  were visiting us from Virginia. I made a double batch and served it for dinner one evening and it really made a hit. Since there was a small amount left I put the leftover in the refrigerator. I walked into the kitchen the next morning to see our son in law with a big bowl of it headed for the microwave, which puzzled me. He gave me a big smile and told me it was the first thing he thought of when he woke up that morning and that was his breakfast. I give this soup 5 stars!.I absolutely love this recipe. I&#39;ve tweaked it quite a bit. When I want a spicier chili, I exchange the green chilis for canned diced jalapenos. It&#39;s SO GOOD that way. I also add an extra 4oz can of green chilis/diced jalapenos to it every time I make it. It does not double well, but have made 1.5 times the recipe and it&#39;s great for extra large crowds/plenty of leftovers. It&#39;s a great snow day recipe, I&#39;ve made it 3 times these past 2 weeks!.I make this a lot … my kids and there friends come over and ask me to make this all the time ...Best and easiest white chili recipe..Best white chili recipe I&#39;ve had! I served it up with Fritos, sharp cheddar, sour cream, and chopped green onions. Delish!.This recipe was excellent!! I added the cream cheese and it was the perfect comfort food. I usually make individual portions and freeze it, but this was eaten everyday for 3 days. Exceptional!.I made this alongside a traditional chili for a winter gathering and this chili stole the show. I was expecting leftovers for additional meals during the week, but nope, no leftovers. It’s mild, but there’s always ways to spice it up if that’s your preference.  If you’re thinking about it, just do it!  It’s easy, fast, warming, and delicious. Oh, and might as well double it. I did..Fantastic, but mild. I added half a Carolina Reaper. Delish! The hubby  said he detested white chili. As this was simmering, hubby said &#34;Boy, that sure smells great! When do we eat?&#34; He asked me to make more to freeze for later. LOL!.This is a fabulous recipe!.Delicious, If you like a mild chilli taste this is for you!😍 really would recommend making it!.made according to directions, DELISH!!!!.My new favorite soup! Oh my! So delicious!.This is a hit in my house. I have been making it for a few years now.  I typically  double the recipe as written, adding only a can or two of sweet corn.  We always eat this with jiffy cornbread. Absolutely a favorite..Delicious!!!   A huge hit with family and friends.  Several requests to make again.  And share recipe!!! \\nThank you!!!!.This is our go-to chicken chili recipe and has been for years. We love it and it&#39;s so simple..Very good!! Easy recipe … first time followed exactly but I added flour to chicken and onion mixture to help thicken and did not add cream cheese. Made a second time with no mild chilies and only a few shakes of cayenne and it was still good! Liked it less spicy! But will make again! Other in family liked it too!.This is just White Chicken Chili with I first experinced eating at at local restaurant in Indianapolis which was recommended to me by the waiter. It&#39;s delicious! But that is what it is called - White Chicken Chili..WOW! Total WOW! Totally delicious. 5 stars plus..Wonderful recipe as written! Only change I made was I used rotisserie chicken because I always have it on hand in my freezer as a time saver. Even my husband who said chili can&#39;t be white said to make sure to keep this recipe!  Thanks Laura for making him a believer!.I make this for my son-in-law for when he has to work cold winter nights in Michigan.  He loves it!  Instead of green chiles, I changed to Hatch Green Chiles to give it a little kick.  You can use as much or as little depending on how you like it..EXCELLENT RECIPE!! This will be on regular rotation..I don&#39;t change a thing in this recipe, it&#39;sperfect as directed.  I found it in my Taste of Home cookbook years ago and have been making it ever since. I don&#39;t even look for other recipes because why mess with perfection.  I was just diagnosed with gluten intolerance and thankfully this recipe is.     *** my ex-husband would not eat chicken so my son made it with pork (also delicious). He still used chicken stock but the ex didn&#39;t know that!   ***.I would make this soup again.  It was a hit.  I would only add 1 can of green chilis when I make it again.  The leftovers were pretty hot..This was absolutely DELICIOUS! It was my first time making chili, and I loved it.  It turned out a lot more soupy than I expected,  and I even mashed up a cup of the beans like the recipe said.  I think next time I make this, I won&#39;t add the cream to see 9f that makes thicker. But is super yummy, even if it is more of a soup/stew. ? Yummm!.Outstanding just the way it is!.I’ve made this chili for several years and follow the recipe as written. I use chicken tenderloins and heavy cream and sour cream.  “If it’s not broken don’t fix it”.  It’s the perfect comfort food on a cold day!  The tortilla chips go perfectly and a grilled cheese on the side doesn’t hurt either  (especially if made with home made pimento cheese)!.This is the best chili recipe, I have gotten 3 blue ribbons making it for company cook offs, Last year mad it for a Halloween party and it got RAVE reviews, this year the party was banned 9but we had it anyway) and the local police officer came to the party in the uniform and said &#34;I won&#39;t say anything if I get some of that chili you made last year&#34;.   LOL.This was EXCELLENT! I only had 1 can of  chili’s so I opened a can of jalapenos and added a teaspoon.  I threw it all in the Ninja Foodie and put it under pressure for 20 mins with quick release. THEN I added the sour cream and whipping cream. I served with crisp tortillas and shredded cheese. It was loved by all, even my granddaughter. I will be making this again! Oh, I didn’t have great northern beans so I used two cans of white beans. Turned out perfect..This is one of the few recipes I use where I don’t change the ingredients. Love it..I didn&#39;t see cream cheese in the recipe, but it was in the description so I added it toward the end.  I added a little Adobo seasoning and used my own dried cayenne,  also added diced tomatoes with  green chili&#39;s, otherwise made the recipe as written. It was fabulous. A forever keeper. Thank you!!.been making this for my family for a couple decades now, and it&#39;s always gotten rave reviews.  I do add real garlic along with the chicken, garlic powder, and onion to sauté, before adding the rest of the ingredients.  In the past I&#39;ve substituted evaporated skim milk for the heavy cream, and it turns out well that way, too.  I cut back on the cayenne for my own reasons, but my daughter loved it full strength.  Probably going to be making this recipe for another couple decades as well..Delicious. I added a can of diced tomatoes with green chilis, and it turned out great!.The best, while iit is &#34;hot&#39; it is not a long lasting hoe..This was my first attempt at a white chili and was a little disappointed.  I added 8 oz of cream cheese instead of the sour cream and didn&#39;t like the resulting flavor.  Should have followed the recipe.  I will tinker with this some more, but all in all a very easy quick recipe..We LOVE this recipe and fix it often!  I even make it to take to people when they need a meal.  A couple of things, I use unsalted chicken stock (the 32 oz box) instead of the broth and instead of the sour cream and heavy cream, I use a 12 oz container of Gandy&#39;s French Onion or Green Chili Dip.  It just adds a little depth in flavor that we enjoy!.This is my all-time favorite white chili recipe. I make it as is except I will add a can of hominy and occasionally substitute pork for the chicken.  Great with a spoonful of pico as well.  So good!!.I doubled the recipe. I also substituted the sour cream with cream cheese, added corn and bell peppers. Topped with sour cream, cilantro, shredded cheddar, and fritos! I am sooo very satisfied!.Where&#39;s the cream cheese in the recipe? It says it&#39;s so good from the cream cheese. Was that a misprint?.i made this last night for dinner. It went together very fast and based on another reviewer, I added 8 ounces of cream cheese instead of the sour cream. I accidently added too much cayenne so I did offer sour cream at the table along with shredded cheese. Personally, I am not much of a fan of beans of any kind, but this chili was good. The only problem was it did not make enough for the hearty appetites for all the people at the table. Next time I make this I will double the recipe. But this is a keeper even by my standards..Delicious!!  First time ever making a white chili and this one delivered in every way.  Fantastic as is, didnt change a thing.  Will be a favorite keeper for me!! Thanks for sharing!.I changed this a little.  I added carrots, potatoes and substituted coconut cream for the cream.  I also left out the cumin.  The creamy mix of the sour cream and cream made this soup delicious..I made this for movie night with a few friends.  It got rave reviews and I thought it was yummy.  On advice of previous reviews I used cream cheese instead of sour cream.  I also popped a whole jalapeno in for the cooking process and fished it out and discarded when cooking was complete.  Made it a day ahead of time.  The one person in the group who doesn&#39;t like heat said it was just right.  This is definitely going into my file of favorites!.I add creme cheese and more creme. I also roast my chicken breasts in the oven and then pull and dice the meat. I have won 3 chili cook-offs with my version!  :).We have been making this for years now and its hands down our favorite chili recipe.  One thing I love about it is that you can substitute low fat versions of the cream/sour cream and its still just as good.  I&#39;ve even used skim milk in place of the whipping cream with no problems!   We always serve it with the  Zucchini &amp; Cheese Drop biscuits.  To die for!.This recipe is awesome. Made it iver 10 times now. A big hit with the family!.Is there cream cheese or no?.Very delicious and easy to make!!.Im making this for dinner tonight, but I&#39;m a little confused, you said it was sooo good because of the cream cheese, but there is no cream cheese in the recipe? Do i need it?.This recipe is amazing. I’ve been making it for years. Ignore the rude and ignorant comments from those who have yet to actually make it. If you want spicy feel free to add as much or as little of the cayenne pepper or jalapeños with or without seeds to your liking. That’s the beauty of cooking at home. One tip I will give, if you want an extra creamy texture, add the creams in right away and let simmer until reduced..Easy and tasty!.This is the best white chili I’ve ever had. It is a hit with this family, old and young.  I always think I might have some for a few days, but it never lasts that long. He never gets tired of it and neither do I!.My absolute favorite chili recipe, it’s so easy and delicious! I added half a can of corn and a little hot sauce to the recipe and it’s amazing!!.Made this just as the recipie called for and it was delicious! Hubby loves it as well, will be making it again soon!.Family favorite for many years. I’ve share this recipe with family.So easy and flavorful, will be a new regular recipe in my house.I have made this for several years. It is definitely a favorite in this house. I&#39;ll need to double it in the future..We&#39;ve made this several times through the years, and it never disappoints!  Also, recipe doubles well..For those asking about the cream cheese, they changed the recipe online. It used to have cream cheese in place of the sour cream. I’ve made this recipe for years. I always look it up before I buy the ingredients to make sure I don’t miss anything. I search by “white chicken chili cream cheese ” to make sure I pull up this recipe. I was surprised to see sour cream now, especially because they specifically mention cream cheese in the description. I will continue to make it with the cream cheese because this is a family favorite and I don’t want to change what’s not broken. I make this close to the post recipe, but I do slow cook it on the stove with boneless skinless chicken breast and I also add cilantro when I mix in the cream and cream cheese. My picky boys love it!.This is the BEST white chicken chili I have ever tasted.  Everyone loved it and I am asked to make it all the time.  I am confused, however, by the little note at the beginning of the recipe which reads &#34;Maybe it&#39;s the cream cheese&#34;.  Am I missing something?  I don&#39;t see cream cheese in the ingredients list anywhere.  Sounds like it would be good, though.  I highly recommend this chili!.I make this every year for Thanksgiving. I substitute turkey and turkey broth instead of chicken. Everyone loves it!!! If i miss a year making it, the family is complaining and wanting it..Very tasty and quite simple to make.For those who are asking about cream cheese,  it&#39;s not stated as cream cheese.  The heavy whipping cream is what they are referring to when saying to add cream..This is a very easy recipe that delivers excellent results.  Could not get over how good it was.  Will make again..Where is the cream cheese that&#39;s mentioned? It&#39;s not listed in the ingredients or directions..I&#39;m confused - in the description it says &#34;maybe it&#39;s the cream cheese&#34;.  I can&#39;t find and cream cheese listed in the ingredients..This is a very good recipe. If needed it&#39;s easy to change it. I had to make some changes. I cannot have beans so I didn&#39;t put them in. I didn&#39;t have green chili so I added a can of tomatoes with green chillies. It came out great. I love recipes that can be changed to fit the person. Will be making this again..Oh my gosh ..so good!, I substituted canelli beans because I like them better.  I added just one can of green Chile’s and NO heavy whipping cream (or no substitute for it).  Like others suggested for thicker chili-like texture I added one tablespoon of flour to chicken.Delicious, and easy to make. I followed the recipe with only tiny tweeks. I didnt have any cumin so i used a little chili powder instead. I also used just a little garlic, only because we are both sensitive to it, but if you are not, then go for it. Im sure it would add a lot.  I didn&#39;t have sharp cheddar so i used 4 cheese Mecican blend shredded. Worked fine. But these were minor tweeks and I&#39;m sure it is fabulous just as written too. Mine was plenty thick so i dont know why some people felt theirs was too thin.  I did set out the 2 creams when i first started the dish so they wouldn&#39;t be so cold. When ready to add them i stirred a couple teaspoon of the hot chili into each to warm them up before adding so they wouldnt curdle. I will defimitely make this again. Thanks for sharing this delicious recipe..I gave this 4 stars because I followed this recipe to a T but omitting the sour cream and heavy whip. I mashed 1 can of beans to thicken the soul and added fresh garlic along with the powdered garlic. I also added more seasoning to my taste of each. I did add about 1 cup of the shredded cheese to the soup as well. I also added some frozen corn and cilantro to the soup as well as adding cilantro as a topping. This soup was amazing ??.This was hands down the most delicious white chili I have ever had! I did not add tortilla chips and only used 1 can of the green chili’s and it was perfect!.I didn&#39;t change  a single thing!! Love it!!.I LOVELOVELOVE white chicken chili and play around with recipes for it often! This was Good! I did change/add quite a bit, but my favorite too to share is this: I saw a lot of people thickening with flour and gagged a little, lol! As a southern cook, my grandma taught me long ago to slowly sprinkle in instant mashed potatoe flakes to soups, etc! You don&#39;t taste the potato, it thickens Instantly and No Lumps!! Anyway... here&#39;s my other many, many tweaks: I used a cold store-bought chicken and sauteed a large, chopped Vidalia onion, half of a chopped red bell pepper, and added fresh, minced garlic to the veggies once they were softened. I didn&#39;t have green chiles, so I added two (Drained!!!) cans of Diced tomatoes with green chiles (one mild and one &#34;Mexican&#34; flavored, YUM!) Also, I had 2 cans of Canellini beans (white kidney beans) instead of great northern. As far as spice... I doubled or tripled the cumin- we like that flavor a LOT- and added a few handfuls of chopped cilantro. Also I seasoned the sauteing veg mix with the yellow Adobo and the Sazon Completa seasonings. Served this with chips, Monterey Jack cheese, guacamole and LOTS more fresh cilantro! So good but...sorry this was so long!.Very good. I wonder if it once had cream cheese and taste of home changed the recipe.  I prefer it with navy beans that are smaller. I also used canned chicken from Costco because that’s what I had. I used fat free cream cheese along with the whipping cream, and then I stirred the cheddar cheese in at the end..The description says &#34;Maybe it&#39;s the cream cheese! &#34; Where is the cream cheese in the recipe ingredients? It says sour cream and whipping cream, NOT cream cheese..This was just excellent.  I used half a pound of dry beans that I had cooked in my instant pot, as well as shredded chicken from bone-in thighs (also cooked in the pressure cooker).  Didn&#39;t want to use heavy cream, so I just used a little milk and thickened with a couple of tablespoons of masa harina.  I also shaved off a few calories with fat-free sour cream.  Still very creamy and delicious.  Probably could have added another can of green chiles, and may just do that next time I make a batch of this..So good! I doubled the recipe. Mine came out very thick because I blended 1/2 the beans with the chicken broth, then added the rest of the beans. I may need to add a splash of water in each serving. I could go a little hotter next time. I got a large jalapeño so only put in one, minced mine. Maybe 2 next time. Used rotisserie chicken as a shortcut. Really delicious tho!.Very good recipe.  you do need to add a couple of teaspoons of cornstarch to it in order to thicken it up.  I did omit the green chiles in order to control the heat.  they can be added when served if you like it to be more spicy.  Good for me without the chiles.  I also love to eat regular chili served over rice.  I did the same with this and it was great..I found this recipe about a month ago and my boyfriend is obsessed. He made me bring it to Thanksgiving dinner and it was a huge hit. He&#39;s having me make it again tonight for his birthday lol It really is the best chili ever..Made this for the first time, last night.  Read all the reviews first. However, followed the exact recipe,  Results:  Thinner than desired, but quickly fixed that with the great suggestion of 1 to 2 Tbls flour.  Served with Tortilla chips. Great flavor, big hit with the husband!  Will make again with rotisserie chicken and replace the whipping cream and sour cream with cream cheese.  Unless a thinner chili is preferred, use the flour as other reviews suggest..This is an absolutely delicious recipe. I actually tripled the recipe and added about 1 cup grated parmesan cheese. It was not as thick as I would have liked it to be and was more like a soup than a chili but nonetheless,  it was extremely flavorful and tasty!! I will definitely make this again!!.This is a really good recipe.  I made it for the first time last night -- need a white chili recipe to take to a gathering.  I got a lot of compliments on it, and several requests for the recipe.  I added minced garlic to it, and additional chicken broth.  Next time, I&#39;ll probably triple the recipe -- as written, the yield is pretty small..I LOVE this recipe. I use 1.5-2 pounds of shredded chicken instead of cubed. Perfect for dipping tortilla chips in as well..It was a little TOO CREAMY for me..BEST RECIPE EVER!! We all loved it, and I have some picky eaters! Thank you for sharing !! So yummy and easy to make. I didn’t delete anything but added red pepper. Even without that change it would be amazing!! Thank you for sharing! A new family fav!! Yesss!!.Excellent - I took the advice of a previous review and added 1 TBSP of flour to the chicken onion garlic mix. I used two Jalapenos instead of the canned chilies. I had to puree the beans only because my DH doesn&#39;t like the bean texture and I used butter beans.  Lastly, I used 4 oz of cream cheese I had left in the fridge and a splash of heavy cream.  EXCELLENT..Greta recipe. Used a rotisserie chicken when I made it..Excellent recipe! Easy and quick. A keeper! Next time I may add some frozen corn. Joyce Moynihan, Volunteer Field Editor.So I read the reviews before making this. I have never made white chili before but we tend to like our soups more like stew and our chili super thick. So after the chicken, onions and garlic (I used fresh garlic) were cooked I added two TBSP of flour and all the seasonings to the pot, stirred it in to coat the meat and let it cook for a couple minutes. Then I added the broth, chiles and three cans of beans. Finally I replaced the sour cream and whipping cream with cream cheese. SO Yummy!.Loved it!! Had a perfect little spice..I made this chili for our Super Bowl party.  Everyone raved about how good it was and requested the recipe.  The only thing I did differently was simmered it all day so the flavors could meld and the chicken would be super tender.  It&#39;s not a real thick chili but that could easily be remedied by adding a little cornstarch, if that bothers you.  Otherwise, this is a delicious recipe and I&#39;m so glad I gave it a try.  It&#39;s a keeper!  :).Yum! If you like really thick chili, I would suggest cutting back on the stock and sour cream/whipping cream a bit (and maybe the cayenne pepper too then) or adding a bit of cornstarch to thicken or pureeing a portion as other reviewers mentioned, but we thought it was really good as written! Just the right spiciness- I can&#39;t tolerate much heat but this leaves just a little &#39;bite&#39; in your mouth after eating it. (Or...if it&#39;s too thin- maybe you&#39;re not simmering it long enough with the lid off?).This was terrible.  I followed the recipe exactly.  It tasted fine until I added the sour cream and whipping cream.  Then, it turned into a thin, white, flavorless soup.  Do not bother..My family loves the chili.  I thought the beans might scare my little ones so I blended it in my immersion blender a bit.  The second time I made it, I did not blend and everyone enjoyed it and requested seconds.  Great recipe.  Thanks for sharing..'"
      ]
     },
     "execution_count": 142,
     "metadata": {},
     "output_type": "execute_result"
    }
   ],
   "source": [
    "(paragph)"
   ]
  },
  {
   "cell_type": "code",
   "execution_count": 144,
   "id": "cffa2a58-6c77-4916-b8e9-56d950484204",
   "metadata": {},
   "outputs": [],
   "source": [
    "import re\n",
    "sen=paragph.lower()\n",
    "sen=re.sub('[^A-Z a-z]','',paragph)"
   ]
  },
  {
   "cell_type": "code",
   "execution_count": 146,
   "id": "9596ec46-a392-4368-aafd-45399cc900e0",
   "metadata": {},
   "outputs": [
    {
     "name": "stdout",
     "output_type": "stream",
     "text": [
      "23184\n"
     ]
    }
   ],
   "source": [
    "print(len(sen))\n",
    "# sen"
   ]
  },
  {
   "cell_type": "code",
   "execution_count": null,
   "id": "4bf846ec-1982-4fc1-9144-5619af3888fd",
   "metadata": {},
   "outputs": [],
   "source": []
  },
  {
   "cell_type": "code",
   "execution_count": null,
   "id": "6c084325-538a-4ef8-aaaf-bced8cb88614",
   "metadata": {},
   "outputs": [],
   "source": [
    "\n",
    "# NOW APPLY  THE  stopwords  ON IT\n"
   ]
  },
  {
   "cell_type": "code",
   "execution_count": 156,
   "id": "fd3a940c-d88a-4404-859c-8a3ecb77d877",
   "metadata": {},
   "outputs": [],
   "source": [
    "import nltk\n",
    "from nltk.corpus import stopwords"
   ]
  },
  {
   "cell_type": "code",
   "execution_count": 172,
   "id": "661b6fd8-f6a7-4dbb-8688-7c751c5e6b13",
   "metadata": {},
   "outputs": [
    {
     "name": "stdout",
     "output_type": "stream",
     "text": [
      "4572\n"
     ]
    }
   ],
   "source": [
    "# NOW APPLY THE STOPWORDS REMOVEL ON IT\n",
    "split_array=sen.split(' ')\n",
    "# print((wow))\n",
    "print(len(split_array))\n",
    "# split_array\n"
   ]
  },
  {
   "cell_type": "code",
   "execution_count": 164,
   "id": "5062ffd3-0f82-4241-98c5-b41876b8a63b",
   "metadata": {},
   "outputs": [
    {
     "name": "stdout",
     "output_type": "stream",
     "text": [
      "2810\n"
     ]
    }
   ],
   "source": [
    "new_array=[]\n",
    "for val in split_array:\n",
    "    if (val not in stopwords.words('english')):\n",
    "        new_array.append(val)\n",
    "\n",
    "print(len(new_array))"
   ]
  },
  {
   "cell_type": "code",
   "execution_count": 168,
   "id": "f117dd9a-df4d-4d39-a23f-87dbbe04cfaa",
   "metadata": {},
   "outputs": [
    {
     "name": "stdout",
     "output_type": "stream",
     "text": [
      "2810\n",
      "['I', 'tweaked', 'little', 'removed', 'onions', 'onion', 'haters', 'house', 'used', 'Italian', 'seasoning', 'instead', 'oregano', 'use', 'paprika', 'cayenne', 'mix', 'little', 'recipe', 'called', 'like', 'everything', 'bit', 'hot', 'The', 'chili', 'amazing', 'It', 'easy', 'make', 'everyone', 'absolutely', 'loved', 'It', 'staple', 'meal', 'houseBush', 'used', 'white', 'chili', 'bean', 'made', 'recipe', 'super', 'simple', 'Ive', 'written', 'asked', 'please', 'bring', 'backI', 'complicated', 'white', 'chicken', 'chili', 'recipe', 'I', 'made', 'years', 'Everyone', 'raves', 'I', 'saw', 'recipe', 'thought', 'Id', 'try', 'easy', 'alternative', 'weeknights', 'My', 'husband', 'likes', 'recipe', 'better', 'Super', 'easy', 'delicious', 'I', 'cut', 'back', 'slightly', 'crushed', 'oregano', 'cayenne', 'pepper', 'otherwise', 'I', 'made', 'exactly', 'writtenIn', 'introduction', 'mentioned', 'cream', 'cheese', 'none', 'listed', 'ingredientsWonderful', 'I', 'made', 'ChiliStew', 'night', 'dinner', 'church', 'everyone', 'wanted', 'recipe', '', 'We', 'make', 'quite', 'often', 'home', 'always', 'hit', 'I', 'also', 'use', 'freshly', 'made', 'rotisserie', 'chicken', 'adds', 'flavoramazing', 'boyfriend', 'loved', 'much', 'going', 'make', 'weekWow', '', 'This', 'recipe', 'excellent', 'written', '', 'The', 'change', 'I', 'made', 'I', 'used', '', 'oz', 'jar', 'great', 'northern', 'beans', '', 'It', 'tastes', 'good', 'right', 'amount', 'heatThis', 'delicious', 'I', 'make', 'often', 'One', 'time', 'daughter', 'husband', 'two', 'sons', '', 'visiting', 'us', 'Virginia', 'I', 'made', 'double', 'batch', 'served', 'dinner', 'one', 'evening', 'really', 'made', 'hit', 'Since', 'small', 'amount', 'left', 'I', 'put', 'leftover', 'refrigerator', 'I', 'walked', 'kitchen', 'next', 'morning', 'see', 'son', 'law', 'big', 'bowl', 'headed', 'microwave', 'puzzled', 'He', 'gave', 'big', 'smile', 'told', 'first', 'thing', 'thought', 'woke', 'morning', 'breakfast', 'I', 'give', 'soup', '', 'starsI', 'absolutely', 'love', 'recipe', 'Ive', 'tweaked', 'quite', 'bit', 'When', 'I', 'want', 'spicier', 'chili', 'I', 'exchange', 'green', 'chilis', 'canned', 'diced', 'jalapenos', 'Its', 'SO', 'GOOD', 'way', 'I', 'also', 'add', 'extra', 'oz', 'green', 'chilisdiced', 'jalapenos', 'every', 'time', 'I', 'make', 'It', 'double', 'well', 'made', '', 'times', 'recipe', 'great', 'extra', 'large', 'crowdsplenty', 'leftovers', 'Its', 'great', 'snow', 'day', 'recipe', 'Ive', 'made', '', 'times', 'past', '', 'weeksI', 'make', 'lot', '', 'kids', 'friends', 'come', 'ask', 'make', 'time', 'Best', 'easiest', 'white', 'chili', 'recipeBest', 'white', 'chili', 'recipe', 'Ive', 'I', 'served', 'Fritos', 'sharp', 'cheddar', 'sour', 'cream', 'chopped', 'green', 'onions', 'DelishThis', 'recipe', 'excellent', 'I', 'added', 'cream', 'cheese', 'perfect', 'comfort', 'food', 'I', 'usually', 'make', 'individual', 'portions', 'freeze', 'eaten', 'everyday', '', 'days', 'ExceptionalI', 'made', 'alongside', 'traditional', 'chili', 'winter', 'gathering', 'chili', 'stole', 'show', 'I', 'expecting', 'leftovers', 'additional', 'meals', 'week', 'nope', 'leftovers', 'Its', 'mild', 'theres', 'always', 'ways', 'spice', 'thats', 'preference', '', 'If', 'youre', 'thinking', '', 'Its', 'easy', 'fast', 'warming', 'delicious', 'Oh', 'might', 'well', 'double', 'I', 'didFantastic', 'mild', 'I', 'added', 'half', 'Carolina', 'Reaper', 'Delish', 'The', 'hubby', '', 'said', 'detested', 'white', 'chili', 'As', 'simmering', 'hubby', 'said', 'Boy', 'sure', 'smells', 'great', 'When', 'eat', 'He', 'asked', 'make', 'freeze', 'later', 'LOLThis', 'fabulous', 'recipeDelicious', 'If', 'like', 'mild', 'chilli', 'taste', 'really', 'would', 'recommend', 'making', 'itmade', 'according', 'directions', 'DELISHMy', 'new', 'favorite', 'soup', 'Oh', 'So', 'deliciousThis', 'hit', 'house', 'I', 'making', 'years', '', 'I', 'typically', '', 'double', 'recipe', 'written', 'adding', 'two', 'sweet', 'corn', '', 'We', 'always', 'eat', 'jiffy', 'cornbread', 'Absolutely', 'favoriteDelicious', '', '', 'A', 'huge', 'hit', 'family', 'friends', '', 'Several', 'requests', 'make', '', 'And', 'share', 'recipe', 'Thank', 'youThis', 'goto', 'chicken', 'chili', 'recipe', 'years', 'We', 'love', 'simpleVery', 'good', 'Easy', 'recipe', '', 'first', 'time', 'followed', 'exactly', 'I', 'added', 'flour', 'chicken', 'onion', 'mixture', 'help', 'thicken', 'add', 'cream', 'cheese', 'Made', 'second', 'time', 'mild', 'chilies', 'shakes', 'cayenne', 'still', 'good', 'Liked', 'less', 'spicy', 'But', 'make', 'Other', 'family', 'liked', 'tooThis', 'White', 'Chicken', 'Chili', 'I', 'first', 'experinced', 'eating', 'local', 'restaurant', 'Indianapolis', 'recommended', 'waiter', 'Its', 'delicious', 'But', 'called', '', 'White', 'Chicken', 'ChiliWOW', 'Total', 'WOW', 'Totally', 'delicious', '', 'stars', 'plusWonderful', 'recipe', 'written', 'Only', 'change', 'I', 'made', 'I', 'used', 'rotisserie', 'chicken', 'I', 'always', 'hand', 'freezer', 'time', 'saver', 'Even', 'husband', 'said', 'chili', 'cant', 'white', 'said', 'make', 'sure', 'keep', 'recipe', '', 'Thanks', 'Laura', 'making', 'believerI', 'make', 'soninlaw', 'work', 'cold', 'winter', 'nights', 'Michigan', '', 'He', 'loves', '', 'Instead', 'green', 'chiles', 'I', 'changed', 'Hatch', 'Green', 'Chiles', 'give', 'little', 'kick', '', 'You', 'use', 'much', 'little', 'depending', 'like', 'itEXCELLENT', 'RECIPE', 'This', 'regular', 'rotationI', 'dont', 'change', 'thing', 'recipe', 'itsperfect', 'directed', '', 'I', 'found', 'Taste', 'Home', 'cookbook', 'years', 'ago', 'making', 'ever', 'since', 'I', 'dont', 'even', 'look', 'recipes', 'mess', 'perfection', '', 'I', 'diagnosed', 'gluten', 'intolerance', 'thankfully', 'recipe', '', '', '', '', '', 'exhusband', 'would', 'eat', 'chicken', 'son', 'made', 'pork', 'also', 'delicious', 'He', 'still', 'used', 'chicken', 'stock', 'ex', 'didnt', 'know', '', '', 'I', 'would', 'make', 'soup', '', 'It', 'hit', '', 'I', 'would', 'add', '', 'green', 'chilis', 'I', 'make', '', 'The', 'leftovers', 'pretty', 'hotThis', 'absolutely', 'DELICIOUS', 'It', 'first', 'time', 'making', 'chili', 'I', 'loved', '', 'It', 'turned', 'lot', 'soupy', 'I', 'expected', '', 'I', 'even', 'mashed', 'cup', 'beans', 'like', 'recipe', 'said', '', 'I', 'think', 'next', 'time', 'I', 'make', 'I', 'wont', 'add', 'cream', 'see', 'f', 'makes', 'thicker', 'But', 'super', 'yummy', 'even', 'soupstew', '', 'YummmOutstanding', 'way', 'isIve', 'made', 'chili', 'several', 'years', 'follow', 'recipe', 'written', 'I', 'use', 'chicken', 'tenderloins', 'heavy', 'cream', 'sour', 'cream', '', 'If', 'broken', 'dont', 'fix', '', 'Its', 'perfect', 'comfort', 'food', 'cold', 'day', '', 'The', 'tortilla', 'chips', 'go', 'perfectly', 'grilled', 'cheese', 'side', 'doesnt', 'hurt', 'either', '', 'especially', 'made', 'home', 'made', 'pimento', 'cheeseThis', 'best', 'chili', 'recipe', 'I', 'gotten', '', 'blue', 'ribbons', 'making', 'company', 'cook', 'offs', 'Last', 'year', 'mad', 'Halloween', 'party', 'got', 'RAVE', 'reviews', 'year', 'party', 'banned', 'anyway', 'local', 'police', 'officer', 'came', 'party', 'uniform', 'said', 'I', 'wont', 'say', 'anything', 'I', 'get', 'chili', 'made', 'last', 'year', '', '', 'LOLThis', 'EXCELLENT', 'I', '', '', 'chilis', 'I', 'opened', 'jalapenos', 'added', 'teaspoon', '', 'I', 'threw', 'Ninja', 'Foodie', 'put', 'pressure', '', 'mins', 'quick', 'release', 'THEN', 'I', 'added', 'sour', 'cream', 'whipping', 'cream', 'I', 'served', 'crisp', 'tortillas', 'shredded', 'cheese', 'It', 'loved', 'even', 'granddaughter', 'I', 'making', 'Oh', 'I', 'didnt', 'great', 'northern', 'beans', 'I', 'used', 'two', 'cans', 'white', 'beans', 'Turned', 'perfectThis', 'one', 'recipes', 'I', 'use', 'I', 'dont', 'change', 'ingredients', 'Love', 'itI', 'didnt', 'see', 'cream', 'cheese', 'recipe', 'description', 'I', 'added', 'toward', 'end', '', 'I', 'added', 'little', 'Adobo', 'seasoning', 'used', 'dried', 'cayenne', '', 'also', 'added', 'diced', 'tomatoes', '', 'green', 'chilis', 'otherwise', 'made', 'recipe', 'written', 'It', 'fabulous', 'A', 'forever', 'keeper', 'Thank', 'youbeen', 'making', 'family', 'couple', 'decades', 'always', 'gotten', 'rave', 'reviews', '', 'I', 'add', 'real', 'garlic', 'along', 'chicken', 'garlic', 'powder', 'onion', 'saut', 'adding', 'rest', 'ingredients', '', 'In', 'past', 'Ive', 'substituted', 'evaporated', 'skim', 'milk', 'heavy', 'cream', 'turns', 'well', 'way', '', 'I', 'cut', 'back', 'cayenne', 'reasons', 'daughter', 'loved', 'full', 'strength', '', 'Probably', 'going', 'making', 'recipe', 'another', 'couple', 'decades', 'wellDelicious', 'I', 'added', 'diced', 'tomatoes', 'green', 'chilis', 'turned', 'greatThe', 'best', 'iit', 'hot', 'long', 'lasting', 'hoeThis', 'first', 'attempt', 'white', 'chili', 'little', 'disappointed', '', 'I', 'added', '', 'oz', 'cream', 'cheese', 'instead', 'sour', 'cream', 'didnt', 'like', 'resulting', 'flavor', '', 'Should', 'followed', 'recipe', '', 'I', 'tinker', 'easy', 'quick', 'recipeWe', 'LOVE', 'recipe', 'fix', 'often', '', 'I', 'even', 'make', 'take', 'people', 'need', 'meal', '', 'A', 'couple', 'things', 'I', 'use', 'unsalted', 'chicken', 'stock', '', 'oz', 'box', 'instead', 'broth', 'instead', 'sour', 'cream', 'heavy', 'cream', 'I', 'use', '', 'oz', 'container', 'Gandys', 'French', 'Onion', 'Green', 'Chili', 'Dip', '', 'It', 'adds', 'little', 'depth', 'flavor', 'enjoyThis', 'alltime', 'favorite', 'white', 'chili', 'recipe', 'I', 'make', 'except', 'I', 'add', 'hominy', 'occasionally', 'substitute', 'pork', 'chicken', '', 'Great', 'spoonful', 'pico', 'well', '', 'So', 'goodI', 'doubled', 'recipe', 'I', 'also', 'substituted', 'sour', 'cream', 'cream', 'cheese', 'added', 'corn', 'bell', 'peppers', 'Topped', 'sour', 'cream', 'cilantro', 'shredded', 'cheddar', 'fritos', 'I', 'sooo', 'satisfiedWheres', 'cream', 'cheese', 'recipe', 'It', 'says', 'good', 'cream', 'cheese', 'Was', 'misprinti', 'made', 'last', 'night', 'dinner', 'It', 'went', 'together', 'fast', 'based', 'another', 'reviewer', 'I', 'added', '', 'ounces', 'cream', 'cheese', 'instead', 'sour', 'cream', 'I', 'accidently', 'added', 'much', 'cayenne', 'I', 'offer', 'sour', 'cream', 'table', 'along', 'shredded', 'cheese', 'Personally', 'I', 'much', 'fan', 'beans', 'kind', 'chili', 'good', 'The', 'problem', 'make', 'enough', 'hearty', 'appetites', 'people', 'table', 'Next', 'time', 'I', 'make', 'I', 'double', 'recipe', 'But', 'keeper', 'even', 'standardsDelicious', '', 'First', 'time', 'ever', 'making', 'white', 'chili', 'one', 'delivered', 'every', 'way', '', 'Fantastic', 'didnt', 'change', 'thing', '', 'Will', 'favorite', 'keeper', 'Thanks', 'sharingI', 'changed', 'little', '', 'I', 'added', 'carrots', 'potatoes', 'substituted', 'coconut', 'cream', 'cream', '', 'I', 'also', 'left', 'cumin', '', 'The', 'creamy', 'mix', 'sour', 'cream', 'cream', 'made', 'soup', 'deliciousI', 'made', 'movie', 'night', 'friends', '', 'It', 'got', 'rave', 'reviews', 'I', 'thought', 'yummy', '', 'On', 'advice', 'previous', 'reviews', 'I', 'used', 'cream', 'cheese', 'instead', 'sour', 'cream', '', 'I', 'also', 'popped', 'whole', 'jalapeno', 'cooking', 'process', 'fished', 'discarded', 'cooking', 'complete', '', 'Made', 'day', 'ahead', 'time', '', 'The', 'one', 'person', 'group', 'doesnt', 'like', 'heat', 'said', 'right', '', 'This', 'definitely', 'going', 'file', 'favoritesI', 'add', 'creme', 'cheese', 'creme', 'I', 'also', 'roast', 'chicken', 'breasts', 'oven', 'pull', 'dice', 'meat', 'I', '', 'chili', 'cookoffs', 'version', '', 'We', 'making', 'years', 'hands', 'favorite', 'chili', 'recipe', '', 'One', 'thing', 'I', 'love', 'substitute', 'low', 'fat', 'versions', 'creamsour', 'cream', 'still', 'good', '', 'Ive', 'even', 'used', 'skim', 'milk', 'place', 'whipping', 'cream', 'problems', '', '', 'We', 'always', 'serve', '', 'Zucchini', 'amp', 'Cheese', 'Drop', 'biscuits', '', 'To', 'die', 'forThis', 'recipe', 'awesome', 'Made', 'iver', '', 'times', 'A', 'big', 'hit', 'familyIs', 'cream', 'cheese', 'noVery', 'delicious', 'easy', 'makeIm', 'making', 'dinner', 'tonight', 'Im', 'little', 'confused', 'said', 'sooo', 'good', 'cream', 'cheese', 'cream', 'cheese', 'recipe', 'Do', 'need', 'itThis', 'recipe', 'amazing', 'Ive', 'making', 'years', 'Ignore', 'rude', 'ignorant', 'comments', 'yet', 'actually', 'make', 'If', 'want', 'spicy', 'feel', 'free', 'add', 'much', 'little', 'cayenne', 'pepper', 'jalapeos', 'without', 'seeds', 'liking', 'Thats', 'beauty', 'cooking', 'home', 'One', 'tip', 'I', 'give', 'want', 'extra', 'creamy', 'texture', 'add', 'creams', 'right', 'away', 'let', 'simmer', 'reducedEasy', 'tastyThis', 'best', 'white', 'chili', 'Ive', 'ever', 'It', 'hit', 'family', 'old', 'young', '', 'I', 'always', 'think', 'I', 'might', 'days', 'never', 'lasts', 'long', 'He', 'never', 'gets', 'tired', 'neither', 'IMy', 'absolute', 'favorite', 'chili', 'recipe', 'easy', 'delicious', 'I', 'added', 'half', 'corn', 'little', 'hot', 'sauce', 'recipe', 'amazingMade', 'recipie', 'called', 'delicious', 'Hubby', 'loves', 'well', 'making', 'soonFamily', 'favorite', 'many', 'years', 'Ive', 'share', 'recipe', 'familySo', 'easy', 'flavorful', 'new', 'regular', 'recipe', 'houseI', 'made', 'several', 'years', 'It', 'definitely', 'favorite', 'house', 'Ill', 'need', 'double', 'futureWeve', 'made', 'several', 'times', 'years', 'never', 'disappoints', '', 'Also', 'recipe', 'doubles', 'wellFor', 'asking', 'cream', 'cheese', 'changed', 'recipe', 'online', 'It', 'used', 'cream', 'cheese', 'place', 'sour', 'cream', 'Ive', 'made', 'recipe', 'years', 'I', 'always', 'look', 'I', 'buy', 'ingredients', 'make', 'sure', 'I', 'dont', 'miss', 'anything', 'I', 'search', 'white', 'chicken', 'chili', 'cream', 'cheese', '', 'make', 'sure', 'I', 'pull', 'recipe', 'I', 'surprised', 'see', 'sour', 'cream', 'especially', 'specifically', 'mention', 'cream', 'cheese', 'description', 'I', 'continue', 'make', 'cream', 'cheese', 'family', 'favorite', 'I', 'dont', 'want', 'change', 'whats', 'broken', 'I', 'make', 'close', 'post', 'recipe', 'I', 'slow', 'cook', 'stove', 'boneless', 'skinless', 'chicken', 'breast', 'I', 'also', 'add', 'cilantro', 'I', 'mix', 'cream', 'cream', 'cheese', 'My', 'picky', 'boys', 'love', 'itThis', 'BEST', 'white', 'chicken', 'chili', 'I', 'ever', 'tasted', '', 'Everyone', 'loved', 'I', 'asked', 'make', 'time', '', 'I', 'confused', 'however', 'little', 'note', 'beginning', 'recipe', 'reads', 'Maybe', 'cream', 'cheese', '', 'Am', 'I', 'missing', 'something', '', 'I', 'dont', 'see', 'cream', 'cheese', 'ingredients', 'list', 'anywhere', '', 'Sounds', 'like', 'would', 'good', 'though', '', 'I', 'highly', 'recommend', 'chiliI', 'make', 'every', 'year', 'Thanksgiving', 'I', 'substitute', 'turkey', 'turkey', 'broth', 'instead', 'chicken', 'Everyone', 'loves', 'If', 'miss', 'year', 'making', 'family', 'complaining', 'wanting', 'itVery', 'tasty', 'quite', 'simple', 'makeFor', 'asking', 'cream', 'cheese', '', 'stated', 'cream', 'cheese', '', 'The', 'heavy', 'whipping', 'cream', 'referring', 'saying', 'add', 'creamThis', 'easy', 'recipe', 'delivers', 'excellent', 'results', '', 'Could', 'get', 'good', '', 'Will', 'make', 'againWhere', 'cream', 'cheese', 'thats', 'mentioned', 'Its', 'listed', 'ingredients', 'directionsIm', 'confused', '', 'description', 'says', 'maybe', 'cream', 'cheese', '', 'I', 'cant', 'find', 'cream', 'cheese', 'listed', 'ingredientsThis', 'good', 'recipe', 'If', 'needed', 'easy', 'change', 'I', 'make', 'changes', 'I', 'cannot', 'beans', 'I', 'didnt', 'put', 'I', 'didnt', 'green', 'chili', 'I', 'added', 'tomatoes', 'green', 'chillies', 'It', 'came', 'great', 'I', 'love', 'recipes', 'changed', 'fit', 'person', 'Will', 'making', 'againOh', 'gosh', 'good', 'I', 'substituted', 'canelli', 'beans', 'I', 'like', 'better', '', 'I', 'added', 'one', 'green', 'Chiles', 'NO', 'heavy', 'whipping', 'cream', 'substitute', '', 'Like', 'others', 'suggested', 'thicker', 'chililike', 'texture', 'I', 'added', 'one', 'tablespoon', 'flour', 'chickenDelicious', 'easy', 'make', 'I', 'followed', 'recipe', 'tiny', 'tweeks', 'I', 'didnt', 'cumin', 'used', 'little', 'chili', 'powder', 'instead', 'I', 'also', 'used', 'little', 'garlic', 'sensitive', 'go', 'Im', 'sure', 'would', 'add', 'lot', '', 'I', 'didnt', 'sharp', 'cheddar', 'used', '', 'cheese', 'Mecican', 'blend', 'shredded', 'Worked', 'fine', 'But', 'minor', 'tweeks', 'Im', 'sure', 'fabulous', 'written', 'Mine', 'plenty', 'thick', 'dont', 'know', 'people', 'felt', 'thin', '', 'I', 'set', '', 'creams', 'first', 'started', 'dish', 'wouldnt', 'cold', 'When', 'ready', 'add', 'stirred', 'couple', 'teaspoon', 'hot', 'chili', 'warm', 'adding', 'wouldnt', 'curdle', 'I', 'defimitely', 'make', 'Thanks', 'sharing', 'delicious', 'recipeI', 'gave', '', 'stars', 'I', 'followed', 'recipe', 'T', 'omitting', 'sour', 'cream', 'heavy', 'whip', 'I', 'mashed', '', 'beans', 'thicken', 'soul', 'added', 'fresh', 'garlic', 'along', 'powdered', 'garlic', 'I', 'also', 'added', 'seasoning', 'taste', 'I', 'add', '', 'cup', 'shredded', 'cheese', 'soup', 'well', 'I', 'also', 'added', 'frozen', 'corn', 'cilantro', 'soup', 'well', 'adding', 'cilantro', 'topping', 'This', 'soup', 'amazing', 'This', 'hands', 'delicious', 'white', 'chili', 'I', 'ever', 'I', 'add', 'tortilla', 'chips', 'used', '', 'green', 'chilis', 'perfectI', 'didnt', 'change', '', 'single', 'thing', 'Love', 'itI', 'LOVELOVELOVE', 'white', 'chicken', 'chili', 'play', 'around', 'recipes', 'often', 'This', 'Good', 'I', 'changeadd', 'quite', 'bit', 'favorite', 'share', 'I', 'saw', 'lot', 'people', 'thickening', 'flour', 'gagged', 'little', 'lol', 'As', 'southern', 'cook', 'grandma', 'taught', 'long', 'ago', 'slowly', 'sprinkle', 'instant', 'mashed', 'potatoe', 'flakes', 'soups', 'etc', 'You', 'dont', 'taste', 'potato', 'thickens', 'Instantly', 'No', 'Lumps', 'Anyway', 'heres', 'many', 'many', 'tweaks', 'I', 'used', 'cold', 'storebought', 'chicken', 'sauteed', 'large', 'chopped', 'Vidalia', 'onion', 'half', 'chopped', 'red', 'bell', 'pepper', 'added', 'fresh', 'minced', 'garlic', 'veggies', 'softened', 'I', 'didnt', 'green', 'chiles', 'I', 'added', 'two', 'Drained', 'cans', 'Diced', 'tomatoes', 'green', 'chiles', 'one', 'mild', 'one', 'Mexican', 'flavored', 'YUM', 'Also', 'I', '', 'cans', 'Canellini', 'beans', 'white', 'kidney', 'beans', 'instead', 'great', 'northern', 'As', 'far', 'spice', 'I', 'doubled', 'tripled', 'cumin', 'like', 'flavor', 'LOT', 'added', 'handfuls', 'chopped', 'cilantro', 'Also', 'I', 'seasoned', 'sauteing', 'veg', 'mix', 'yellow', 'Adobo', 'Sazon', 'Completa', 'seasonings', 'Served', 'chips', 'Monterey', 'Jack', 'cheese', 'guacamole', 'LOTS', 'fresh', 'cilantro', 'So', 'good', 'butsorry', 'longVery', 'good', 'I', 'wonder', 'cream', 'cheese', 'taste', 'home', 'changed', 'recipe', '', 'I', 'prefer', 'navy', 'beans', 'smaller', 'I', 'also', 'used', 'canned', 'chicken', 'Costco', 'thats', 'I', 'I', 'used', 'fat', 'free', 'cream', 'cheese', 'along', 'whipping', 'cream', 'I', 'stirred', 'cheddar', 'cheese', 'endThe', 'description', 'says', 'Maybe', 'cream', 'cheese', '', 'Where', 'cream', 'cheese', 'recipe', 'ingredients', 'It', 'says', 'sour', 'cream', 'whipping', 'cream', 'NOT', 'cream', 'cheeseThis', 'excellent', '', 'I', 'used', 'half', 'pound', 'dry', 'beans', 'I', 'cooked', 'instant', 'pot', 'well', 'shredded', 'chicken', 'bonein', 'thighs', 'also', 'cooked', 'pressure', 'cooker', '', 'Didnt', 'want', 'use', 'heavy', 'cream', 'I', 'used', 'little', 'milk', 'thickened', 'couple', 'tablespoons', 'masa', 'harina', '', 'I', 'also', 'shaved', 'calories', 'fatfree', 'sour', 'cream', '', 'Still', 'creamy', 'delicious', '', 'Probably', 'could', 'added', 'another', 'green', 'chiles', 'may', 'next', 'time', 'I', 'make', 'batch', 'thisSo', 'good', 'I', 'doubled', 'recipe', 'Mine', 'came', 'thick', 'I', 'blended', '', 'beans', 'chicken', 'broth', 'added', 'rest', 'beans', 'I', 'may', 'need', 'add', 'splash', 'water', 'serving', 'I', 'could', 'go', 'little', 'hotter', 'next', 'time', 'I', 'got', 'large', 'jalapeo', 'put', 'one', 'minced', 'mine', 'Maybe', '', 'next', 'time', 'Used', 'rotisserie', 'chicken', 'shortcut', 'Really', 'delicious', 'thoVery', 'good', 'recipe', '', 'need', 'add', 'couple', 'teaspoons', 'cornstarch', 'order', 'thicken', '', 'I', 'omit', 'green', 'chiles', 'order', 'control', 'heat', '', 'added', 'served', 'like', 'spicy', '', 'Good', 'without', 'chiles', '', 'I', 'also', 'love', 'eat', 'regular', 'chili', 'served', 'rice', '', 'I', 'greatI', 'found', 'recipe', 'month', 'ago', 'boyfriend', 'obsessed', 'He', 'made', 'bring', 'Thanksgiving', 'dinner', 'huge', 'hit', 'Hes', 'make', 'tonight', 'birthday', 'lol', 'It', 'really', 'best', 'chili', 'everMade', 'first', 'time', 'last', 'night', '', 'Read', 'reviews', 'first', 'However', 'followed', 'exact', 'recipe', '', 'Results', '', 'Thinner', 'desired', 'quickly', 'fixed', 'great', 'suggestion', '', '', 'Tbls', 'flour', '', 'Served', 'Tortilla', 'chips', 'Great', 'flavor', 'big', 'hit', 'husband', '', 'Will', 'make', 'rotisserie', 'chicken', 'replace', 'whipping', 'cream', 'sour', 'cream', 'cream', 'cheese', '', 'Unless', 'thinner', 'chili', 'preferred', 'use', 'flour', 'reviews', 'suggestThis', 'absolutely', 'delicious', 'recipe', 'I', 'actually', 'tripled', 'recipe', 'added', '', 'cup', 'grated', 'parmesan', 'cheese', 'It', 'thick', 'I', 'would', 'liked', 'like', 'soup', 'chili', 'nonetheless', '', 'extremely', 'flavorful', 'tasty', 'I', 'definitely', 'make', 'againThis', 'really', 'good', 'recipe', '', 'I', 'made', 'first', 'time', 'last', 'night', '', 'need', 'white', 'chili', 'recipe', 'take', 'gathering', '', 'I', 'got', 'lot', 'compliments', 'several', 'requests', 'recipe', '', 'I', 'added', 'minced', 'garlic', 'additional', 'chicken', 'broth', '', 'Next', 'time', 'Ill', 'probably', 'triple', 'recipe', '', 'written', 'yield', 'pretty', 'smallI', 'LOVE', 'recipe', 'I', 'use', '', 'pounds', 'shredded', 'chicken', 'instead', 'cubed', 'Perfect', 'dipping', 'tortilla', 'chips', 'wellIt', 'little', 'TOO', 'CREAMY', 'meBEST', 'RECIPE', 'EVER', 'We', 'loved', 'I', 'picky', 'eaters', 'Thank', 'sharing', '', 'So', 'yummy', 'easy', 'make', 'I', 'didnt', 'delete', 'anything', 'added', 'red', 'pepper', 'Even', 'without', 'change', 'would', 'amazing', 'Thank', 'sharing', 'A', 'new', 'family', 'fav', 'YesssExcellent', '', 'I', 'took', 'advice', 'previous', 'review', 'added', '', 'TBSP', 'flour', 'chicken', 'onion', 'garlic', 'mix', 'I', 'used', 'two', 'Jalapenos', 'instead', 'canned', 'chilies', 'I', 'puree', 'beans', 'DH', 'doesnt', 'like', 'bean', 'texture', 'I', 'used', 'butter', 'beans', '', 'Lastly', 'I', 'used', '', 'oz', 'cream', 'cheese', 'I', 'left', 'fridge', 'splash', 'heavy', 'cream', '', 'EXCELLENTGreta', 'recipe', 'Used', 'rotisserie', 'chicken', 'I', 'made', 'itExcellent', 'recipe', 'Easy', 'quick', 'A', 'keeper', 'Next', 'time', 'I', 'may', 'add', 'frozen', 'corn', 'Joyce', 'Moynihan', 'Volunteer', 'Field', 'EditorSo', 'I', 'read', 'reviews', 'making', 'I', 'never', 'made', 'white', 'chili', 'tend', 'like', 'soups', 'like', 'stew', 'chili', 'super', 'thick', 'So', 'chicken', 'onions', 'garlic', 'I', 'used', 'fresh', 'garlic', 'cooked', 'I', 'added', 'two', 'TBSP', 'flour', 'seasonings', 'pot', 'stirred', 'coat', 'meat', 'let', 'cook', 'couple', 'minutes', 'Then', 'I', 'added', 'broth', 'chiles', 'three', 'cans', 'beans', 'Finally', 'I', 'replaced', 'sour', 'cream', 'whipping', 'cream', 'cream', 'cheese', 'SO', 'YummyLoved', 'Had', 'perfect', 'little', 'spiceI', 'made', 'chili', 'Super', 'Bowl', 'party', '', 'Everyone', 'raved', 'good', 'requested', 'recipe', '', 'The', 'thing', 'I', 'differently', 'simmered', 'day', 'flavors', 'could', 'meld', 'chicken', 'would', 'super', 'tender', '', 'Its', 'real', 'thick', 'chili', 'could', 'easily', 'remedied', 'adding', 'little', 'cornstarch', 'bothers', '', 'Otherwise', 'delicious', 'recipe', 'Im', 'glad', 'I', 'gave', 'try', '', 'Its', 'keeper', '', 'Yum', 'If', 'like', 'really', 'thick', 'chili', 'I', 'would', 'suggest', 'cutting', 'back', 'stock', 'sour', 'creamwhipping', 'cream', 'bit', 'maybe', 'cayenne', 'pepper', 'adding', 'bit', 'cornstarch', 'thicken', 'pureeing', 'portion', 'reviewers', 'mentioned', 'thought', 'really', 'good', 'written', 'Just', 'right', 'spiciness', 'I', 'cant', 'tolerate', 'much', 'heat', 'leaves', 'little', 'bite', 'mouth', 'eating', 'Orif', 'thin', 'maybe', 'youre', 'simmering', 'long', 'enough', 'lid', 'offThis', 'terrible', '', 'I', 'followed', 'recipe', 'exactly', '', 'It', 'tasted', 'fine', 'I', 'added', 'sour', 'cream', 'whipping', 'cream', '', 'Then', 'turned', 'thin', 'white', 'flavorless', 'soup', '', 'Do', 'botherMy', 'family', 'loves', 'chili', '', 'I', 'thought', 'beans', 'might', 'scare', 'little', 'ones', 'I', 'blended', 'immersion', 'blender', 'bit', '', 'The', 'second', 'time', 'I', 'made', 'I', 'blend', 'everyone', 'enjoyed', 'requested', 'seconds', '', 'Great', 'recipe', '', 'Thanks', 'sharing']\n"
     ]
    }
   ],
   "source": [
    "print(len(new_array))\n",
    "print(new_array)\n"
   ]
  },
  {
   "cell_type": "code",
   "execution_count": null,
   "id": "e2562a94-e8e7-44df-8527-92c55343a9f0",
   "metadata": {},
   "outputs": [],
   "source": [
    "\n",
    "# NOW APPLY THE LEMITIZATION ON IT AS WELL\n",
    "\n"
   ]
  },
  {
   "cell_type": "code",
   "execution_count": 182,
   "id": "a237be67-7a86-4a40-8638-2a2c28e2e65b",
   "metadata": {},
   "outputs": [
    {
     "data": {
      "text/plain": [
       "'play'"
      ]
     },
     "execution_count": 182,
     "metadata": {},
     "output_type": "execute_result"
    }
   ],
   "source": [
    "from nltk.stem import WordNetLemmatizer\n",
    "from nltk.stem import PorterStemmer\n",
    "stemmer=PorterStemmer()\n",
    "\n",
    "\n",
    "l=WordNetLemmatizer()\n",
    "l.lemmatize('plays')\n",
    "stemmer.stem(\"playing\")"
   ]
  },
  {
   "cell_type": "code",
   "execution_count": 190,
   "id": "d2a80989-a5fb-42c2-9cd1-a07ab6fcb6d9",
   "metadata": {},
   "outputs": [],
   "source": [
    "arr=[]\n",
    "# for val in range(len(new_array)):\n",
    "    # new_array[val]=l.lemmatize(new_array[val])\n",
    "for val in new_array:\n",
    "    arr.append(l.lemmatize(val))"
   ]
  },
  {
   "cell_type": "code",
   "execution_count": null,
   "id": "d3452109-1fa7-4902-a8a5-60ef33f88408",
   "metadata": {},
   "outputs": [],
   "source": [
    "\n",
    "# get first 100 sentences\n"
   ]
  },
  {
   "cell_type": "code",
   "execution_count": 231,
   "id": "5951e6e2-4bf5-4b09-bf73-10bfcd9946f7",
   "metadata": {},
   "outputs": [
    {
     "data": {
      "text/plain": [
       "['I tweaked it a little, removed onions because of onion haters in my house, used Italian seasoning instead of just oregano, and use a paprika/ cayenne mix and a little more than the recipe called for.. we like everything a bit more hot. The chili was amazing! It was easy to make and everyone absolutely loved it. It will now be a staple meal in our house.',\n",
       " 'Bush used to have a white chili bean and it made this recipe super simple. I’ve written to them and asked them to please!, bring them back',\n",
       " 'I have a very complicated white chicken chili recipe that I have made for years. Everyone raves over it. I saw this recipe and thought I’d try it as an easy alternative for weeknights. My husband likes this recipe better! Super easy and delicious! I did cut back slightly on the crushed oregano and cayenne pepper, otherwise I made it exactly as written.',\n",
       " 'In your introduction, you mentioned cream cheese but there is none listed in the ingredients!',\n",
       " 'Wonderful! I made this for a &#34;Chili/Stew&#34; night dinner at our church and everyone wanted the recipe.  We make it quite often at home and it&#39;s always a hit. I also use a freshly made rotisserie chicken which adds to the flavor.',\n",
       " 'amazing! my boyfriend loved it so much! going to make it again this week!',\n",
       " 'Wow!!!  This recipe is excellent as written!!  The only change I made was that I used a 40 oz. jar of great northern beans.  It tastes so good, with just the right amount of heat!!!',\n",
       " 'This is delicious and I make it often. One such time was when our daughter, her husband and their two sons  were visiting us from Virginia. I made a double batch and served it for dinner one evening and it really made a hit. Since there was a small amount left I put the leftover in the refrigerator. I walked into the kitchen the next morning to see our son in law with a big bowl of it headed for the microwave, which puzzled me. He gave me a big smile and told me it was the first thing he thought of when he woke up that morning and that was his breakfast. I give this soup 5 stars!',\n",
       " 'I absolutely love this recipe. I&#39;ve tweaked it quite a bit. When I want a spicier chili, I exchange the green chilis for canned diced jalapenos. It&#39;s SO GOOD that way. I also add an extra 4oz can of green chilis/diced jalapenos to it every time I make it. It does not double well, but have made 1.5 times the recipe and it&#39;s great for extra large crowds/plenty of leftovers. It&#39;s a great snow day recipe, I&#39;ve made it 3 times these past 2 weeks!',\n",
       " 'I make this a lot … my kids and there friends come over and ask me to make this all the time ..',\n",
       " 'Best and easiest white chili recipe.',\n",
       " 'Best white chili recipe I&#39;ve had! I served it up with Fritos, sharp cheddar, sour cream, and chopped green onions. Delish!',\n",
       " 'This recipe was excellent!! I added the cream cheese and it was the perfect comfort food. I usually make individual portions and freeze it, but this was eaten everyday for 3 days. Exceptional!',\n",
       " 'I made this alongside a traditional chili for a winter gathering and this chili stole the show. I was expecting leftovers for additional meals during the week, but nope, no leftovers. It’s mild, but there’s always ways to spice it up if that’s your preference.  If you’re thinking about it, just do it!  It’s easy, fast, warming, and delicious. Oh, and might as well double it. I did.',\n",
       " 'Fantastic, but mild. I added half a Carolina Reaper. Delish! The hubby  said he detested white chili. As this was simmering, hubby said &#34;Boy, that sure smells great! When do we eat?&#34; He asked me to make more to freeze for later. LOL!',\n",
       " 'This is a fabulous recipe!',\n",
       " 'Delicious, If you like a mild chilli taste this is for you!😍 really would recommend making it!',\n",
       " 'made according to directions, DELISH!!!!',\n",
       " 'My new favorite soup! Oh my! So delicious!',\n",
       " 'This is a hit in my house. I have been making it for a few years now.  I typically  double the recipe as written, adding only a can or two of sweet corn.  We always eat this with jiffy cornbread. Absolutely a favorite.',\n",
       " 'Delicious!!!   A huge hit with family and friends.  Several requests to make again.  And share recipe!!! \\nThank you!!!!',\n",
       " 'This is our go-to chicken chili recipe and has been for years. We love it and it&#39;s so simple.',\n",
       " 'Very good!! Easy recipe … first time followed exactly but I added flour to chicken and onion mixture to help thicken and did not add cream cheese. Made a second time with no mild chilies and only a few shakes of cayenne and it was still good! Liked it less spicy! But will make again! Other in family liked it too!',\n",
       " 'This is just White Chicken Chili with I first experinced eating at at local restaurant in Indianapolis which was recommended to me by the waiter. It&#39;s delicious! But that is what it is called - White Chicken Chili.',\n",
       " 'WOW! Total WOW! Totally delicious. 5 stars plus.',\n",
       " 'Wonderful recipe as written! Only change I made was I used rotisserie chicken because I always have it on hand in my freezer as a time saver. Even my husband who said chili can&#39;t be white said to make sure to keep this recipe!  Thanks Laura for making him a believer!',\n",
       " 'I make this for my son-in-law for when he has to work cold winter nights in Michigan.  He loves it!  Instead of green chiles, I changed to Hatch Green Chiles to give it a little kick.  You can use as much or as little depending on how you like it.',\n",
       " 'EXCELLENT RECIPE!! This will be on regular rotation.',\n",
       " 'I don&#39;t change a thing in this recipe, it&#39;sperfect as directed.  I found it in my Taste of Home cookbook years ago and have been making it ever since. I don&#39;t even look for other recipes because why mess with perfection.  I was just diagnosed with gluten intolerance and thankfully this recipe is.     *** my ex-husband would not eat chicken so my son made it with pork (also delicious). He still used chicken stock but the ex didn&#39;t know that!   ***',\n",
       " 'I would make this soup again.  It was a hit.  I would only add 1 can of green chilis when I make it again.  The leftovers were pretty hot.',\n",
       " 'This was absolutely DELICIOUS! It was my first time making chili, and I loved it.  It turned out a lot more soupy than I expected,  and I even mashed up a cup of the beans like the recipe said.  I think next time I make this, I won&#39;t add the cream to see 9f that makes thicker. But is super yummy, even if it is more of a soup/stew. ? Yummm!',\n",
       " 'Outstanding just the way it is!',\n",
       " 'I’ve made this chili for several years and follow the recipe as written. I use chicken tenderloins and heavy cream and sour cream.  “If it’s not broken don’t fix it”.  It’s the perfect comfort food on a cold day!  The tortilla chips go perfectly and a grilled cheese on the side doesn’t hurt either  (especially if made with home made pimento cheese)!',\n",
       " 'This is the best chili recipe, I have gotten 3 blue ribbons making it for company cook offs, Last year mad it for a Halloween party and it got RAVE reviews, this year the party was banned 9but we had it anyway) and the local police officer came to the party in the uniform and said &#34;I won&#39;t say anything if I get some of that chili you made last year&#34;.   LOL',\n",
       " 'This was EXCELLENT! I only had 1 can of  chili’s so I opened a can of jalapenos and added a teaspoon.  I threw it all in the Ninja Foodie and put it under pressure for 20 mins with quick release. THEN I added the sour cream and whipping cream. I served with crisp tortillas and shredded cheese. It was loved by all, even my granddaughter. I will be making this again! Oh, I didn’t have great northern beans so I used two cans of white beans. Turned out perfect.',\n",
       " 'This is one of the few recipes I use where I don’t change the ingredients. Love it.',\n",
       " 'I didn&#39;t see cream cheese in the recipe, but it was in the description so I added it toward the end.  I added a little Adobo seasoning and used my own dried cayenne,  also added diced tomatoes with  green chili&#39;s, otherwise made the recipe as written. It was fabulous. A forever keeper. Thank you!!',\n",
       " 'been making this for my family for a couple decades now, and it&#39;s always gotten rave reviews.  I do add real garlic along with the chicken, garlic powder, and onion to sauté, before adding the rest of the ingredients.  In the past I&#39;ve substituted evaporated skim milk for the heavy cream, and it turns out well that way, too.  I cut back on the cayenne for my own reasons, but my daughter loved it full strength.  Probably going to be making this recipe for another couple decades as well.',\n",
       " 'Delicious. I added a can of diced tomatoes with green chilis, and it turned out great!',\n",
       " 'The best, while iit is &#34;hot&#39; it is not a long lasting hoe.',\n",
       " 'This was my first attempt at a white chili and was a little disappointed.  I added 8 oz of cream cheese instead of the sour cream and didn&#39;t like the resulting flavor.  Should have followed the recipe.  I will tinker with this some more, but all in all a very easy quick recipe.',\n",
       " 'We LOVE this recipe and fix it often!  I even make it to take to people when they need a meal.  A couple of things, I use unsalted chicken stock (the 32 oz box) instead of the broth and instead of the sour cream and heavy cream, I use a 12 oz container of Gandy&#39;s French Onion or Green Chili Dip.  It just adds a little depth in flavor that we enjoy!',\n",
       " 'This is my all-time favorite white chili recipe. I make it as is except I will add a can of hominy and occasionally substitute pork for the chicken.  Great with a spoonful of pico as well.  So good!!',\n",
       " 'I doubled the recipe. I also substituted the sour cream with cream cheese, added corn and bell peppers. Topped with sour cream, cilantro, shredded cheddar, and fritos! I am sooo very satisfied!',\n",
       " 'Where&#39;s the cream cheese in the recipe? It says it&#39;s so good from the cream cheese. Was that a misprint?',\n",
       " 'i made this last night for dinner. It went together very fast and based on another reviewer, I added 8 ounces of cream cheese instead of the sour cream. I accidently added too much cayenne so I did offer sour cream at the table along with shredded cheese. Personally, I am not much of a fan of beans of any kind, but this chili was good. The only problem was it did not make enough for the hearty appetites for all the people at the table. Next time I make this I will double the recipe. But this is a keeper even by my standards.',\n",
       " 'Delicious!!  First time ever making a white chili and this one delivered in every way.  Fantastic as is, didnt change a thing.  Will be a favorite keeper for me!! Thanks for sharing!',\n",
       " 'I changed this a little.  I added carrots, potatoes and substituted coconut cream for the cream.  I also left out the cumin.  The creamy mix of the sour cream and cream made this soup delicious.',\n",
       " 'I made this for movie night with a few friends.  It got rave reviews and I thought it was yummy.  On advice of previous reviews I used cream cheese instead of sour cream.  I also popped a whole jalapeno in for the cooking process and fished it out and discarded when cooking was complete.  Made it a day ahead of time.  The one person in the group who doesn&#39;t like heat said it was just right.  This is definitely going into my file of favorites!',\n",
       " 'I add creme cheese and more creme. I also roast my chicken breasts in the oven and then pull and dice the meat. I have won 3 chili cook-offs with my version!  :)',\n",
       " 'We have been making this for years now and its hands down our favorite chili recipe.  One thing I love about it is that you can substitute low fat versions of the cream/sour cream and its still just as good.  I&#39;ve even used skim milk in place of the whipping cream with no problems!   We always serve it with the  Zucchini &amp; Cheese Drop biscuits.  To die for!',\n",
       " 'This recipe is awesome. Made it iver 10 times now. A big hit with the family!',\n",
       " 'Is there cream cheese or no?',\n",
       " 'Very delicious and easy to make!!',\n",
       " 'Im making this for dinner tonight, but I&#39;m a little confused, you said it was sooo good because of the cream cheese, but there is no cream cheese in the recipe? Do i need it?',\n",
       " 'This recipe is amazing. I’ve been making it for years. Ignore the rude and ignorant comments from those who have yet to actually make it. If you want spicy feel free to add as much or as little of the cayenne pepper or jalapeños with or without seeds to your liking. That’s the beauty of cooking at home. One tip I will give, if you want an extra creamy texture, add the creams in right away and let simmer until reduced.',\n",
       " 'Easy and tasty!',\n",
       " 'This is the best white chili I’ve ever had. It is a hit with this family, old and young.  I always think I might have some for a few days, but it never lasts that long. He never gets tired of it and neither do I!',\n",
       " 'My absolute favorite chili recipe, it’s so easy and delicious! I added half a can of corn and a little hot sauce to the recipe and it’s amazing!!',\n",
       " 'Made this just as the recipie called for and it was delicious! Hubby loves it as well, will be making it again soon!',\n",
       " 'Family favorite for many years. I’ve share this recipe with family',\n",
       " 'So easy and flavorful, will be a new regular recipe in my house',\n",
       " 'I have made this for several years. It is definitely a favorite in this house. I&#39;ll need to double it in the future.',\n",
       " 'We&#39;ve made this several times through the years, and it never disappoints!  Also, recipe doubles well.',\n",
       " 'For those asking about the cream cheese, they changed the recipe online. It used to have cream cheese in place of the sour cream. I’ve made this recipe for years. I always look it up before I buy the ingredients to make sure I don’t miss anything. I search by “white chicken chili cream cheese ” to make sure I pull up this recipe. I was surprised to see sour cream now, especially because they specifically mention cream cheese in the description. I will continue to make it with the cream cheese because this is a family favorite and I don’t want to change what’s not broken. I make this close to the post recipe, but I do slow cook it on the stove with boneless skinless chicken breast and I also add cilantro when I mix in the cream and cream cheese. My picky boys love it!',\n",
       " 'This is the BEST white chicken chili I have ever tasted.  Everyone loved it and I am asked to make it all the time.  I am confused, however, by the little note at the beginning of the recipe which reads &#34;Maybe it&#39;s the cream cheese&#34;.  Am I missing something?  I don&#39;t see cream cheese in the ingredients list anywhere.  Sounds like it would be good, though.  I highly recommend this chili!',\n",
       " 'I make this every year for Thanksgiving. I substitute turkey and turkey broth instead of chicken. Everyone loves it!!! If i miss a year making it, the family is complaining and wanting it.',\n",
       " 'Very tasty and quite simple to make',\n",
       " 'For those who are asking about cream cheese,  it&#39;s not stated as cream cheese.  The heavy whipping cream is what they are referring to when saying to add cream.',\n",
       " 'This is a very easy recipe that delivers excellent results.  Could not get over how good it was.  Will make again.',\n",
       " 'Where is the cream cheese that&#39;s mentioned? It&#39;s not listed in the ingredients or directions.',\n",
       " 'I&#39;m confused - in the description it says &#34;maybe it&#39;s the cream cheese&#34;.  I can&#39;t find and cream cheese listed in the ingredients.',\n",
       " 'This is a very good recipe. If needed it&#39;s easy to change it. I had to make some changes. I cannot have beans so I didn&#39;t put them in. I didn&#39;t have green chili so I added a can of tomatoes with green chillies. It came out great. I love recipes that can be changed to fit the person. Will be making this again.',\n",
       " 'Oh my gosh ..so good!, I substituted canelli beans because I like them better.  I added just one can of green Chile’s and NO heavy whipping cream (or no substitute for it).  Like others suggested for thicker chili-like texture I added one tablespoon of flour to chicken',\n",
       " 'Delicious, and easy to make. I followed the recipe with only tiny tweeks. I didnt have any cumin so i used a little chili powder instead. I also used just a little garlic, only because we are both sensitive to it, but if you are not, then go for it. Im sure it would add a lot.  I didn&#39;t have sharp cheddar so i used 4 cheese Mecican blend shredded. Worked fine. But these were minor tweeks and I&#39;m sure it is fabulous just as written too. Mine was plenty thick so i dont know why some people felt theirs was too thin.  I did set out the 2 creams when i first started the dish so they wouldn&#39;t be so cold. When ready to add them i stirred a couple teaspoon of the hot chili into each to warm them up before adding so they wouldnt curdle. I will defimitely make this again. Thanks for sharing this delicious recipe.',\n",
       " 'I gave this 4 stars because I followed this recipe to a T but omitting the sour cream and heavy whip. I mashed 1 can of beans to thicken the soul and added fresh garlic along with the powdered garlic. I also added more seasoning to my taste of each. I did add about 1 cup of the shredded cheese to the soup as well. I also added some frozen corn and cilantro to the soup as well as adding cilantro as a topping. This soup was amazing ??',\n",
       " 'This was hands down the most delicious white chili I have ever had! I did not add tortilla chips and only used 1 can of the green chili’s and it was perfect!',\n",
       " 'I didn&#39;t change  a single thing!! Love it!!',\n",
       " 'I LOVELOVELOVE white chicken chili and play around with recipes for it often! This was Good! I did change/add quite a bit, but my favorite too to share is this: I saw a lot of people thickening with flour and gagged a little, lol! As a southern cook, my grandma taught me long ago to slowly sprinkle in instant mashed potatoe flakes to soups, etc! You don&#39;t taste the potato, it thickens Instantly and No Lumps!! Anyway... here&#39;s my other many, many tweaks: I used a cold store-bought chicken and sauteed a large, chopped Vidalia onion, half of a chopped red bell pepper, and added fresh, minced garlic to the veggies once they were softened. I didn&#39;t have green chiles, so I added two (Drained!!!) cans of Diced tomatoes with green chiles (one mild and one &#34;Mexican&#34; flavored, YUM!) Also, I had 2 cans of Canellini beans (white kidney beans) instead of great northern. As far as spice... I doubled or tripled the cumin- we like that flavor a LOT- and added a few handfuls of chopped cilantro. Also I seasoned the sauteing veg mix with the yellow Adobo and the Sazon Completa seasonings. Served this with chips, Monterey Jack cheese, guacamole and LOTS more fresh cilantro! So good but...sorry this was so long!',\n",
       " 'Very good. I wonder if it once had cream cheese and taste of home changed the recipe.  I prefer it with navy beans that are smaller. I also used canned chicken from Costco because that’s what I had. I used fat free cream cheese along with the whipping cream, and then I stirred the cheddar cheese in at the end.',\n",
       " 'The description says &#34;Maybe it&#39;s the cream cheese! &#34; Where is the cream cheese in the recipe ingredients? It says sour cream and whipping cream, NOT cream cheese.',\n",
       " 'This was just excellent.  I used half a pound of dry beans that I had cooked in my instant pot, as well as shredded chicken from bone-in thighs (also cooked in the pressure cooker).  Didn&#39;t want to use heavy cream, so I just used a little milk and thickened with a couple of tablespoons of masa harina.  I also shaved off a few calories with fat-free sour cream.  Still very creamy and delicious.  Probably could have added another can of green chiles, and may just do that next time I make a batch of this.',\n",
       " 'So good! I doubled the recipe. Mine came out very thick because I blended 1/2 the beans with the chicken broth, then added the rest of the beans. I may need to add a splash of water in each serving. I could go a little hotter next time. I got a large jalapeño so only put in one, minced mine. Maybe 2 next time. Used rotisserie chicken as a shortcut. Really delicious tho!',\n",
       " 'Very good recipe.  you do need to add a couple of teaspoons of cornstarch to it in order to thicken it up.  I did omit the green chiles in order to control the heat.  they can be added when served if you like it to be more spicy.  Good for me without the chiles.  I also love to eat regular chili served over rice.  I did the same with this and it was great.',\n",
       " 'I found this recipe about a month ago and my boyfriend is obsessed. He made me bring it to Thanksgiving dinner and it was a huge hit. He&#39;s having me make it again tonight for his birthday lol It really is the best chili ever.',\n",
       " 'Made this for the first time, last night.  Read all the reviews first. However, followed the exact recipe,  Results:  Thinner than desired, but quickly fixed that with the great suggestion of 1 to 2 Tbls flour.  Served with Tortilla chips. Great flavor, big hit with the husband!  Will make again with rotisserie chicken and replace the whipping cream and sour cream with cream cheese.  Unless a thinner chili is preferred, use the flour as other reviews suggest.',\n",
       " 'This is an absolutely delicious recipe. I actually tripled the recipe and added about 1 cup grated parmesan cheese. It was not as thick as I would have liked it to be and was more like a soup than a chili but nonetheless,  it was extremely flavorful and tasty!! I will definitely make this again!!',\n",
       " 'This is a really good recipe.  I made it for the first time last night -- need a white chili recipe to take to a gathering.  I got a lot of compliments on it, and several requests for the recipe.  I added minced garlic to it, and additional chicken broth.  Next time, I&#39;ll probably triple the recipe -- as written, the yield is pretty small.',\n",
       " 'I LOVE this recipe. I use 1.5-2 pounds of shredded chicken instead of cubed. Perfect for dipping tortilla chips in as well.',\n",
       " 'It was a little TOO CREAMY for me.',\n",
       " 'BEST RECIPE EVER!! We all loved it, and I have some picky eaters! Thank you for sharing !! So yummy and easy to make. I didn’t delete anything but added red pepper. Even without that change it would be amazing!! Thank you for sharing! A new family fav!! Yesss!!',\n",
       " 'Excellent - I took the advice of a previous review and added 1 TBSP of flour to the chicken onion garlic mix. I used two Jalapenos instead of the canned chilies. I had to puree the beans only because my DH doesn&#39;t like the bean texture and I used butter beans.  Lastly, I used 4 oz of cream cheese I had left in the fridge and a splash of heavy cream.  EXCELLENT.',\n",
       " 'Greta recipe. Used a rotisserie chicken when I made it.',\n",
       " 'Excellent recipe! Easy and quick. A keeper! Next time I may add some frozen corn. Joyce Moynihan, Volunteer Field Editor',\n",
       " 'So I read the reviews before making this. I have never made white chili before but we tend to like our soups more like stew and our chili super thick. So after the chicken, onions and garlic (I used fresh garlic) were cooked I added two TBSP of flour and all the seasonings to the pot, stirred it in to coat the meat and let it cook for a couple minutes. Then I added the broth, chiles and three cans of beans. Finally I replaced the sour cream and whipping cream with cream cheese. SO Yummy!',\n",
       " 'Loved it!! Had a perfect little spice.',\n",
       " 'I made this chili for our Super Bowl party.  Everyone raved about how good it was and requested the recipe.  The only thing I did differently was simmered it all day so the flavors could meld and the chicken would be super tender.  It&#39;s not a real thick chili but that could easily be remedied by adding a little cornstarch, if that bothers you.  Otherwise, this is a delicious recipe and I&#39;m so glad I gave it a try.  It&#39;s a keeper!  :)',\n",
       " 'Yum! If you like really thick chili, I would suggest cutting back on the stock and sour cream/whipping cream a bit (and maybe the cayenne pepper too then) or adding a bit of cornstarch to thicken or pureeing a portion as other reviewers mentioned, but we thought it was really good as written! Just the right spiciness- I can&#39;t tolerate much heat but this leaves just a little &#39;bite&#39; in your mouth after eating it. (Or...if it&#39;s too thin- maybe you&#39;re not simmering it long enough with the lid off?)',\n",
       " 'This was terrible.  I followed the recipe exactly.  It tasted fine until I added the sour cream and whipping cream.  Then, it turned into a thin, white, flavorless soup.  Do not bother.',\n",
       " 'My family loves the chili.  I thought the beans might scare my little ones so I blended it in my immersion blender a bit.  The second time I made it, I did not blend and everyone enjoyed it and requested seconds.  Great recipe.  Thanks for sharing.']"
      ]
     },
     "execution_count": 231,
     "metadata": {},
     "output_type": "execute_result"
    }
   ],
   "source": [
    "# get 100 first sentenses\n",
    "sen_100=[]\n",
    "for val in range(100):\n",
    "    sen_100.append(x[val])\n",
    "sen_100"
   ]
  },
  {
   "cell_type": "code",
   "execution_count": 285,
   "id": "a19a5bf0-d04d-4e8d-a59b-49051cbc434a",
   "metadata": {},
   "outputs": [
    {
     "name": "stdout",
     "output_type": "stream",
     "text": [
      "i tweaked it a little removed onions because of onion haters in my house used italian seasoning instead of just oregano and use a paprika cayenne mix and a little more than the recipe called for we like everything a bit more hot the chili was amazing it was easy to make and everyone absolutely loved it it will now be a staple meal in our house\n",
      "               \n",
      "bush used to have a white chili bean and it made this recipe super simple ive written to them and asked them to please bring them back\n",
      "               \n"
     ]
    }
   ],
   "source": [
    "# remove the special characters\n",
    "import re\n",
    "arr=[]\n",
    "for val in range(2):\n",
    "    # to get the value sen_100[val]\n",
    "    sample=sen_100[val].lower()\n",
    "    # re.sub('[^a-z A-Z] ','',sentences[i])\n",
    "    sample=re.sub('[^A-Z a-z]','',sample)\n",
    "    print(sample)\n",
    "    print('               ')\n",
    "    arr.append(sample)\n",
    "    # without_speical_char=re.sub('^a-z A-Z','',sen_100[val])\n",
    "    # print(without_speical_char)\n",
    "    # without_speical_char.lower()\n",
    "    # sen_100[val]=without_speical_char"
   ]
  },
  {
   "cell_type": "code",
   "execution_count": 283,
   "id": "a1881a2c-ba7a-455c-b9e9-82cffb046382",
   "metadata": {},
   "outputs": [
    {
     "data": {
      "text/plain": [
       "['i tweaked it a little removed onions because of onion haters in my house used italian seasoning instead of just oregano and use a paprika cayenne mix and a little more than the recipe called for we like everything a bit more hot the chili was amazing it was easy to make and everyone absolutely loved it it will now be a staple meal in our house',\n",
       " 'bush used to have a white chili bean and it made this recipe super simple ive written to them and asked them to please bring them back']"
      ]
     },
     "execution_count": 283,
     "metadata": {},
     "output_type": "execute_result"
    }
   ],
   "source": [
    "len(arr)\n",
    "arr"
   ]
  },
  {
   "cell_type": "code",
   "execution_count": null,
   "id": "d64c1f9c-619c-4a92-8491-178736fb3942",
   "metadata": {},
   "outputs": [],
   "source": [
    "\n",
    "# NOW REMOVE THE STOPWORDS &\n",
    "\n"
   ]
  },
  {
   "cell_type": "code",
   "execution_count": null,
   "id": "723a7fba-a763-4183-a726-8aa8f5af807c",
   "metadata": {},
   "outputs": [],
   "source": [
    "# stopwords removal\n",
    "# from ntlk.stem import stopwords\n",
    "from nltk.corpus import stopwords\n",
    "words=[]\n",
    "for val in arr:\n",
    "    words=nltk.word_tokenize(val)\n",
    "    for word in words:\n",
    "        if (word not in stopwords.words('english')):\n",
    "            words.append(l.lemmatize(word))\n",
    "            # print(stemmer.stem(word))\n",
    "            "
   ]
  },
  {
   "cell_type": "code",
   "execution_count": null,
   "id": "3c3e5de0-d12a-4e11-a8a9-198305b76d2b",
   "metadata": {},
   "outputs": [],
   "source": []
  },
  {
   "cell_type": "code",
   "execution_count": 213,
   "id": "45720326-0be2-46c5-87da-500c43414df5",
   "metadata": {},
   "outputs": [],
   "source": [
    "    # apply the bow\n",
    "from sklearn.feature_extraction.text import CountVectorizer\n",
    "cv=CountVectorizer()\n",
    "bow=cv.fit_transform(unique_words)"
   ]
  },
  {
   "cell_type": "code",
   "execution_count": 211,
   "id": "69931de5-8caf-41c7-b99c-84de28e56dc0",
   "metadata": {},
   "outputs": [
    {
     "data": {
      "text/plain": [
       "856"
      ]
     },
     "execution_count": 211,
     "metadata": {},
     "output_type": "execute_result"
    }
   ],
   "source": [
    "len(cv.vocabulary_)"
   ]
  },
  {
   "cell_type": "code",
   "execution_count": 217,
   "id": "8af3238d-b5fc-4c37-90b5-ee3598e8a0c1",
   "metadata": {},
   "outputs": [
    {
     "data": {
      "text/plain": [
       "array([[0, 0, 0, 0, 0, 0, 0, 0, 0, 0, 0, 0, 0, 0, 0, 0, 0, 0, 0, 0, 0, 0,\n",
       "        0, 0, 0, 0, 0, 0, 0, 0, 0, 0, 0, 0, 0, 0, 0, 0, 0, 0, 0, 0, 0, 0,\n",
       "        0, 0, 0, 0, 0, 0, 0, 0, 0, 0, 0, 0, 0, 0, 0, 0, 0, 0, 0, 0, 0, 0,\n",
       "        0, 0, 0, 0, 0, 0, 0, 0, 0, 0, 0, 0, 0, 0, 0, 0, 0, 0, 0, 0, 0, 0,\n",
       "        0, 0, 0, 0, 0, 0, 0, 0, 0, 0, 0, 0, 0, 0, 0, 0, 0, 0, 0, 0, 0, 0,\n",
       "        0, 0, 0, 0, 0, 0, 0, 0, 0, 0, 0, 0, 0, 0, 0, 0, 0, 0, 0, 0, 0, 0,\n",
       "        0, 0, 0, 0, 0, 0, 0, 0, 0, 0, 0, 0, 0, 0, 0, 0, 0, 0, 0, 0, 0, 0,\n",
       "        0, 0, 0, 0, 0, 0, 0, 0, 0, 0, 0, 0, 0, 0, 0, 0, 0, 0, 0, 0, 0, 0,\n",
       "        0, 0, 0, 0, 0, 0, 0, 0, 0, 0, 0, 0, 0, 0, 0, 0, 0, 0, 0, 0, 0, 0,\n",
       "        0, 0, 0, 0, 0, 0, 0, 0, 0, 0, 0, 0, 0, 0, 0, 0, 0, 0, 0, 0, 0, 0,\n",
       "        0, 0, 0, 0, 0, 0, 0, 0, 0, 0, 0, 0, 0, 0, 0, 0, 0, 0, 0, 0, 0, 0,\n",
       "        0, 0, 0, 0, 0, 0, 0, 0, 0, 0, 0, 0, 0, 0, 0, 0, 0, 0, 0, 0, 0, 0,\n",
       "        0, 0, 0, 0, 0, 0, 0, 0, 0, 0, 0, 0, 0, 0, 0, 0, 0, 0, 0, 0, 0, 0,\n",
       "        0, 0, 0, 0, 0, 0, 0, 0, 0, 0, 0, 0, 0, 0, 0, 0, 0, 0, 0, 0, 0, 0,\n",
       "        0, 0, 0, 0, 0, 0, 0, 0, 0, 0, 0, 0, 0, 0, 0, 0, 0, 0, 0, 0, 0, 0,\n",
       "        0, 0, 0, 0, 0, 0, 0, 0, 0, 0, 0, 0, 0, 0, 0, 0, 0, 0, 0, 0, 0, 0,\n",
       "        0, 0, 0, 0, 0, 0, 0, 0, 0, 0, 0, 0, 0, 0, 0, 0, 0, 0, 0, 0, 0, 0,\n",
       "        0, 0, 0, 0, 0, 0, 0, 0, 0, 0, 0, 0, 0, 0, 0, 0, 0, 0, 0, 0, 0, 0,\n",
       "        0, 0, 0, 0, 0, 0, 0, 0, 0, 0, 0, 0, 0, 0, 0, 0, 0, 0, 0, 0, 0, 0,\n",
       "        0, 0, 0, 0, 0, 0, 0, 0, 0, 0, 0, 0, 0, 0, 0, 0, 0, 0, 0, 0, 0, 0,\n",
       "        0, 0, 0, 0, 0, 0, 0, 0, 0, 0, 0, 0, 0, 0, 0, 0, 0, 0, 0, 0, 0, 0,\n",
       "        0, 0, 0, 0, 0, 0, 0, 0, 0, 0, 0, 0, 0, 0, 0, 0, 0, 0, 0, 0, 0, 0,\n",
       "        0, 0, 0, 0, 0, 0, 0, 0, 0, 0, 0, 0, 0, 0, 0, 0, 0, 0, 0, 0, 0, 0,\n",
       "        0, 0, 0, 0, 0, 0, 0, 0, 0, 0, 0, 0, 0, 0, 0, 0, 0, 0, 0, 0, 0, 0,\n",
       "        0, 0, 0, 0, 0, 0, 0, 0, 0, 0, 0, 0, 0, 0, 0, 0, 0, 0, 0, 0, 0, 0,\n",
       "        0, 0, 0, 0, 0, 0, 0, 0, 0, 0, 0, 0, 0, 0, 0, 0, 0, 0, 0, 0, 0, 0,\n",
       "        0, 0, 0, 0, 0, 0, 0, 0, 0, 0, 0, 0, 0, 0, 0, 0, 0, 0, 0, 0, 0, 0,\n",
       "        0, 0, 0, 0, 0, 0, 0, 0, 0, 0, 0, 0, 0, 0, 0, 0, 0, 0, 0, 0, 0, 0,\n",
       "        0, 0, 0, 0, 0, 0, 0, 0, 0, 0, 0, 0, 0, 0, 0, 0, 0, 0, 0, 0, 0, 0,\n",
       "        0, 0, 0, 0, 0, 0, 0, 0, 0, 0, 0, 0, 0, 0, 0, 0, 0, 0, 0, 0, 0, 0,\n",
       "        0, 0, 0, 0, 0, 0, 0, 0, 0, 0, 0, 0, 0, 0, 0, 0, 0, 0, 0, 0, 0, 0,\n",
       "        0, 0, 0, 0, 0, 0, 0, 0, 0, 0, 0, 0, 0, 0, 0, 0, 0, 0, 0, 0, 0, 0,\n",
       "        0, 0, 0, 0, 0, 0, 0, 0, 0, 0, 0, 0, 0, 0, 0, 0, 0, 0, 0, 0, 0, 0,\n",
       "        0, 0, 0, 0, 0, 0, 0, 0, 0, 0, 0, 0, 0, 0, 0, 0, 0, 0, 0, 0, 0, 0,\n",
       "        0, 0, 0, 0, 0, 0, 0, 0, 0, 0, 0, 0, 0, 0, 0, 0, 0, 0, 0, 0, 0, 0,\n",
       "        0, 0, 0, 0, 0, 0, 0, 0, 0, 0, 0, 0, 0, 0, 0, 0, 0, 0, 0, 0, 0, 0,\n",
       "        0, 0, 0, 0, 0, 0, 0, 0, 0, 0, 0, 0, 0, 0, 0, 0, 0, 0, 0, 0, 0, 0,\n",
       "        0, 0, 0, 0, 0, 0, 0, 0, 0, 0, 0, 0, 0, 0, 0, 0, 0, 0, 0, 0, 0, 0,\n",
       "        0, 0, 0, 0, 0, 0, 0, 0, 0, 0, 0, 0, 0, 0, 0, 0, 0, 0, 0, 0]],\n",
       "      dtype=int64)"
      ]
     },
     "execution_count": 217,
     "metadata": {},
     "output_type": "execute_result"
    }
   ],
   "source": [
    "bow[0].toarray()"
   ]
  },
  {
   "cell_type": "code",
   "execution_count": null,
   "id": "04ca35fc-7564-4960-a2c5-ab2ad5eac021",
   "metadata": {},
   "outputs": [],
   "source": [
    "\n",
    "# GETTING THE UNIQUE WORDS FROM THE ARR\n"
   ]
  },
  {
   "cell_type": "code",
   "execution_count": 198,
   "id": "6abed905-d268-4743-be06-ebc96d5aec9f",
   "metadata": {},
   "outputs": [
    {
     "name": "stdout",
     "output_type": "stream",
     "text": [
      "{'', 'compliment', 'post', 'probably', 'soup', 'extra', 'regular', 'It', 'powder', 'Was', 'tasty', 'could', 'couple', 'Read', 'tomato', 'thisSo', 'said', 'recommend', 'sharing', 'serving', 'spoonful', 'freshly', 'ChiliStew', 'stirred', 'sauteing', 'greatThe', 'referring', 'raved', 'wonder', 'itI', 'offer', 'grated', 'exactly', 'uniform', 'can', 'splash', 'backI', 'gotten', 'pot', 'Halloween', 'EditorSo', 'turn', 'stated', 'crowdsplenty', 'Even', 'skim', 'GOOD', 'away', 'week', 'refrigerator', 'plusWonderful', 'went', 'isIve', 'IMy', 'prefer', 'u', 'flavored', 'thats', 'NO', 'tweaked', 'pork', 'youThis', 'cooked', 'Ninja', 'gosh', 'heat', 'Monterey', 'Its', 'suggestion', 'buy', 'jalapeo', 'amazing', 'believerI', 'share', 'puree', 'except', 'please', 'play', 'fit', 'mashed', 'saying', 'sauce', 'recipie', 'cornbread', 'gagged', 'smallI', 'turned', 'kitchen', 'makeFor', 'cold', 'served', 'pull', 'raf', 'know', 'year', 'perfectThis', 'Lumps', 'say', 'navy', 'LOTS', 'SO', 'snow', 'desired', 'futureWeve', 'Indianapolis', 'seasoned', 'Onion', 'delivered', 'familyIs', 'You', 'ahead', 'since', 'lasting', 'fix', 'though', 'fridge', 'cumin', 'better', 'T', 'LOVELOVELOVE', 'later', 'white', 'none', 'meat', 'fabulous', 'wouldnt', 'thin', 'CREAMY', 'end', 'perfection', 'obsessed', 'thinner', 'perfectly', 'gluten', 'deliciousThis', 'Im', 'Hubby', 'lid', 'Unless', 'together', 'dry', 'differently', 'accidently', 'lol', 'everyone', 'chilli', 'people', 'cheese', 'expecting', 'Turned', 'youbeen', 'Everyone', 'Could', 'control', 'shaved', 'especially', 'DH', 'bother', 'This', 'cornstarch', 'iver', 'eaten', 'yellow', 'low', 'real', 'super', 'company', 'tweak', 'chicken', 'My', 'review', 'occasionally', 'fat', 'portion', 'Totally', 'substituted', 'mentioned', 'simpleVery', 'advice', 'far', 'great', 'Otherwise', 'next', 'mouth', 'hominy', 'stole', 'according', 'softened', 'Ill', 'nope', 'sharingI', 'Mine', 'jar', 'creme', 'smaller', 'past', 'deliciousI', 'asked', 'dish', 'side', 'toward', 'exchange', 'spiciness', 'Several', 'wellIt', 'Taste', 'cannot', 'Absolutely', 'Ive', 'ingredientsWonderful', 'popped', 'minor', 'also', 'banned', 'fine', 'Made', 'ChiliWOW', 'boyfriend', 'saut', 'sprinkle', 'pureeing', 'beauty', 'bite', 'leaf', 'two', 'Do', 'plenty', 'Sazon', 'canned', 'Hes', 'Perfect', 'sour', 'tonight', 'enjoyThis', 'order', 'Probably', 'sensitive', 'Liked', 'Costco', 'day', 'chililike', 'birthday', 'Finally', 'cooker', 'Super', 'every', 'cheddar', 'free', 'anywhere', 'beginning', 'intolerance', 'thickens', 'shortcut', 'thick', 'flavorless', 'writtenIn', 'rice', 'soupstew', 'TOO', 'may', 'either', 'pico', 'tastyThis', 'thicker', 'First', 'others', 'bell', 'pimento', 'police', 'misprinti', 'thing', 'creamwhipping', 'handful', 'coconut', 'find', 'saw', 'DELISHMy', 'time', 'Chiles', 'soonFamily', 'three', 'thought', 'along', 'depending', 'version', 'Green', 'oz', 'hotThis', 'used', 'listed', 'cilantro', 'confused', 'dipping', 'Drained', 'parmesan', 'grandma', 'noVery', 'butsorry', 'White', 'ExceptionalI', 'son', 'Chicken', 'diced', 'curdle', 'thankfully', 'loved', 'fast', 'seed', 'Thanksgiving', 'Field', 'keep', 'back', 'minced', 'one', 'itmade', 'greatI', 'whats', 'didnt', 'young', 'flavorful', 'gave', 'itThis', 'ribbon', 'anything', 'preference', 'home', 'oven', 'spice', 'The', 'last', 'blended', 'specifically', 'youre', 'immersion', 'bring', 'delete', 'show', 'dice', 'veggie', 'pound', 'winter', 'there', 'go', 'flavor', 'wont', 'offs', 'Easy', 'weekWow', 'familySo', 'direction', 'single', 'jalapeos', 'min', 'DELICIOUS', 'month', 'help', 'cookoffs', 'star', 'mine', 'Since', 'large', 'Michigan', 'endThe', 'chopped', 'jalapeno', 'texture', 'started', 'cup', 'potatoe', 'tweeks', 'hotter', 'person', 'take', 'cutting', 'soupy', 'cook', 'southern', 'perfect', 'Laura', 'mild', 'If', 'experinced', 'suggestThis', 'follow', 'box', 'night', 'He', 'dinner', 'mixture', 'itsperfect', 'yet', 'around', 'Dip', 'absolute', 'made', 'ingredient', 'decade', 'garlic', 'thickening', 'Yum', 'corn', 'Thanks', 'need', 'itEXCELLENT', 'Diced', 'right', 'never', 'nonetheless', 'Instantly', 'adding', 'sauteed', 'Jalapenos', 'hot', 'told', 'Boy', 'sharp', 'And', 'pretty', 'church', 'lot', 'substitute', 'TBSP', 'iit', 'comment', 'But', 'everMade', 'seasoning', 'pressure', 'here', 'might', 'YUM', 'omitting', 'canelli', 'Gandys', 'ever', 'minute', 'maybe', 'Canellini', 'morning', 'Last', 'crisp', 'Didnt', 'houseI', 'result', 'Mecican', 'Served', 'however', 'Thank', 'Carolina', 'making', 'Anyway', 'Delish', 'BEST', 'reviewer', 'thicken', 'offThis', 'spiceI', 'amazingMade', 'expected', 'fatfree', 'found', 'fav', 'easily', 'written', 'close', 'everything', 'frozen', 'bonein', 'crushed', 'suggested', 'process', 'turkey', 'reducedEasy', 'scare', 'comfort', 'family', 'grilled', 'shake', 'glad', 'previous', 'green', 'additional', 'Total', 'tasted', 'husband', 'fresh', 'Should', 'hearty', 'Where', 'Orif', 'alltime', 'perfectI', 'flavoramazing', 'rude', 'RAVE', 'new', 'spicy', 'No', 'However', 'another', 'hoeThis', 'A', 'batch', 'In', 'add', 'double', 'storebought', 'quite', 'Maybe', 'keeper', 'freezer', 'Just', 'place', 'removed', 'preferred', 'absolutely', 'Oh', 'food', 'anyway', 'easiest', 'best', 'remedied', 'topping', 'big', 'ex', 'water', 'Only', 'teaspoon', 'well', 'smell', 'rotisserie', 'Italian', 'friend', 'would', 'Vidalia', 'harina', 'replaced', 'hater', 'forThis', 'party', 'whole', 'Best', 'simmering', 'actually', 'followed', 'pepper', 'creamsour', 'wanting', 'come', 'visiting', 'dont', 'againWhere', 'againThis', 'still', 'oregano', 'like', 'recipeI', 'group', 'flour', 'freeze', 'biscuit', 'We', 'defimitely', 'mess', 'taste', 'weeksI', 'jiffy', 'Fantastic', 'etc', 'cheeseThis', 'Really', 'half', 'missing', 'recipeWe', 'usually', 'officer', 'rave', 'woke', 'calorie', 'ingredientsThis', 'see', 'give', 'kind', 'tooThis', 'read', 'work', 'rest', 'yummy', 'One', 'huge', 'meld', 'shredded', 'northern', 'introduction', 'Drop', 'Also', 'bowl', 'LOLThis', 'amp', 'list', 'put', 'several', 'unsalted', 'let', 'creamThis', 'reason', 'Joyce', 'eating', 'doubled', 'On', 'surprised', 'chickenDelicious', 'alongside', 'Tortilla', 'Other', 'botherMy', 'meal', 'otherwise', 'Hatch', 'extremely', 'Ignore', 'problem', 'instead', 'hit', 'gathering', 'less', 'complaining', 'Will', 'butter', 'warming', 'Instead', 'itVery', 'felt', 'hand', 'kick', 'chip', 'depth', 'movie', 'carrot', 'delivers', 'Then', 'attempt', 'Good', 'puzzled', 'continue', 'smile', 'sure', 'online', 'whip', 'enough', 'request', 'recipe', 'powdered', 'terrible', 'strength', 'tired', 'weeknight', 'Personally', 'makeIm', 'mention', 'delicious', 'satisfiedWheres', 'RECIPE', 'called', 'think', 'changeadd', 'flake', 'recipeBest', 'YesssExcellent', 'stew', 'quick', 'cayenne', 'When', 'French', 'goodI', 'kid', 'good', 'exact', 'enjoyed', 'recipeDelicious', 'awesome', 'Am', 'taught', 'Completa', 'individual', 'picky', 'onion', 'wanted', 'Still', 'exhusband', 'milk', 'Great', 'serve', 'changed', 'standardsDelicious', 'Volunteer', 'ask', 'based', 'cubed', 'Mexican', 'To', 'sweet', 'appetite', 'set', 'recommended', 'full', 'meBEST', 'fixed', 'traditional', 'bean', 'simmer', 'detested', 'Used', 'DelishThis', 'cut', 'tolerate', 'without', 'Reaper', 'die', 'evening', 'way', 'rotationI', 'boneless', 'chili', 'NOT', 'wellDelicious', 'complete', 'container', 'hurt', 'little', 'heavy', 'broth', 'Tbls', 'added', 'thinking', 'broken', 'EXCELLENTGreta', 'came', 'whipping', 'definitely', 'chilisdiced', 'walked', 'againOh', 'Sounds', 'second', 'tenderloin', 'simple', 'blue', 'opened', 'suggest', 'cooking', 'release', 'needed', 'Foodie', 'YummyLoved', 'got', 'threw', 'microwave', 'liking', 'tip', 'Lastly', 'Love', 'use', 'directed', 'staple', 'chile', 'disappointed', 'creamy', 'favoritesI', 'really', 'Thats', 'granddaughter', 'Fritos', 'Zucchini', 'ago', 'Home', 'warm', 'slow', 'cream', 'Virginia', 'breakfast', 'typically', 'breast', 'mix', 'Topped', 'even', 'LOVE', 'Cheese', 'wellFor', 'quickly', 'search', 'excellent', 'kidney', 'omit', 'ounce', 'Id', 'amount', 'Results', 'favorite', 'much', 'eater', 'tend', 'starsI', 'law', 'fritos', 'roast', 'tinker', 'coat', 'soul', 'going', 'highly', 'file', 'evaporated', 'blender', 'stove', 'tender', 'boy', 'spicier', 'Had', 'often', 'long', 'easy', 'local', 'tortilla', 'fished', 'saver', 'note', 'directionsIm', 'try', 'Bowl', 'want', 'paprika', 'first', 'old', 'Next', 'favoriteDelicious', 'Moynihan', 'hubby', 'get', 'tiny', 'I', 'look', 'triple', 'daughter', 'houseBush', 'waiter', 'blend', 'forever', 'heatThis', 'change', 'itExcellent', 'small', 'replace', 'discarded', 'complicated', 'ignorant', 'Like', 'alternative', 'EXCELLENT', 'thoVery', 'EVER', 'veg', 'chiliI', 'WOW', 'cookbook', 'Jack', 'requested', 'description', 'asking', 'disappoints', 'guacamole', 'cant', 'YummmOutstanding', 'LOT', 'f', 'tripled', 'always', 'headed', 'thigh', 'took', 'restaurant', 'many', 'love', 'feel', 'THEN', 'dried', 'masa', 'Chili', 'simmered', 'eat', 'So', 'potato', 'make', 'sooo', 'tablespoon', 'goto', 'left', 'fan', 'house', 'thickened', 'mad', 'stock', 'table', 'something', 'red', 'ready', 'longVery', 'chilies', 'liked', 'slowly', 'leftover', 'everyday', 'As', 'Thinner', 'resulting', 'bit', 'Adobo', 'Worked', 'neither', 'miss', 'diagnosed', 'didFantastic', 'soninlaw', 'slightly', 'doesnt', 'yield', 'skinless', 'instant'}\n"
     ]
    }
   ],
   "source": [
    "def get_unique_words(word_list):\n",
    "  return set(word_list)\n",
    "# Example Usage:\n",
    "unique_words = get_unique_words(arr)\n",
    "print(unique_words) # Output: {'apple', 'banana', 'orange', 'kiwi'}"
   ]
  },
  {
   "cell_type": "code",
   "execution_count": 200,
   "id": "4ca7a982-6f11-4486-aead-7c8b6a2d9ec8",
   "metadata": {},
   "outputs": [
    {
     "data": {
      "text/plain": [
       "928"
      ]
     },
     "execution_count": 200,
     "metadata": {},
     "output_type": "execute_result"
    }
   ],
   "source": [
    "len(unique_words)"
   ]
  }
 ],
 "metadata": {
  "kernelspec": {
   "display_name": "Python 3 (ipykernel)",
   "language": "python",
   "name": "python3"
  },
  "language_info": {
   "codemirror_mode": {
    "name": "ipython",
    "version": 3
   },
   "file_extension": ".py",
   "mimetype": "text/x-python",
   "name": "python",
   "nbconvert_exporter": "python",
   "pygments_lexer": "ipython3",
   "version": "3.12.7"
  }
 },
 "nbformat": 4,
 "nbformat_minor": 5
}
