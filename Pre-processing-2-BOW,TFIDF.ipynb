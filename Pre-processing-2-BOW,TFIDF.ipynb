{
 "cells": [
  {
   "cell_type": "code",
   "execution_count": 2,
   "id": "8d448b50-3b0c-41ee-9029-64c1965d6ef5",
   "metadata": {},
   "outputs": [],
   "source": [
    "# import ntlk\n",
    "paragraph='''Intelligent agents operate based on an objective function, which encapsulates their goals. They are designed to create and execute plans that maximize the expected value of this function upon completion.[3] For example, a reinforcement learning agent has a reward function, which allows programmers to shape its desired behavior.[4] Similarly, an evolutionary algorithm's behavior is guided by a fitness function.[5]\n",
    "\n",
    "Intelligent agents in artificial intelligence are closely related to agents in economics, and versions of the intelligent agent paradigm are studied in cognitive science, ethics, and the philosophy of practical reason, as well as in many interdisciplinary socio-cognitive modeling and computer social simulations.\n",
    "\n",
    "Intelligent agents are often described schematically as abstract functional systems similar to computer programs. To distinguish theoretical models from real-world implementations, abstract descriptions of intelligent agents are called abstract intelligent agents. Intelligent agents are also closely related to software agents—autonomous computer programs that carry out tasks on behalf of users. They are also referred to using a term borrowed from economics: a \"rational agent\".'''"
   ]
  },
  {
   "cell_type": "code",
   "execution_count": 3,
   "id": "0e380d48-c98e-4ca0-ba28-fec9e354c8e7",
   "metadata": {},
   "outputs": [
    {
     "name": "stdout",
     "output_type": "stream",
     "text": [
      "Defaulting to user installation because normal site-packages is not writeable\n",
      "Requirement already satisfied: nltk in c:\\programdata\\anaconda3\\lib\\site-packages (3.9.1)\n",
      "Requirement already satisfied: click in c:\\programdata\\anaconda3\\lib\\site-packages (from nltk) (8.1.7)\n",
      "Requirement already satisfied: joblib in c:\\programdata\\anaconda3\\lib\\site-packages (from nltk) (1.4.2)\n",
      "Requirement already satisfied: regex>=2021.8.3 in c:\\programdata\\anaconda3\\lib\\site-packages (from nltk) (2024.9.11)\n",
      "Requirement already satisfied: tqdm in c:\\programdata\\anaconda3\\lib\\site-packages (from nltk) (4.66.5)\n",
      "Requirement already satisfied: colorama in c:\\programdata\\anaconda3\\lib\\site-packages (from click->nltk) (0.4.6)\n"
     ]
    }
   ],
   "source": [
    "!pip install nltk\n"
   ]
  },
  {
   "cell_type": "code",
   "execution_count": 3,
   "id": "caa43bcc-52bb-48a2-948d-306c688d23da",
   "metadata": {},
   "outputs": [
    {
     "data": {
      "text/plain": [
       "'Intelligent agents operate based on an objective function, which encapsulates their goals. They are designed to create and execute plans that maximize the expected value of this function upon completion.[3] For example, a reinforcement learning agent has a reward function, which allows programmers to shape its desired behavior.[4] Similarly, an evolutionary algorithm\\'s behavior is guided by a fitness function.[5]\\n\\nIntelligent agents in artificial intelligence are closely related to agents in economics, and versions of the intelligent agent paradigm are studied in cognitive science, ethics, and the philosophy of practical reason, as well as in many interdisciplinary socio-cognitive modeling and computer social simulations.\\n\\nIntelligent agents are often described schematically as abstract functional systems similar to computer programs. To distinguish theoretical models from real-world implementations, abstract descriptions of intelligent agents are called abstract intelligent agents. Intelligent agents are also closely related to software agents—autonomous computer programs that carry out tasks on behalf of users. They are also referred to using a term borrowed from economics: a \"rational agent\".'"
      ]
     },
     "execution_count": 3,
     "metadata": {},
     "output_type": "execute_result"
    }
   ],
   "source": [
    "paragraph"
   ]
  },
  {
   "cell_type": "code",
   "execution_count": 4,
   "id": "2946354d-9b8a-4284-a56e-bbab0efc77df",
   "metadata": {},
   "outputs": [
    {
     "data": {
      "text/plain": [
       "4"
      ]
     },
     "execution_count": 4,
     "metadata": {},
     "output_type": "execute_result"
    }
   ],
   "source": [
    "arr=[1,2,3,4]\n",
    "len(arr)"
   ]
  },
  {
   "cell_type": "code",
   "execution_count": 5,
   "id": "5b077695-d8a1-4d56-98f5-7ffae666c1ab",
   "metadata": {},
   "outputs": [
    {
     "name": "stdout",
     "output_type": "stream",
     "text": [
      "0\n",
      "1\n",
      "2\n",
      "3\n"
     ]
    }
   ],
   "source": [
    "for i in range(4):\n",
    "    print(i)\n",
    "    "
   ]
  },
  {
   "cell_type": "code",
   "execution_count": 169,
   "id": "1436d9a6-7e6b-4eee-80ee-939a4a626d59",
   "metadata": {},
   "outputs": [
    {
     "name": "stderr",
     "output_type": "stream",
     "text": [
      "[nltk_data] Downloading package punkt to C:\\Users\\Zia\n",
      "[nltk_data]     Laptop\\AppData\\Roaming\\nltk_data...\n",
      "[nltk_data]   Package punkt is already up-to-date!\n",
      "[nltk_data] Downloading package punkt_tab to C:\\Users\\Zia\n",
      "[nltk_data]     Laptop\\AppData\\Roaming\\nltk_data...\n",
      "[nltk_data]   Package punkt_tab is already up-to-date!\n"
     ]
    },
    {
     "data": {
      "text/plain": [
       "True"
      ]
     },
     "execution_count": 169,
     "metadata": {},
     "output_type": "execute_result"
    }
   ],
   "source": [
    "nltk.download('punkt')\n",
    "nltk.download('punkt_tab')"
   ]
  },
  {
   "cell_type": "code",
   "execution_count": 6,
   "id": "a1a04c48-55dc-4bda-9101-a664abd981a9",
   "metadata": {},
   "outputs": [],
   "source": [
    "import nltk\n",
    "from nltk.stem import PorterStemmer\n",
    "from nltk.corpus import stopwords"
   ]
  },
  {
   "cell_type": "code",
   "execution_count": 7,
   "id": "9a6417b1-f1ea-4b98-9f5e-7c87e65e5bc9",
   "metadata": {},
   "outputs": [
    {
     "data": {
      "text/plain": [
       "['Intelligent agents operate based on an objective function, which encapsulates their goals.',\n",
       " 'They are designed to create and execute plans that maximize the expected value of this function upon completion.',\n",
       " '[3] For example, a reinforcement learning agent has a reward function, which allows programmers to shape its desired behavior.',\n",
       " \"[4] Similarly, an evolutionary algorithm's behavior is guided by a fitness function.\",\n",
       " '[5]\\n\\nIntelligent agents in artificial intelligence are closely related to agents in economics, and versions of the intelligent agent paradigm are studied in cognitive science, ethics, and the philosophy of practical reason, as well as in many interdisciplinary socio-cognitive modeling and computer social simulations.',\n",
       " 'Intelligent agents are often described schematically as abstract functional systems similar to computer programs.',\n",
       " 'To distinguish theoretical models from real-world implementations, abstract descriptions of intelligent agents are called abstract intelligent agents.',\n",
       " 'Intelligent agents are also closely related to software agents—autonomous computer programs that carry out tasks on behalf of users.',\n",
       " 'They are also referred to using a term borrowed from economics: a \"rational agent\".']"
      ]
     },
     "execution_count": 7,
     "metadata": {},
     "output_type": "execute_result"
    }
   ],
   "source": [
    "sentences=nltk.sent_tokenize(paragraph)\n",
    "sentences"
   ]
  },
  {
   "cell_type": "code",
   "execution_count": 8,
   "id": "8de7e76b-6b5a-4598-b4bc-beeab86a6433",
   "metadata": {},
   "outputs": [
    {
     "name": "stdout",
     "output_type": "stream",
     "text": [
      "<class 'list'>\n",
      "9\n"
     ]
    }
   ],
   "source": [
    "print(type(sentences))\n",
    "print(len(sentences))"
   ]
  },
  {
   "cell_type": "code",
   "execution_count": null,
   "id": "56eb47a6-21d9-435d-bcef-fbb1682c4577",
   "metadata": {},
   "outputs": [],
   "source": [
    "\n",
    "#    ----------------------           stemming   ---------------------------------\n",
    "\n"
   ]
  },
  {
   "cell_type": "code",
   "execution_count": 9,
   "id": "9d4bc798-66d9-4bd9-b692-19e907f4f0d1",
   "metadata": {},
   "outputs": [
    {
     "data": {
      "text/plain": [
       "'financi'"
      ]
     },
     "execution_count": 9,
     "metadata": {},
     "output_type": "execute_result"
    }
   ],
   "source": [
    "#                                           now Stemming\n",
    "stemmer=PorterStemmer()\n",
    "stemmer.stem(\"financial\")"
   ]
  },
  {
   "cell_type": "code",
   "execution_count": null,
   "id": "78e53a32-b351-40ac-811f-fa6e1c18dc45",
   "metadata": {},
   "outputs": [],
   "source": [
    "\n",
    "#    ----------------------           LEMMITIZATION   ---------------------------------\n"
   ]
  },
  {
   "cell_type": "code",
   "execution_count": 21,
   "id": "4132c819-e4da-4000-b84f-56fbe670281a",
   "metadata": {},
   "outputs": [
    {
     "data": {
      "text/plain": [
       "'play'"
      ]
     },
     "execution_count": 21,
     "metadata": {},
     "output_type": "execute_result"
    }
   ],
   "source": [
    "\n",
    "\n",
    "\n",
    "from nltk.stem import WordNetLemmatizer\n",
    "l=WordNetLemmatizer()\n",
    "l.lemmatize(\"plays\")"
   ]
  },
  {
   "cell_type": "code",
   "execution_count": 181,
   "id": "28cbbe3a-b1a1-47c7-b915-3be9e9d004e1",
   "metadata": {},
   "outputs": [
    {
     "name": "stderr",
     "output_type": "stream",
     "text": [
      "[nltk_data] Downloading package wordnet to C:\\Users\\Zia\n",
      "[nltk_data]     Laptop\\AppData\\Roaming\\nltk_data...\n",
      "[nltk_data]   Package wordnet is already up-to-date!\n"
     ]
    },
    {
     "data": {
      "text/plain": [
       "True"
      ]
     },
     "execution_count": 181,
     "metadata": {},
     "output_type": "execute_result"
    }
   ],
   "source": [
    "nltk.download('wordnet')"
   ]
  },
  {
   "cell_type": "code",
   "execution_count": null,
   "id": "8e1d65dc-4a27-4ebd-9a8a-0218d33683f1",
   "metadata": {},
   "outputs": [],
   "source": [
    "\n",
    "\n",
    "#    ----------------------           RE   ---------------------------------\n"
   ]
  },
  {
   "cell_type": "code",
   "execution_count": 11,
   "id": "2e964c5f-7cfb-47a5-834f-b1a60fdf6ecd",
   "metadata": {},
   "outputs": [],
   "source": [
    "import re\n",
    "sentence=[]\n",
    "corpus=[]\n",
    "for i in range(len(sentences)):\n",
    "    sen=re.sub('[^a-z A-Z] ','',sentences[i])\n",
    "    sen.lower\n",
    "    corpus.append(sen)\n",
    "    # print(i)"
   ]
  },
  {
   "cell_type": "code",
   "execution_count": 12,
   "id": "f98991e4-72b3-429b-8e87-cd23f11eebce",
   "metadata": {},
   "outputs": [
    {
     "name": "stdout",
     "output_type": "stream",
     "text": [
      "<class 'list'>\n"
     ]
    },
    {
     "data": {
      "text/plain": [
       "['Intelligent agents operate based on an objective functionwhich encapsulates their goals.',\n",
       " 'They are designed to create and execute plans that maximize the expected value of this function upon completion.',\n",
       " '[3For examplea reinforcement learning agent has a reward functionwhich allows programmers to shape its desired behavior.',\n",
       " \"[4Similarlyan evolutionary algorithm's behavior is guided by a fitness function.\",\n",
       " '[5]\\n\\nIntelligent agents in artificial intelligence are closely related to agents in economicsand versions of the intelligent agent paradigm are studied in cognitive scienceethicsand the philosophy of practical reasonas well as in many interdisciplinary socio-cognitive modeling and computer social simulations.',\n",
       " 'Intelligent agents are often described schematically as abstract functional systems similar to computer programs.',\n",
       " 'To distinguish theoretical models from real-world implementationsabstract descriptions of intelligent agents are called abstract intelligent agents.',\n",
       " 'Intelligent agents are also closely related to software agents—autonomous computer programs that carry out tasks on behalf of users.',\n",
       " 'They are also referred to using a term borrowed from economicsa \"rational agent\".']"
      ]
     },
     "execution_count": 12,
     "metadata": {},
     "output_type": "execute_result"
    }
   ],
   "source": [
    "print(type(corpus))\n",
    "corpus\n"
   ]
  },
  {
   "cell_type": "code",
   "execution_count": 340,
   "id": "df83d57b-1c3b-4e7a-8b2d-a9d51aa83881",
   "metadata": {},
   "outputs": [],
   "source": [
    "# hello=[\"ahad is here\",\"kahlid is here too\"]\n",
    "# for i in hello:\n",
    "#     print(i)\n",
    "#     for word in i:\n",
    "#         print(word)"
   ]
  },
  {
   "cell_type": "code",
   "execution_count": 18,
   "id": "093e39bf-9ab8-48f8-9838-31fa6c7fcd3a",
   "metadata": {},
   "outputs": [
    {
     "name": "stdout",
     "output_type": "stream",
     "text": [
      "intellig\n",
      "agent\n",
      "oper\n",
      "base\n",
      "object\n",
      "functionwhich\n",
      "encapsul\n",
      "goal\n",
      ".\n",
      "they\n",
      "design\n",
      "creat\n",
      "execut\n",
      "plan\n",
      "maxim\n",
      "expect\n",
      "valu\n",
      "function\n",
      "upon\n",
      "complet\n",
      ".\n",
      "[\n",
      "3for\n",
      "examplea\n",
      "reinforc\n",
      "learn\n",
      "agent\n",
      "reward\n",
      "functionwhich\n",
      "allow\n",
      "programm\n",
      "shape\n",
      "desir\n",
      "behavior\n",
      ".\n",
      "[\n",
      "4similarlyan\n",
      "evolutionari\n",
      "algorithm\n",
      "'s\n",
      "behavior\n",
      "guid\n",
      "fit\n",
      "function\n",
      ".\n",
      "[\n",
      "5\n",
      "]\n",
      "intellig\n",
      "agent\n",
      "artifici\n",
      "intellig\n",
      "close\n",
      "relat\n",
      "agent\n",
      "economicsand\n",
      "version\n",
      "intellig\n",
      "agent\n",
      "paradigm\n",
      "studi\n",
      "cognit\n",
      "scienceethicsand\n",
      "philosophi\n",
      "practic\n",
      "reasona\n",
      "well\n",
      "mani\n",
      "interdisciplinari\n",
      "socio-cognit\n",
      "model\n",
      "comput\n",
      "social\n",
      "simul\n",
      ".\n",
      "intellig\n",
      "agent\n",
      "often\n",
      "describ\n",
      "schemat\n",
      "abstract\n",
      "function\n",
      "system\n",
      "similar\n",
      "comput\n",
      "program\n",
      ".\n",
      "to\n",
      "distinguish\n",
      "theoret\n",
      "model\n",
      "real-world\n",
      "implementationsabstract\n",
      "descript\n",
      "intellig\n",
      "agent\n",
      "call\n",
      "abstract\n",
      "intellig\n",
      "agent\n",
      ".\n",
      "intellig\n",
      "agent\n",
      "also\n",
      "close\n",
      "relat\n",
      "softwar\n",
      "agents—autonom\n",
      "comput\n",
      "program\n",
      "carri\n",
      "task\n",
      "behalf\n",
      "user\n",
      ".\n",
      "they\n",
      "also\n",
      "refer\n",
      "use\n",
      "term\n",
      "borrow\n",
      "economicsa\n",
      "``\n",
      "ration\n",
      "agent\n",
      "''\n",
      ".\n"
     ]
    }
   ],
   "source": [
    "hello=[\"ahad is here\",\"kahlid is here too\"]\n",
    "word_1=[]\n",
    "for i in corpus:\n",
    "    word=nltk.word_tokenize(i)\n",
    "    for w in word:\n",
    "        if (w not in stopwords.words('english')):\n",
    "            print(stemmer.stem(w))\n",
    "            word_1.append(stemmer.stem(w))\n",
    "    #         print(\"not a stop word\")\n",
    "    #     else:\n",
    "    #         print('stopword')\n",
    "    # print(word)\n"
   ]
  },
  {
   "cell_type": "code",
   "execution_count": 22,
   "id": "4cebbdfd",
   "metadata": {},
   "outputs": [
    {
     "name": "stdout",
     "output_type": "stream",
     "text": [
      "Intelligent\n",
      "agent\n",
      "operate\n",
      "based\n",
      "objective\n",
      "functionwhich\n",
      "encapsulates\n",
      "goal\n",
      ".\n",
      "They\n",
      "designed\n",
      "create\n",
      "execute\n",
      "plan\n",
      "maximize\n",
      "expected\n",
      "value\n",
      "function\n",
      "upon\n",
      "completion\n",
      ".\n",
      "[\n",
      "3For\n",
      "examplea\n",
      "reinforcement\n",
      "learning\n",
      "agent\n",
      "reward\n",
      "functionwhich\n",
      "allows\n",
      "programmer\n",
      "shape\n",
      "desired\n",
      "behavior\n",
      ".\n",
      "[\n",
      "4Similarlyan\n",
      "evolutionary\n",
      "algorithm\n",
      "'s\n",
      "behavior\n",
      "guided\n",
      "fitness\n",
      "function\n",
      ".\n",
      "[\n",
      "5\n",
      "]\n",
      "Intelligent\n",
      "agent\n",
      "artificial\n",
      "intelligence\n",
      "closely\n",
      "related\n",
      "agent\n",
      "economicsand\n",
      "version\n",
      "intelligent\n",
      "agent\n",
      "paradigm\n",
      "studied\n",
      "cognitive\n",
      "scienceethicsand\n",
      "philosophy\n",
      "practical\n",
      "reasonas\n",
      "well\n",
      "many\n",
      "interdisciplinary\n",
      "socio-cognitive\n",
      "modeling\n",
      "computer\n",
      "social\n",
      "simulation\n",
      ".\n",
      "Intelligent\n",
      "agent\n",
      "often\n",
      "described\n",
      "schematically\n",
      "abstract\n",
      "functional\n",
      "system\n",
      "similar\n",
      "computer\n",
      "program\n",
      ".\n",
      "To\n",
      "distinguish\n",
      "theoretical\n",
      "model\n",
      "real-world\n",
      "implementationsabstract\n",
      "description\n",
      "intelligent\n",
      "agent\n",
      "called\n",
      "abstract\n",
      "intelligent\n",
      "agent\n",
      ".\n",
      "Intelligent\n",
      "agent\n",
      "also\n",
      "closely\n",
      "related\n",
      "software\n",
      "agents—autonomous\n",
      "computer\n",
      "program\n",
      "carry\n",
      "task\n",
      "behalf\n",
      "user\n",
      ".\n",
      "They\n",
      "also\n",
      "referred\n",
      "using\n",
      "term\n",
      "borrowed\n",
      "economicsa\n",
      "``\n",
      "rational\n",
      "agent\n",
      "''\n",
      ".\n"
     ]
    }
   ],
   "source": [
    "hello=[\"ahad is here\",\"kahlid is here too\"]\n",
    "word_1=[]\n",
    "for i in corpus:\n",
    "    word=nltk.word_tokenize(i)\n",
    "    for w in word:\n",
    "        if (w not in stopwords.words('english')):\n",
    "            print(l.lemmatize(w))\n",
    "            word_1.append(l.lemmatize(w))\n",
    "    #         print(\"not a stop word\")\n",
    "    #     else:\n",
    "    #         print('stopword')\n",
    "    # print(word)\n"
   ]
  },
  {
   "cell_type": "code",
   "execution_count": 20,
   "id": "233aad09-e32d-4a67-8f79-a59a9cb88b0c",
   "metadata": {},
   "outputs": [
    {
     "name": "stdout",
     "output_type": "stream",
     "text": [
      "<class 'list'>\n"
     ]
    },
    {
     "data": {
      "text/plain": [
       "127"
      ]
     },
     "execution_count": 20,
     "metadata": {},
     "output_type": "execute_result"
    }
   ],
   "source": [
    "print(type(word_1))\n",
    "len(word_1)"
   ]
  },
  {
   "cell_type": "markdown",
   "id": "0ec14d6c",
   "metadata": {},
   "source": [
    "\n",
    "#count vectorizer: BAG OF WORDS"
   ]
  },
  {
   "cell_type": "code",
   "execution_count": 28,
   "id": "ffa45049",
   "metadata": {},
   "outputs": [
    {
     "name": "stdout",
     "output_type": "stream",
     "text": [
      "Requirement already satisfied: scikit-learn in c:\\users\\zia laptop\\appdata\\local\\programs\\python\\python313\\lib\\site-packages (1.6.1)Note: you may need to restart the kernel to use updated packages.\n",
      "\n",
      "Requirement already satisfied: numpy>=1.19.5 in c:\\users\\zia laptop\\appdata\\local\\programs\\python\\python313\\lib\\site-packages (from scikit-learn) (2.2.2)\n",
      "Requirement already satisfied: scipy>=1.6.0 in c:\\users\\zia laptop\\appdata\\local\\programs\\python\\python313\\lib\\site-packages (from scikit-learn) (1.15.1)\n",
      "Requirement already satisfied: joblib>=1.2.0 in c:\\users\\zia laptop\\appdata\\local\\programs\\python\\python313\\lib\\site-packages (from scikit-learn) (1.4.2)\n",
      "Requirement already satisfied: threadpoolctl>=3.1.0 in c:\\users\\zia laptop\\appdata\\local\\programs\\python\\python313\\lib\\site-packages (from scikit-learn) (3.5.0)\n"
     ]
    }
   ],
   "source": [
    "%pip install scikit-learn\n",
    "\n",
    "from sklearn.feature_extraction.text import CountVectorizer\n",
    "cv = CountVectorizer()\n",
    "bow=cv.fit_transform(corpus)"
   ]
  },
  {
   "cell_type": "code",
   "execution_count": 33,
   "id": "bc34f801",
   "metadata": {},
   "outputs": [
    {
     "data": {
      "text/plain": [
       "{'intelligent': 49,\n",
       " 'agents': 4,\n",
       " 'operate': 62,\n",
       " 'based': 14,\n",
       " 'on': 61,\n",
       " 'an': 8,\n",
       " 'objective': 58,\n",
       " 'functionwhich': 42,\n",
       " 'encapsulates': 33,\n",
       " 'their': 91,\n",
       " 'goals': 43,\n",
       " 'they': 93,\n",
       " 'are': 10,\n",
       " 'designed': 28,\n",
       " 'to': 95,\n",
       " 'create': 25,\n",
       " 'and': 9,\n",
       " 'execute': 36,\n",
       " 'plans': 66,\n",
       " 'that': 89,\n",
       " 'maximize': 55,\n",
       " 'the': 90,\n",
       " 'expected': 37,\n",
       " 'value': 99,\n",
       " 'of': 59,\n",
       " 'this': 94,\n",
       " 'function': 40,\n",
       " 'upon': 96,\n",
       " 'completion': 23,\n",
       " '3for': 0,\n",
       " 'examplea': 35,\n",
       " 'reinforcement': 74,\n",
       " 'learning': 53,\n",
       " 'agent': 3,\n",
       " 'has': 45,\n",
       " 'reward': 76,\n",
       " 'allows': 6,\n",
       " 'programmers': 68,\n",
       " 'shape': 79,\n",
       " 'its': 52,\n",
       " 'desired': 29,\n",
       " 'behavior': 16,\n",
       " '4similarlyan': 1,\n",
       " 'evolutionary': 34,\n",
       " 'algorithm': 5,\n",
       " 'is': 51,\n",
       " 'guided': 44,\n",
       " 'by': 18,\n",
       " 'fitness': 38,\n",
       " 'in': 47,\n",
       " 'artificial': 11,\n",
       " 'intelligence': 48,\n",
       " 'closely': 21,\n",
       " 'related': 75,\n",
       " 'economicsand': 32,\n",
       " 'versions': 100,\n",
       " 'paradigm': 64,\n",
       " 'studied': 85,\n",
       " 'cognitive': 22,\n",
       " 'scienceethicsand': 78,\n",
       " 'philosophy': 65,\n",
       " 'practical': 67,\n",
       " 'reasonas': 72,\n",
       " 'well': 101,\n",
       " 'as': 12,\n",
       " 'many': 54,\n",
       " 'interdisciplinary': 50,\n",
       " 'socio': 83,\n",
       " 'modeling': 56,\n",
       " 'computer': 24,\n",
       " 'social': 82,\n",
       " 'simulations': 81,\n",
       " 'often': 60,\n",
       " 'described': 26,\n",
       " 'schematically': 77,\n",
       " 'abstract': 2,\n",
       " 'functional': 41,\n",
       " 'systems': 86,\n",
       " 'similar': 80,\n",
       " 'programs': 69,\n",
       " 'distinguish': 30,\n",
       " 'theoretical': 92,\n",
       " 'models': 57,\n",
       " 'from': 39,\n",
       " 'real': 71,\n",
       " 'world': 102,\n",
       " 'implementationsabstract': 46,\n",
       " 'descriptions': 27,\n",
       " 'called': 19,\n",
       " 'also': 7,\n",
       " 'software': 84,\n",
       " 'autonomous': 13,\n",
       " 'carry': 20,\n",
       " 'out': 63,\n",
       " 'tasks': 87,\n",
       " 'behalf': 15,\n",
       " 'users': 97,\n",
       " 'referred': 73,\n",
       " 'using': 98,\n",
       " 'term': 88,\n",
       " 'borrowed': 17,\n",
       " 'economicsa': 31,\n",
       " 'rational': 70}"
      ]
     },
     "execution_count": 33,
     "metadata": {},
     "output_type": "execute_result"
    }
   ],
   "source": [
    "cv.vocabulary_\n"
   ]
  },
  {
   "cell_type": "code",
   "execution_count": 40,
   "id": "6e7fb500",
   "metadata": {},
   "outputs": [
    {
     "name": "stdout",
     "output_type": "stream",
     "text": [
      "103\n"
     ]
    },
    {
     "data": {
      "text/plain": [
       "array(['3for', '4similarlyan', 'abstract', 'agent', 'agents', 'algorithm',\n",
       "       'allows', 'also', 'an', 'and', 'are', 'artificial', 'as',\n",
       "       'autonomous', 'based', 'behalf', 'behavior', 'borrowed', 'by',\n",
       "       'called', 'carry', 'closely', 'cognitive', 'completion',\n",
       "       'computer', 'create', 'described', 'descriptions', 'designed',\n",
       "       'desired', 'distinguish', 'economicsa', 'economicsand',\n",
       "       'encapsulates', 'evolutionary', 'examplea', 'execute', 'expected',\n",
       "       'fitness', 'from', 'function', 'functional', 'functionwhich',\n",
       "       'goals', 'guided', 'has', 'implementationsabstract', 'in',\n",
       "       'intelligence', 'intelligent', 'interdisciplinary', 'is', 'its',\n",
       "       'learning', 'many', 'maximize', 'modeling', 'models', 'objective',\n",
       "       'of', 'often', 'on', 'operate', 'out', 'paradigm', 'philosophy',\n",
       "       'plans', 'practical', 'programmers', 'programs', 'rational',\n",
       "       'real', 'reasonas', 'referred', 'reinforcement', 'related',\n",
       "       'reward', 'schematically', 'scienceethicsand', 'shape', 'similar',\n",
       "       'simulations', 'social', 'socio', 'software', 'studied', 'systems',\n",
       "       'tasks', 'term', 'that', 'the', 'their', 'theoretical', 'they',\n",
       "       'this', 'to', 'upon', 'users', 'using', 'value', 'versions',\n",
       "       'well', 'world'], dtype=object)"
      ]
     },
     "execution_count": 40,
     "metadata": {},
     "output_type": "execute_result"
    }
   ],
   "source": [
    "vocab=cv.get_feature_names_out()\n",
    "print(len((vocab)))\n",
    "vocab"
   ]
  },
  {
   "cell_type": "code",
   "execution_count": 35,
   "id": "4f105c9f",
   "metadata": {},
   "outputs": [
    {
     "name": "stdout",
     "output_type": "stream",
     "text": [
      "Intelligent agents operate based on an objective functionwhich encapsulates their goals.\n"
     ]
    }
   ],
   "source": [
    "print(corpus[0])"
   ]
  },
  {
   "cell_type": "code",
   "execution_count": 36,
   "id": "b9ebc2d6",
   "metadata": {},
   "outputs": [
    {
     "data": {
      "text/plain": [
       "array([[0, 0, 0, 0, 1, 0, 0, 0, 1, 0, 0, 0, 0, 0, 1, 0, 0, 0, 0, 0, 0, 0,\n",
       "        0, 0, 0, 0, 0, 0, 0, 0, 0, 0, 0, 1, 0, 0, 0, 0, 0, 0, 0, 0, 1, 1,\n",
       "        0, 0, 0, 0, 0, 1, 0, 0, 0, 0, 0, 0, 0, 0, 1, 0, 0, 1, 1, 0, 0, 0,\n",
       "        0, 0, 0, 0, 0, 0, 0, 0, 0, 0, 0, 0, 0, 0, 0, 0, 0, 0, 0, 0, 0, 0,\n",
       "        0, 0, 0, 1, 0, 0, 0, 0, 0, 0, 0, 0, 0, 0, 0]])"
      ]
     },
     "execution_count": 36,
     "metadata": {},
     "output_type": "execute_result"
    }
   ],
   "source": [
    "bow[0].toarray()"
   ]
  },
  {
   "cell_type": "code",
   "execution_count": null,
   "id": "4b91c788-3cd2-4ff9-ba75-b8179e972920",
   "metadata": {},
   "outputs": [],
   "source": [
    "\n",
    "#now apply the stemmer on itwow=sentence[0]\n",
    "import  nltk\n",
    "from nltk.stem import PorterStemmer\n",
    "stemmer=PorterStemmer()\n",
    "key_array=wow.split(' ')\n",
    "sample=[]\n",
    "for i in range(len(key_array)):\n",
    "    # to access word key_array[i]\n",
    "    val=stemmer.stem(key_array[i])\n",
    "    key_array[i]=val\n",
    "print(key_array)\n",
    "type(key_array)\n",
    "\" \".join(key_array)"
   ]
  },
  {
   "cell_type": "code",
   "execution_count": null,
   "id": "d402e187-4247-48af-acdd-0f8ad46130aa",
   "metadata": {},
   "outputs": [],
   "source": [
    "\n",
    "#    ----------------------           STOPWORDS  ---------------------------------\n",
    "\n"
   ]
  },
  {
   "cell_type": "code",
   "execution_count": 197,
   "id": "9d933c95-a06c-4cc5-898a-8d052b7be121",
   "metadata": {},
   "outputs": [
    {
     "name": "stderr",
     "output_type": "stream",
     "text": [
      "[nltk_data] Downloading package stopwords to C:\\Users\\Zia\n",
      "[nltk_data]     Laptop\\AppData\\Roaming\\nltk_data...\n",
      "[nltk_data]   Unzipping corpora\\stopwords.zip.\n"
     ]
    },
    {
     "data": {
      "text/plain": [
       "True"
      ]
     },
     "execution_count": 197,
     "metadata": {},
     "output_type": "execute_result"
    }
   ],
   "source": [
    "nltk.download('stopwords')\n",
    "\n",
    "# sentences=nltk.sent_tokenize(paragraph)\n",
    "# sentences"
   ]
  },
  {
   "cell_type": "code",
   "execution_count": 281,
   "id": "999b999a-3080-4510-9b26-80ef8c091184",
   "metadata": {},
   "outputs": [
    {
     "name": "stdout",
     "output_type": "stream",
     "text": [
      "not stopword\n",
      "not stopword\n",
      "not stopword\n",
      "not stopword\n",
      "stopword\n",
      "stopword\n",
      "not stopword\n",
      "not stopword\n",
      "stopword\n",
      "not stopword\n",
      "stopword\n",
      "not stopword\n",
      "not stopword\n",
      "stopword\n",
      "not stopword\n",
      "stopword\n",
      "not stopword\n",
      "stopword\n",
      "not stopword\n",
      "not stopword\n",
      "stopword\n",
      "not stopword\n",
      "stopword\n",
      "not stopword\n",
      "not stopword\n",
      "stopword\n",
      "stopword\n",
      "not stopword\n",
      "not stopword\n",
      "not stopword\n",
      "not stopword\n",
      "not stopword\n",
      "not stopword\n",
      "stopword\n",
      "not stopword\n",
      "not stopword\n",
      "not stopword\n",
      "stopword\n",
      "stopword\n",
      "not stopword\n",
      "not stopword\n",
      "stopword\n",
      "not stopword\n",
      "not stopword\n",
      "stopword\n",
      "not stopword\n",
      "stopword\n",
      "not stopword\n",
      "not stopword\n",
      "not stopword\n",
      "not stopword\n",
      "stopword\n",
      "not stopword\n",
      "not stopword\n",
      "not stopword\n",
      "stopword\n",
      "not stopword\n",
      "stopword\n",
      "stopword\n",
      "not stopword\n",
      "not stopword\n",
      "not stopword\n",
      "not stopword\n",
      "stopword\n",
      "not stopword\n",
      "not stopword\n",
      "stopword\n",
      "not stopword\n",
      "not stopword\n",
      "stopword\n",
      "not stopword\n",
      "stopword\n",
      "not stopword\n",
      "stopword\n",
      "not stopword\n",
      "stopword\n",
      "stopword\n",
      "not stopword\n",
      "not stopword\n",
      "not stopword\n",
      "stopword\n",
      "not stopword\n",
      "stopword\n",
      "not stopword\n",
      "not stopword\n",
      "not stopword\n",
      "stopword\n",
      "stopword\n",
      "not stopword\n",
      "stopword\n",
      "not stopword\n",
      "not stopword\n",
      "stopword\n",
      "not stopword\n",
      "stopword\n",
      "stopword\n",
      "not stopword\n",
      "not stopword\n",
      "not stopword\n",
      "not stopword\n",
      "stopword\n",
      "not stopword\n",
      "not stopword\n",
      "not stopword\n",
      "not stopword\n",
      "not stopword\n",
      "stopword\n",
      "not stopword\n",
      "not stopword\n",
      "not stopword\n",
      "stopword\n",
      "not stopword\n",
      "not stopword\n",
      "not stopword\n",
      "not stopword\n",
      "stopword\n",
      "not stopword\n",
      "not stopword\n",
      "not stopword\n",
      "not stopword\n",
      "not stopword\n",
      "not stopword\n",
      "stopword\n",
      "not stopword\n",
      "not stopword\n",
      "not stopword\n",
      "not stopword\n",
      "stopword\n",
      "not stopword\n",
      "not stopword\n",
      "stopword\n",
      "not stopword\n",
      "not stopword\n",
      "not stopword\n",
      "not stopword\n",
      "not stopword\n",
      "not stopword\n",
      "stopword\n",
      "not stopword\n",
      "not stopword\n",
      "not stopword\n",
      "stopword\n",
      "not stopword\n",
      "not stopword\n",
      "not stopword\n",
      "not stopword\n",
      "stopword\n",
      "not stopword\n",
      "stopword\n",
      "not stopword\n",
      "stopword\n",
      "not stopword\n",
      "stopword\n",
      "not stopword\n",
      "not stopword\n",
      "stopword\n",
      "not stopword\n",
      "not stopword\n",
      "stopword\n",
      "not stopword\n",
      "stopword\n",
      "not stopword\n",
      "not stopword\n",
      "stopword\n",
      "not stopword\n",
      "stopword\n",
      "not stopword\n",
      "not stopword\n"
     ]
    },
    {
     "data": {
      "text/plain": [
       "['They',\n",
       " 'also',\n",
       " 'referred',\n",
       " 'using',\n",
       " 'term',\n",
       " 'borrowed',\n",
       " 'economics:',\n",
       " '\"rational',\n",
       " 'agent\".']"
      ]
     },
     "execution_count": 281,
     "metadata": {},
     "output_type": "execute_result"
    }
   ],
   "source": [
    "# sen=\"hello there how are you doing in this wheather\"\n",
    "new_arry=[]\n",
    "filtered_words=[]\n",
    "for p in range(len(sentences)):\n",
    "    arr=sentences[p].split(' ')\n",
    "    for i in range(len(arr)):\n",
    "        if arr[i] not in stopwords.words('english'):\n",
    "            print(\"not stopword\")\n",
    "        else:\n",
    "            arr[i]=''\n",
    "            print(\"stopword\")\n",
    "        filtered_words = [word for word in arr if word]      \n",
    "    sentences[p]=\" \".join(filtered_words)\n",
    "    \n",
    "    \n",
    "filtered_words"
   ]
  },
  {
   "cell_type": "code",
   "execution_count": 283,
   "id": "0e0cde45-1e2f-41c6-836b-1858ff6cefb8",
   "metadata": {},
   "outputs": [
    {
     "data": {
      "text/plain": [
       "['Intelligent agents operate based objective function, encapsulates goals.',\n",
       " 'They designed create execute plans maximize expected value function upon completion.',\n",
       " '[3] For example, reinforcement learning agent reward function, allows programmers shape desired behavior.',\n",
       " \"[4] Similarly, evolutionary algorithm's behavior guided fitness function.\",\n",
       " '[5]\\n\\nIntelligent agents artificial intelligence closely related agents economics, versions intelligent agent paradigm studied cognitive science, ethics, philosophy practical reason, well many interdisciplinary socio-cognitive modeling computer social simulations.',\n",
       " 'Intelligent agents often described schematically abstract functional systems similar computer programs.',\n",
       " 'To distinguish theoretical models real-world implementations, abstract descriptions intelligent agents called abstract intelligent agents.',\n",
       " 'Intelligent agents also closely related software agents—autonomous computer programs carry tasks behalf users.',\n",
       " 'They also referred using term borrowed economics: \"rational agent\".']"
      ]
     },
     "execution_count": 283,
     "metadata": {},
     "output_type": "execute_result"
    }
   ],
   "source": [
    "sentences\n",
    "# They are designed to create and execute plans that maximize the expected value of this function upon completion."
   ]
  },
  {
   "cell_type": "code",
   "execution_count": null,
   "id": "5ea71ce9-42a3-463a-a1fe-9f2788ee3409",
   "metadata": {},
   "outputs": [],
   "source": [
    "\n",
    "#    ----------------------           stemming IMPLEMENT  ---------------------------------\n",
    "\n"
   ]
  },
  {
   "cell_type": "code",
   "execution_count": 289,
   "id": "6b83dd1b-a4b3-455b-8bef-15472fd86a31",
   "metadata": {},
   "outputs": [
    {
     "data": {
      "text/plain": [
       "'hisori'"
      ]
     },
     "execution_count": 289,
     "metadata": {},
     "output_type": "execute_result"
    }
   ],
   "source": [
    "import nltk\n",
    "from nltk.stem import PorterStemmer\n",
    "stemmer=PorterStemmer()\n",
    "stemmer.stem(\"hISORY\")"
   ]
  },
  {
   "cell_type": "code",
   "execution_count": 291,
   "id": "c66c338f-4f26-4753-864d-4788411df5c7",
   "metadata": {},
   "outputs": [],
   "source": [
    "from nltk.stem import PorterStemmer\n",
    "stem_sentences=[]\n",
    "for i in range(len(sentence)):\n",
    "    curr_sen=sentence[i]\n",
    "    curr_array=curr_sen.split(' ')\n",
    "    stemmer=PorterStemmer()\n",
    "    for j in range(len(curr_array)):\n",
    "        val=stemmer.stem(curr_array[j])\n",
    "        curr_array[j]=val\n",
    "    s=\" \".join(curr_array)\n",
    "    sentence[i]=s\n",
    "    \n",
    "    # find the steeming on the sentences\n",
    "    "
   ]
  },
  {
   "cell_type": "code",
   "execution_count": 293,
   "id": "306d2b69-e395-4b09-a883-9f38584cb2af",
   "metadata": {},
   "outputs": [
    {
     "data": {
      "text/plain": [
       "['intellig agent oper base object functionencapsul goals.',\n",
       " 'they design creat execut plan maxim expect valu function upon completion.',\n",
       " '[3for examplereinforc learn agent reward functionallow programm shape desir behavior.',\n",
       " \"[4similarlyevolutionari algorithm' behavior guid fit function.\",\n",
       " '[5]\\n\\nintellig agent artifici intellig close relat agent economicsvers intellig agent paradigm studi cognit scienceethicsphilosophi practic reasonwel mani interdisciplinari socio-cognit model comput social simulations.',\n",
       " 'intellig agent often describ schemat abstract function system similar comput programs.',\n",
       " 'to distinguish theoret model real-world implementationsabstract descript intellig agent call abstract intellig agents.',\n",
       " 'intellig agent also close relat softwar agents—autonom comput program carri task behalf users.',\n",
       " 'they also refer use term borrow economics\"r agent\".']"
      ]
     },
     "execution_count": 293,
     "metadata": {},
     "output_type": "execute_result"
    }
   ],
   "source": [
    "sentence"
   ]
  },
  {
   "cell_type": "code",
   "execution_count": 295,
   "id": "31086e84-e974-4195-9d0f-029257ef3baf",
   "metadata": {},
   "outputs": [
    {
     "name": "stdout",
     "output_type": "stream",
     "text": [
      "Scikit-learn is installed.\n",
      "Version: 1.5.1\n"
     ]
    }
   ],
   "source": [
    "import sklearn\n",
    "print(\"Scikit-learn is installed.\")\n",
    "print(\"Version:\", sklearn.__version__)\n"
   ]
  },
  {
   "cell_type": "code",
   "execution_count": null,
   "id": "51718552-9c07-4984-b435-5c00c8c14cbb",
   "metadata": {},
   "outputs": [],
   "source": []
  }
 ],
 "metadata": {
  "kernelspec": {
   "display_name": "Python 3",
   "language": "python",
   "name": "python3"
  },
  "language_info": {
   "codemirror_mode": {
    "name": "ipython",
    "version": 3
   },
   "file_extension": ".py",
   "mimetype": "text/x-python",
   "name": "python",
   "nbconvert_exporter": "python",
   "pygments_lexer": "ipython3",
   "version": "3.13.1"
  }
 },
 "nbformat": 4,
 "nbformat_minor": 5
}
