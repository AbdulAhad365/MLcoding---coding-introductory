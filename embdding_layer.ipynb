{
  "nbformat": 4,
  "nbformat_minor": 0,
  "metadata": {
    "colab": {
      "provenance": []
    },
    "kernelspec": {
      "name": "python3",
      "display_name": "Python 3"
    },
    "language_info": {
      "name": "python"
    }
  },
  "cells": [
    {
      "cell_type": "code",
      "execution_count": 18,
      "metadata": {
        "colab": {
          "base_uri": "https://localhost:8080/"
        },
        "id": "flbKoBZu7g3u",
        "outputId": "71d500e8-f2fd-4671-ec0b-f394126db8cb"
      },
      "outputs": [
        {
          "output_type": "stream",
          "name": "stdout",
          "text": [
            "2.18.0\n"
          ]
        }
      ],
      "source": [
        "import tensorflow as tf\n",
        "import pandas as pd\n",
        "print(tf.__version__)"
      ]
    },
    {
      "cell_type": "code",
      "source": [
        "from tensorflow.keras.preprocessing.text import one_hot\n",
        "### sentences\n",
        "sent=[  'the glass of milk',\n",
        "     'the glass of juice',\n",
        "     'the cup of tea',\n",
        "    'I am a good boy',\n",
        "     'I am a good developer',\n",
        "     'understand the meaning of words',\n",
        "        'your videos are good']"
      ],
      "metadata": {
        "id": "N7T26a5T7r3p"
      },
      "execution_count": 2,
      "outputs": []
    },
    {
      "cell_type": "code",
      "source": [],
      "metadata": {
        "id": "j3uCXoHn9yd1"
      },
      "execution_count": null,
      "outputs": []
    },
    {
      "cell_type": "code",
      "source": [],
      "metadata": {
        "id": "X7i6k5-A94us"
      },
      "execution_count": null,
      "outputs": []
    },
    {
      "cell_type": "code",
      "source": [
        "#ONE HOT ENCODING APPLIED"
      ],
      "metadata": {
        "id": "8dnDZqSR9yfU"
      },
      "execution_count": 16,
      "outputs": []
    },
    {
      "cell_type": "code",
      "source": [
        "vocab_size=500\n",
        "result_matrix=[]\n",
        "for word in sent:\n",
        "  print(f\"{word}\")\n",
        "  result_matrix.append(one_hot(word,vocab_size))\n",
        "  print(one_hot(word,vocab_size))\n",
        "  print(\"   \")"
      ],
      "metadata": {
        "colab": {
          "base_uri": "https://localhost:8080/"
        },
        "id": "ma8DrbpR77ZB",
        "outputId": "2d4c07f5-2859-4f87-e7e9-9fd04ac30ec0"
      },
      "execution_count": 14,
      "outputs": [
        {
          "output_type": "stream",
          "name": "stdout",
          "text": [
            "the glass of milk\n",
            "[366, 337, 158, 300]\n",
            "   \n",
            "the glass of juice\n",
            "[366, 337, 158, 449]\n",
            "   \n",
            "the cup of tea\n",
            "[366, 208, 158, 35]\n",
            "   \n",
            "I am a good boy\n",
            "[112, 444, 211, 311, 192]\n",
            "   \n",
            "I am a good developer\n",
            "[112, 444, 211, 311, 383]\n",
            "   \n",
            "understand the meaning of words\n",
            "[8, 366, 362, 158, 196]\n",
            "   \n",
            "your videos are good\n",
            "[218, 408, 255, 311]\n",
            "   \n"
          ]
        }
      ]
    },
    {
      "cell_type": "code",
      "source": [
        "# trying passing\n",
        "result_matrix"
      ],
      "metadata": {
        "colab": {
          "base_uri": "https://localhost:8080/"
        },
        "id": "iy9eW9rl8xAp",
        "outputId": "ad3b3ace-bc60-42b9-9290-7c1f6504f4a6"
      },
      "execution_count": 15,
      "outputs": [
        {
          "output_type": "execute_result",
          "data": {
            "text/plain": [
              "[[366, 337, 158, 300],\n",
              " [366, 337, 158, 449],\n",
              " [366, 208, 158, 35],\n",
              " [112, 444, 211, 311, 192],\n",
              " [112, 444, 211, 311, 383],\n",
              " [8, 366, 362, 158, 196],\n",
              " [218, 408, 255, 311]]"
            ]
          },
          "metadata": {},
          "execution_count": 15
        }
      ]
    },
    {
      "cell_type": "code",
      "source": [
        "from tensorflow.keras.layers import Embedding\n",
        "from tensorflow.keras.preprocessing.sequence import pad_sequences\n",
        "from tensorflow.keras.models import Sequential"
      ],
      "metadata": {
        "id": "ggDhBWMR98r6"
      },
      "execution_count": 17,
      "outputs": []
    },
    {
      "cell_type": "code",
      "source": [
        "# max sentences that are used in the sentences\n",
        "\n",
        "arr=[]\n",
        "def max_sent_size(sen):\n",
        "  for x in result_matrix:\n",
        "\n",
        "    arr.append((len(x)))\n",
        "  return max(arr)\n",
        "hightest_sent_word=max_sent_size(result_matrix[0])"
      ],
      "metadata": {
        "id": "Mul7PM8g-J7r"
      },
      "execution_count": 22,
      "outputs": []
    },
    {
      "cell_type": "code",
      "source": [
        "# now APPLY THE PADDING TO EQUAL THE SIZE OF THE SENTNECES\n",
        "sent_size=hightest_sent_word+3\n",
        "embedded_docs=pad_sequences(result_matrix,maxlen=sent_size,padding='pre')"
      ],
      "metadata": {
        "id": "sLr46N-u-dkJ"
      },
      "execution_count": 24,
      "outputs": []
    },
    {
      "cell_type": "code",
      "source": [
        "embedded_docs"
      ],
      "metadata": {
        "colab": {
          "base_uri": "https://localhost:8080/"
        },
        "id": "jeyD0lp9_0pB",
        "outputId": "7c483428-2d66-42b2-d3ca-1f86dfdcb046"
      },
      "execution_count": 25,
      "outputs": [
        {
          "output_type": "execute_result",
          "data": {
            "text/plain": [
              "array([[  0,   0,   0,   0, 366, 337, 158, 300],\n",
              "       [  0,   0,   0,   0, 366, 337, 158, 449],\n",
              "       [  0,   0,   0,   0, 366, 208, 158,  35],\n",
              "       [  0,   0,   0, 112, 444, 211, 311, 192],\n",
              "       [  0,   0,   0, 112, 444, 211, 311, 383],\n",
              "       [  0,   0,   0,   8, 366, 362, 158, 196],\n",
              "       [  0,   0,   0,   0, 218, 408, 255, 311]], dtype=int32)"
            ]
          },
          "metadata": {},
          "execution_count": 25
        }
      ]
    },
    {
      "cell_type": "markdown",
      "source": [
        "## NOW APPLY THE EMBEDDING LAYER"
      ],
      "metadata": {
        "id": "4fnqBrJOBZp2"
      }
    },
    {
      "cell_type": "code",
      "source": [
        "# DIMENTIONS\n",
        "dim=10\n",
        "model=Sequential()\n",
        "model.add(Embedding(vocab_size,dim,input_length=sent_size))\n",
        "model.compile('adam','mse')"
      ],
      "metadata": {
        "colab": {
          "base_uri": "https://localhost:8080/"
        },
        "id": "J2vyFug8BV1A",
        "outputId": "3370f6b6-d1cc-49c1-9c30-7e0cbfb0d6f4"
      },
      "execution_count": 27,
      "outputs": [
        {
          "output_type": "stream",
          "name": "stderr",
          "text": [
            "/usr/local/lib/python3.11/dist-packages/keras/src/layers/core/embedding.py:90: UserWarning: Argument `input_length` is deprecated. Just remove it.\n",
            "  warnings.warn(\n"
          ]
        }
      ]
    },
    {
      "cell_type": "code",
      "source": [
        "model.summary()"
      ],
      "metadata": {
        "colab": {
          "base_uri": "https://localhost:8080/",
          "height": 161
        },
        "id": "mFxbitMpBXTW",
        "outputId": "30d85583-aa77-4266-e97a-cb4aace89051"
      },
      "execution_count": 28,
      "outputs": [
        {
          "output_type": "display_data",
          "data": {
            "text/plain": [
              "\u001b[1mModel: \"sequential_1\"\u001b[0m\n"
            ],
            "text/html": [
              "<pre style=\"white-space:pre;overflow-x:auto;line-height:normal;font-family:Menlo,'DejaVu Sans Mono',consolas,'Courier New',monospace\"><span style=\"font-weight: bold\">Model: \"sequential_1\"</span>\n",
              "</pre>\n"
            ]
          },
          "metadata": {}
        },
        {
          "output_type": "display_data",
          "data": {
            "text/plain": [
              "┏━━━━━━━━━━━━━━━━━━━━━━━━━━━━━━━━━━━━━━┳━━━━━━━━━━━━━━━━━━━━━━━━━━━━━┳━━━━━━━━━━━━━━━━━┓\n",
              "┃\u001b[1m \u001b[0m\u001b[1mLayer (type)                        \u001b[0m\u001b[1m \u001b[0m┃\u001b[1m \u001b[0m\u001b[1mOutput Shape               \u001b[0m\u001b[1m \u001b[0m┃\u001b[1m \u001b[0m\u001b[1m        Param #\u001b[0m\u001b[1m \u001b[0m┃\n",
              "┡━━━━━━━━━━━━━━━━━━━━━━━━━━━━━━━━━━━━━━╇━━━━━━━━━━━━━━━━━━━━━━━━━━━━━╇━━━━━━━━━━━━━━━━━┩\n",
              "│ embedding_1 (\u001b[38;5;33mEmbedding\u001b[0m)              │ ?                           │     \u001b[38;5;34m0\u001b[0m (unbuilt) │\n",
              "└──────────────────────────────────────┴─────────────────────────────┴─────────────────┘\n"
            ],
            "text/html": [
              "<pre style=\"white-space:pre;overflow-x:auto;line-height:normal;font-family:Menlo,'DejaVu Sans Mono',consolas,'Courier New',monospace\">┏━━━━━━━━━━━━━━━━━━━━━━━━━━━━━━━━━━━━━━┳━━━━━━━━━━━━━━━━━━━━━━━━━━━━━┳━━━━━━━━━━━━━━━━━┓\n",
              "┃<span style=\"font-weight: bold\"> Layer (type)                         </span>┃<span style=\"font-weight: bold\"> Output Shape                </span>┃<span style=\"font-weight: bold\">         Param # </span>┃\n",
              "┡━━━━━━━━━━━━━━━━━━━━━━━━━━━━━━━━━━━━━━╇━━━━━━━━━━━━━━━━━━━━━━━━━━━━━╇━━━━━━━━━━━━━━━━━┩\n",
              "│ embedding_1 (<span style=\"color: #0087ff; text-decoration-color: #0087ff\">Embedding</span>)              │ ?                           │     <span style=\"color: #00af00; text-decoration-color: #00af00\">0</span> (unbuilt) │\n",
              "└──────────────────────────────────────┴─────────────────────────────┴─────────────────┘\n",
              "</pre>\n"
            ]
          },
          "metadata": {}
        },
        {
          "output_type": "display_data",
          "data": {
            "text/plain": [
              "\u001b[1m Total params: \u001b[0m\u001b[38;5;34m0\u001b[0m (0.00 B)\n"
            ],
            "text/html": [
              "<pre style=\"white-space:pre;overflow-x:auto;line-height:normal;font-family:Menlo,'DejaVu Sans Mono',consolas,'Courier New',monospace\"><span style=\"font-weight: bold\"> Total params: </span><span style=\"color: #00af00; text-decoration-color: #00af00\">0</span> (0.00 B)\n",
              "</pre>\n"
            ]
          },
          "metadata": {}
        },
        {
          "output_type": "display_data",
          "data": {
            "text/plain": [
              "\u001b[1m Trainable params: \u001b[0m\u001b[38;5;34m0\u001b[0m (0.00 B)\n"
            ],
            "text/html": [
              "<pre style=\"white-space:pre;overflow-x:auto;line-height:normal;font-family:Menlo,'DejaVu Sans Mono',consolas,'Courier New',monospace\"><span style=\"font-weight: bold\"> Trainable params: </span><span style=\"color: #00af00; text-decoration-color: #00af00\">0</span> (0.00 B)\n",
              "</pre>\n"
            ]
          },
          "metadata": {}
        },
        {
          "output_type": "display_data",
          "data": {
            "text/plain": [
              "\u001b[1m Non-trainable params: \u001b[0m\u001b[38;5;34m0\u001b[0m (0.00 B)\n"
            ],
            "text/html": [
              "<pre style=\"white-space:pre;overflow-x:auto;line-height:normal;font-family:Menlo,'DejaVu Sans Mono',consolas,'Courier New',monospace\"><span style=\"font-weight: bold\"> Non-trainable params: </span><span style=\"color: #00af00; text-decoration-color: #00af00\">0</span> (0.00 B)\n",
              "</pre>\n"
            ]
          },
          "metadata": {}
        }
      ]
    },
    {
      "cell_type": "code",
      "source": [
        "embedded_docs[0]"
      ],
      "metadata": {
        "colab": {
          "base_uri": "https://localhost:8080/"
        },
        "id": "bT4DeF_2Cba5",
        "outputId": "49349a98-da1f-44a4-d493-36b233edc0ee"
      },
      "execution_count": 30,
      "outputs": [
        {
          "output_type": "execute_result",
          "data": {
            "text/plain": [
              "array([  0,   0,   0,   0, 366, 337, 158, 300], dtype=int32)"
            ]
          },
          "metadata": {},
          "execution_count": 30
        }
      ]
    },
    {
      "cell_type": "code",
      "source": [
        "model.predict(embedded_docs[0]).shape"
      ],
      "metadata": {
        "colab": {
          "base_uri": "https://localhost:8080/"
        },
        "id": "qMi8FzBkC1CG",
        "outputId": "df2f3d00-29a5-4301-a0c9-a677fe509238"
      },
      "execution_count": 32,
      "outputs": [
        {
          "output_type": "stream",
          "name": "stdout",
          "text": [
            "\u001b[1m1/1\u001b[0m \u001b[32m━━━━━━━━━━━━━━━━━━━━\u001b[0m\u001b[37m\u001b[0m \u001b[1m0s\u001b[0m 37ms/step\n"
          ]
        },
        {
          "output_type": "execute_result",
          "data": {
            "text/plain": [
              "(8, 10)"
            ]
          },
          "metadata": {},
          "execution_count": 32
        }
      ]
    },
    {
      "cell_type": "code",
      "source": [
        "model.predict(embedded_docs[0])"
      ],
      "metadata": {
        "colab": {
          "base_uri": "https://localhost:8080/"
        },
        "id": "TFIeVCOJCvwz",
        "outputId": "67fcd26e-afe8-4b94-c062-0b0e212becf0"
      },
      "execution_count": 31,
      "outputs": [
        {
          "output_type": "stream",
          "name": "stdout",
          "text": [
            "\u001b[1m1/1\u001b[0m \u001b[32m━━━━━━━━━━━━━━━━━━━━\u001b[0m\u001b[37m\u001b[0m \u001b[1m0s\u001b[0m 310ms/step\n"
          ]
        },
        {
          "output_type": "execute_result",
          "data": {
            "text/plain": [
              "array([[-0.00535621,  0.02441226,  0.03504497,  0.03434651, -0.01607971,\n",
              "         0.04013875,  0.02607943, -0.04653217,  0.0307143 ,  0.04867481],\n",
              "       [-0.00535621,  0.02441226,  0.03504497,  0.03434651, -0.01607971,\n",
              "         0.04013875,  0.02607943, -0.04653217,  0.0307143 ,  0.04867481],\n",
              "       [-0.00535621,  0.02441226,  0.03504497,  0.03434651, -0.01607971,\n",
              "         0.04013875,  0.02607943, -0.04653217,  0.0307143 ,  0.04867481],\n",
              "       [-0.00535621,  0.02441226,  0.03504497,  0.03434651, -0.01607971,\n",
              "         0.04013875,  0.02607943, -0.04653217,  0.0307143 ,  0.04867481],\n",
              "       [ 0.0045298 , -0.02498684,  0.01710642, -0.00817401, -0.02299626,\n",
              "        -0.03960695,  0.03592752,  0.04486774, -0.01767631, -0.0391633 ],\n",
              "       [-0.04834404,  0.02487589, -0.04648942, -0.04920632,  0.03282614,\n",
              "        -0.04402144, -0.04964077, -0.04768776,  0.03593322,  0.03410617],\n",
              "       [ 0.04050321, -0.02292818, -0.04965336, -0.04762937, -0.03717884,\n",
              "         0.03386403,  0.00699116, -0.04110593,  0.00324805,  0.04567892],\n",
              "       [ 0.00218265,  0.02167979,  0.0496094 ,  0.03917286,  0.02352692,\n",
              "        -0.01791175, -0.0307554 , -0.02649194, -0.03966903,  0.00617582]],\n",
              "      dtype=float32)"
            ]
          },
          "metadata": {},
          "execution_count": 31
        }
      ]
    },
    {
      "cell_type": "code",
      "source": [
        "for x in embedded_docs:\n",
        "  print(model.predict(x))"
      ],
      "metadata": {
        "colab": {
          "base_uri": "https://localhost:8080/"
        },
        "id": "uGmOvdZODDNx",
        "outputId": "d5e1b3fe-6e19-4815-ef61-4ebf86b43e5e"
      },
      "execution_count": 37,
      "outputs": [
        {
          "output_type": "stream",
          "name": "stdout",
          "text": [
            "\u001b[1m1/1\u001b[0m \u001b[32m━━━━━━━━━━━━━━━━━━━━\u001b[0m\u001b[37m\u001b[0m \u001b[1m0s\u001b[0m 38ms/step\n",
            "[[-0.00535621  0.02441226  0.03504497  0.03434651 -0.01607971  0.04013875\n",
            "   0.02607943 -0.04653217  0.0307143   0.04867481]\n",
            " [-0.00535621  0.02441226  0.03504497  0.03434651 -0.01607971  0.04013875\n",
            "   0.02607943 -0.04653217  0.0307143   0.04867481]\n",
            " [-0.00535621  0.02441226  0.03504497  0.03434651 -0.01607971  0.04013875\n",
            "   0.02607943 -0.04653217  0.0307143   0.04867481]\n",
            " [-0.00535621  0.02441226  0.03504497  0.03434651 -0.01607971  0.04013875\n",
            "   0.02607943 -0.04653217  0.0307143   0.04867481]\n",
            " [ 0.0045298  -0.02498684  0.01710642 -0.00817401 -0.02299626 -0.03960695\n",
            "   0.03592752  0.04486774 -0.01767631 -0.0391633 ]\n",
            " [-0.04834404  0.02487589 -0.04648942 -0.04920632  0.03282614 -0.04402144\n",
            "  -0.04964077 -0.04768776  0.03593322  0.03410617]\n",
            " [ 0.04050321 -0.02292818 -0.04965336 -0.04762937 -0.03717884  0.03386403\n",
            "   0.00699116 -0.04110593  0.00324805  0.04567892]\n",
            " [ 0.00218265  0.02167979  0.0496094   0.03917286  0.02352692 -0.01791175\n",
            "  -0.0307554  -0.02649194 -0.03966903  0.00617582]]\n",
            "\u001b[1m1/1\u001b[0m \u001b[32m━━━━━━━━━━━━━━━━━━━━\u001b[0m\u001b[37m\u001b[0m \u001b[1m0s\u001b[0m 38ms/step\n",
            "[[-0.00535621  0.02441226  0.03504497  0.03434651 -0.01607971  0.04013875\n",
            "   0.02607943 -0.04653217  0.0307143   0.04867481]\n",
            " [-0.00535621  0.02441226  0.03504497  0.03434651 -0.01607971  0.04013875\n",
            "   0.02607943 -0.04653217  0.0307143   0.04867481]\n",
            " [-0.00535621  0.02441226  0.03504497  0.03434651 -0.01607971  0.04013875\n",
            "   0.02607943 -0.04653217  0.0307143   0.04867481]\n",
            " [-0.00535621  0.02441226  0.03504497  0.03434651 -0.01607971  0.04013875\n",
            "   0.02607943 -0.04653217  0.0307143   0.04867481]\n",
            " [ 0.0045298  -0.02498684  0.01710642 -0.00817401 -0.02299626 -0.03960695\n",
            "   0.03592752  0.04486774 -0.01767631 -0.0391633 ]\n",
            " [-0.04834404  0.02487589 -0.04648942 -0.04920632  0.03282614 -0.04402144\n",
            "  -0.04964077 -0.04768776  0.03593322  0.03410617]\n",
            " [ 0.04050321 -0.02292818 -0.04965336 -0.04762937 -0.03717884  0.03386403\n",
            "   0.00699116 -0.04110593  0.00324805  0.04567892]\n",
            " [ 0.02625508 -0.03201054  0.04380553 -0.04256414  0.0132626   0.0231528\n",
            "   0.04216032  0.01966583 -0.02324918 -0.04635425]]\n",
            "\u001b[1m1/1\u001b[0m \u001b[32m━━━━━━━━━━━━━━━━━━━━\u001b[0m\u001b[37m\u001b[0m \u001b[1m0s\u001b[0m 39ms/step\n",
            "[[-0.00535621  0.02441226  0.03504497  0.03434651 -0.01607971  0.04013875\n",
            "   0.02607943 -0.04653217  0.0307143   0.04867481]\n",
            " [-0.00535621  0.02441226  0.03504497  0.03434651 -0.01607971  0.04013875\n",
            "   0.02607943 -0.04653217  0.0307143   0.04867481]\n",
            " [-0.00535621  0.02441226  0.03504497  0.03434651 -0.01607971  0.04013875\n",
            "   0.02607943 -0.04653217  0.0307143   0.04867481]\n",
            " [-0.00535621  0.02441226  0.03504497  0.03434651 -0.01607971  0.04013875\n",
            "   0.02607943 -0.04653217  0.0307143   0.04867481]\n",
            " [ 0.0045298  -0.02498684  0.01710642 -0.00817401 -0.02299626 -0.03960695\n",
            "   0.03592752  0.04486774 -0.01767631 -0.0391633 ]\n",
            " [ 0.01700819 -0.00268615 -0.03341279 -0.00497197  0.03370495  0.04424653\n",
            "   0.03513682 -0.04879529 -0.02049649  0.04458269]\n",
            " [ 0.04050321 -0.02292818 -0.04965336 -0.04762937 -0.03717884  0.03386403\n",
            "   0.00699116 -0.04110593  0.00324805  0.04567892]\n",
            " [ 0.01761161  0.02445998 -0.00183494  0.04255599  0.03483358 -0.04627907\n",
            "   0.0282453   0.01155826 -0.01465826  0.03988263]]\n",
            "\u001b[1m1/1\u001b[0m \u001b[32m━━━━━━━━━━━━━━━━━━━━\u001b[0m\u001b[37m\u001b[0m \u001b[1m0s\u001b[0m 38ms/step\n",
            "[[-0.00535621  0.02441226  0.03504497  0.03434651 -0.01607971  0.04013875\n",
            "   0.02607943 -0.04653217  0.0307143   0.04867481]\n",
            " [-0.00535621  0.02441226  0.03504497  0.03434651 -0.01607971  0.04013875\n",
            "   0.02607943 -0.04653217  0.0307143   0.04867481]\n",
            " [-0.00535621  0.02441226  0.03504497  0.03434651 -0.01607971  0.04013875\n",
            "   0.02607943 -0.04653217  0.0307143   0.04867481]\n",
            " [-0.02252438 -0.03082352 -0.02950007 -0.02836504  0.03435243  0.03067669\n",
            "   0.01283031 -0.00816881  0.03459532  0.01360997]\n",
            " [-0.04715288 -0.03408942 -0.01265409 -0.04532856  0.00715686 -0.00940954\n",
            "  -0.00379394  0.01040949  0.04950554 -0.01504504]\n",
            " [ 0.01920202 -0.01871886 -0.01572011  0.01469221  0.00408658 -0.03422207\n",
            "   0.01228946  0.0100049  -0.02985661 -0.0111959 ]\n",
            " [-0.02637942  0.03670759 -0.0263094   0.04265977  0.00411625 -0.02717067\n",
            "  -0.00985356  0.00970194 -0.02012562 -0.00426694]\n",
            " [-0.00346644 -0.03778994  0.01203571  0.00732589 -0.01538761  0.02390397\n",
            "   0.00641336  0.02235809 -0.0233245   0.02862439]]\n",
            "\u001b[1m1/1\u001b[0m \u001b[32m━━━━━━━━━━━━━━━━━━━━\u001b[0m\u001b[37m\u001b[0m \u001b[1m0s\u001b[0m 37ms/step\n",
            "[[-0.00535621  0.02441226  0.03504497  0.03434651 -0.01607971  0.04013875\n",
            "   0.02607943 -0.04653217  0.0307143   0.04867481]\n",
            " [-0.00535621  0.02441226  0.03504497  0.03434651 -0.01607971  0.04013875\n",
            "   0.02607943 -0.04653217  0.0307143   0.04867481]\n",
            " [-0.00535621  0.02441226  0.03504497  0.03434651 -0.01607971  0.04013875\n",
            "   0.02607943 -0.04653217  0.0307143   0.04867481]\n",
            " [-0.02252438 -0.03082352 -0.02950007 -0.02836504  0.03435243  0.03067669\n",
            "   0.01283031 -0.00816881  0.03459532  0.01360997]\n",
            " [-0.04715288 -0.03408942 -0.01265409 -0.04532856  0.00715686 -0.00940954\n",
            "  -0.00379394  0.01040949  0.04950554 -0.01504504]\n",
            " [ 0.01920202 -0.01871886 -0.01572011  0.01469221  0.00408658 -0.03422207\n",
            "   0.01228946  0.0100049  -0.02985661 -0.0111959 ]\n",
            " [-0.02637942  0.03670759 -0.0263094   0.04265977  0.00411625 -0.02717067\n",
            "  -0.00985356  0.00970194 -0.02012562 -0.00426694]\n",
            " [-0.03111304  0.01826018 -0.0147335   0.04601641  0.00376393  0.02796907\n",
            "   0.00989549  0.02964776  0.02004013 -0.0364214 ]]\n",
            "\u001b[1m1/1\u001b[0m \u001b[32m━━━━━━━━━━━━━━━━━━━━\u001b[0m\u001b[37m\u001b[0m \u001b[1m0s\u001b[0m 38ms/step\n",
            "[[-0.00535621  0.02441226  0.03504497  0.03434651 -0.01607971  0.04013875\n",
            "   0.02607943 -0.04653217  0.0307143   0.04867481]\n",
            " [-0.00535621  0.02441226  0.03504497  0.03434651 -0.01607971  0.04013875\n",
            "   0.02607943 -0.04653217  0.0307143   0.04867481]\n",
            " [-0.00535621  0.02441226  0.03504497  0.03434651 -0.01607971  0.04013875\n",
            "   0.02607943 -0.04653217  0.0307143   0.04867481]\n",
            " [-0.00665491 -0.04106995 -0.04618155  0.03473314  0.0385145  -0.02183596\n",
            "   0.03194718  0.00622203 -0.0282283  -0.01795487]\n",
            " [ 0.0045298  -0.02498684  0.01710642 -0.00817401 -0.02299626 -0.03960695\n",
            "   0.03592752  0.04486774 -0.01767631 -0.0391633 ]\n",
            " [ 0.04984622 -0.0025247   0.03234908 -0.04920669  0.01767185 -0.01445655\n",
            "  -0.01723404 -0.02419494  0.00695968  0.00988308]\n",
            " [ 0.04050321 -0.02292818 -0.04965336 -0.04762937 -0.03717884  0.03386403\n",
            "   0.00699116 -0.04110593  0.00324805  0.04567892]\n",
            " [-0.00140696 -0.03952365 -0.03824701 -0.03928817 -0.03092828 -0.01707292\n",
            "   0.0366088  -0.01040698  0.0314829   0.01775255]]\n",
            "\u001b[1m1/1\u001b[0m \u001b[32m━━━━━━━━━━━━━━━━━━━━\u001b[0m\u001b[37m\u001b[0m \u001b[1m0s\u001b[0m 40ms/step\n",
            "[[-0.00535621  0.02441226  0.03504497  0.03434651 -0.01607971  0.04013875\n",
            "   0.02607943 -0.04653217  0.0307143   0.04867481]\n",
            " [-0.00535621  0.02441226  0.03504497  0.03434651 -0.01607971  0.04013875\n",
            "   0.02607943 -0.04653217  0.0307143   0.04867481]\n",
            " [-0.00535621  0.02441226  0.03504497  0.03434651 -0.01607971  0.04013875\n",
            "   0.02607943 -0.04653217  0.0307143   0.04867481]\n",
            " [-0.00535621  0.02441226  0.03504497  0.03434651 -0.01607971  0.04013875\n",
            "   0.02607943 -0.04653217  0.0307143   0.04867481]\n",
            " [ 0.00422163  0.00449623  0.03862944  0.00551679 -0.0424009   0.02851652\n",
            "   0.0382264  -0.03047123  0.03579131 -0.02348693]\n",
            " [ 0.03278733  0.04996471  0.04134322  0.0003265  -0.00936944  0.01184069\n",
            "  -0.01742238  0.03765846 -0.02689804 -0.04451635]\n",
            " [ 0.00431038  0.02065149  0.04760211  0.02533797  0.01280179  0.01329576\n",
            "  -0.03619917  0.01221056 -0.01190745  0.00594691]\n",
            " [-0.02637942  0.03670759 -0.0263094   0.04265977  0.00411625 -0.02717067\n",
            "  -0.00985356  0.00970194 -0.02012562 -0.00426694]]\n"
          ]
        }
      ]
    }
  ]
}