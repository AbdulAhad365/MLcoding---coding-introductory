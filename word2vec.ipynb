{
 "cells": [
  {
   "cell_type": "code",
   "execution_count": 9,
   "id": "d1a1cdd3-1c5b-46d0-8dc1-90faea18b0ea",
   "metadata": {},
   "outputs": [
    {
     "name": "stdout",
     "output_type": "stream",
     "text": [
      "[[0.         0.46979139 0.58028582 0.38408524 0.         0.\n",
      "  0.38408524 0.         0.38408524]\n",
      " [0.         0.6876236  0.         0.28108867 0.         0.53864762\n",
      "  0.28108867 0.         0.28108867]\n",
      " [0.51184851 0.         0.         0.26710379 0.51184851 0.\n",
      "  0.26710379 0.51184851 0.26710379]\n",
      " [0.         0.46979139 0.58028582 0.38408524 0.         0.\n",
      "  0.38408524 0.         0.38408524]]\n",
      "['and' 'document' 'first' 'is' 'one' 'second' 'the' 'third' 'this']\n"
     ]
    }
   ],
   "source": [
    "from sklearn.feature_extraction.text import TfidfVectorizer\n",
    "\n",
    "# Sample data\n",
    "corpus = [\n",
    "    'This is the first document.',\n",
    "    'This document is the second document.',\n",
    "    'And this is the third one s.',\n",
    "    'Is this the first document ?',\n",
    "]\n",
    "\n",
    "# Initialize the TfidfVectorizer\n",
    "vectorizer = TfidfVectorizer()\n",
    "\n",
    "# Fit and transform the corpus\n",
    "X = vectorizer.fit_transform(corpus)\n",
    "\n",
    "print(X.toarray())\n",
    "print(vectorizer.get_feature_names_out())"
   ]
  },
  {
   "cell_type": "code",
   "execution_count": 11,
   "id": "c6e0e7c3-bcf7-4611-a77a-1e63b42902e9",
   "metadata": {},
   "outputs": [
    {
     "name": "stdout",
     "output_type": "stream",
     "text": [
      "[-0.00870223  0.00372817  0.00522117  0.00576825  0.0074742  -0.00620182\n",
      "  0.00121883  0.00612509 -0.00292751 -0.00626837 -0.00034922 -0.00840448\n",
      " -0.00560951  0.00711158  0.00338634  0.00718928  0.00689334  0.00756231\n",
      " -0.00390094 -0.00064594  0.00233342 -0.00452923  0.0085953  -0.00985013\n",
      "  0.00673895  0.00293595 -0.00492059  0.00436784 -0.00176822  0.00675391\n",
      "  0.01007469 -0.00441128 -0.00064006 -0.00576131  0.00382882  0.0028922\n",
      "  0.00694939  0.00608649  0.00952418  0.00925868  0.0080157  -0.0070486\n",
      " -0.00917897 -0.00041138 -0.00304128  0.00796485  0.00590606 -0.00156128\n",
      "  0.00148593  0.00176795  0.00785201 -0.00963334 -0.00025679  0.00345832\n",
      " -0.00106111  0.00836403  0.00908099  0.00650124 -0.00076522  0.0076396\n",
      " -0.00852293  0.00318758 -0.00451556 -0.00514619  0.00358585  0.00544245\n",
      "  0.00775374 -0.00571036  0.00732865  0.00655274 -0.00370101 -0.00870021\n",
      "  0.00550346  0.00663761 -0.00078753 -0.00675159 -0.00713139 -0.00244437\n",
      "  0.00509725 -0.00365596 -0.00937766  0.00376807  0.00491311 -0.00645491\n",
      "  0.00119837 -0.00218277  0.00011285 -0.00990372  0.00265892 -0.00477862\n",
      "  0.00107655 -0.00153766  0.00215836 -0.00794236 -0.00258439  0.00273618\n",
      "  0.00543046 -0.00251007 -0.00951549  0.00447804]\n"
     ]
    }
   ],
   "source": [
    "from gensim.models import Word2Vec\n",
    "\n",
    "# Sample data\n",
    "sentences = [\n",
    "    ['this', 'is', 'the', 'first', 'document'],\n",
    "    ['this', 'document', 'is', 'the', 'second', 'document'],\n",
    "    ['and', 'this', 'is', 'the', 'third', 'one'],\n",
    "    ['is', 'this', 'the', 'first', 'document']\n",
    "]\n",
    "\n",
    "# Initialize the Word2Vec model\n",
    "model = Word2Vec(sentences, vector_size=100, window=5, min_count=1, workers=4)\n",
    "\n",
    "# Train the model\n",
    "model.train(sentences, total_examples=len(sentences), epochs=100)\n",
    "\n",
    "# Get vector for a word\n",
    "print(model.wv['the'])\n"
   ]
  },
  {
   "cell_type": "code",
   "execution_count": 9,
   "id": "e3b7d888-5f4e-4c7a-b6ef-15363c0fdad2",
   "metadata": {},
   "outputs": [
    {
     "ename": "TypeError",
     "evalue": "'Word2Vec' object is not subscriptable",
     "output_type": "error",
     "traceback": [
      "\u001b[1;31m---------------------------------------------------------------------------\u001b[0m",
      "\u001b[1;31mTypeError\u001b[0m                                 Traceback (most recent call last)",
      "Cell \u001b[1;32mIn[9], line 2\u001b[0m\n\u001b[0;32m      1\u001b[0m \u001b[38;5;66;03m# model.most_similar('document')\u001b[39;00m\n\u001b[1;32m----> 2\u001b[0m model[\u001b[38;5;124m'\u001b[39m\u001b[38;5;124mdocument\u001b[39m\u001b[38;5;124m'\u001b[39m]\n",
      "\u001b[1;31mTypeError\u001b[0m: 'Word2Vec' object is not subscriptable"
     ]
    }
   ],
   "source": [
    "# model.most_similar('document')\n",
    "model['document']"
   ]
  },
  {
   "cell_type": "code",
   "execution_count": 13,
   "id": "2a7cce7c-a830-4064-973a-4f99c71c8cfd",
   "metadata": {},
   "outputs": [
    {
     "name": "stdout",
     "output_type": "stream",
     "text": [
      "Words: ['document', 'the', 'is', 'this', 'first', 'one', 'third', 'and', 'second']\n",
      "Similarity Matrix:\n",
      " [[ 1.         -0.00341676 -0.03997204 -0.10109372 -0.02542775 -0.05069494\n",
      "   0.02424364  0.09672813  0.03304081]\n",
      " [-0.00341676  1.         -0.01669158  0.07650959  0.0057529   0.01792324\n",
      "  -0.10318816 -0.1108029   0.04048228]\n",
      " [-0.03997204 -0.01669158  1.         -0.00400032  0.17068209  0.07236873\n",
      "   0.15436295  0.00261657  0.2041591 ]\n",
      " [-0.10109372  0.07650959 -0.00400032  1.         -0.0427839   0.14026228\n",
      "   0.04952662 -0.00845933  0.08446165]\n",
      " [-0.02542775  0.0057529   0.17068209 -0.0427839   1.          0.13947508\n",
      "   0.03587789 -0.02702585 -0.06778997]\n",
      " [-0.05069494  0.01792324  0.07236873  0.14026228  0.13947508  1.\n",
      "   0.02836691 -0.05150887  0.06800029]\n",
      " [ 0.02424364 -0.10318816  0.15436295  0.04952662  0.03587789  0.02836691\n",
      "   1.          0.01015933  0.01561676]\n",
      " [ 0.09672813 -0.1108029   0.00261657 -0.00845933 -0.02702585 -0.05150887\n",
      "   0.01015933  1.         -0.14036043]\n",
      " [ 0.03304081  0.04048228  0.2041591   0.08446165 -0.06778997  0.06800029\n",
      "   0.01561676 -0.14036043  1.        ]]\n"
     ]
    }
   ],
   "source": [
    "import numpy as np\n",
    "\n",
    "# Get all words in the vocabulary\n",
    "words = model.wv.index_to_key\n",
    "\n",
    "# Create an empty similarity matrix\n",
    "similarity_matrix = np.zeros((len(words), len(words)))\n",
    "\n",
    "# Compute cosine similarity between all word vectors\n",
    "for i, word1 in enumerate(words):\n",
    "    for j, word2 in enumerate(words):\n",
    "        similarity_matrix[i][j] = model.wv.similarity(word1, word2)\n",
    "\n",
    "# Print words used in comparison\n",
    "print(\"Words:\", words)\n",
    "\n",
    "# Print similarity matrix\n",
    "print(\"Similarity Matrix:\\n\", similarity_matrix)\n"
   ]
  },
  {
   "cell_type": "code",
   "execution_count": 15,
   "id": "d910a4b7-cc9a-4b7d-905b-ea47afcbc52d",
   "metadata": {},
   "outputs": [
    {
     "data": {
      "text/plain": [
       "(9, 9)"
      ]
     },
     "execution_count": 15,
     "metadata": {},
     "output_type": "execute_result"
    }
   ],
   "source": [
    "similarity_matrix.shape"
   ]
  },
  {
   "cell_type": "code",
   "execution_count": 21,
   "id": "d545ed65-79db-46bd-8e6c-e332d3859fab",
   "metadata": {},
   "outputs": [],
   "source": [
    "arr=np.zeros((len(words),len(words)))\n",
    "# arr=np.zeros((len(words), len(words)))\n",
    "\n",
    "# one word similarity to the other word"
   ]
  },
  {
   "cell_type": "code",
   "execution_count": null,
   "id": "d65cdea9-b470-4cd0-b835-877db4a17d17",
   "metadata": {},
   "outputs": [],
   "source": []
  }
 ],
 "metadata": {
  "kernelspec": {
   "display_name": "Python 3 (ipykernel)",
   "language": "python",
   "name": "python3"
  },
  "language_info": {
   "codemirror_mode": {
    "name": "ipython",
    "version": 3
   },
   "file_extension": ".py",
   "mimetype": "text/x-python",
   "name": "python",
   "nbconvert_exporter": "python",
   "pygments_lexer": "ipython3",
   "version": "3.12.7"
  }
 },
 "nbformat": 4,
 "nbformat_minor": 5
}
